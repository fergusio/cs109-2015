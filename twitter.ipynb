{
 "cells": [
  {
   "cell_type": "code",
   "execution_count": 27,
   "metadata": {
    "collapsed": true
   },
   "outputs": [],
   "source": [
    "%matplotlib inline\n",
    "import matplotlib.pyplot as plt\n",
    "\n",
    "import seaborn as sns\n",
    "from IPython import display\n",
    "\n",
    "import pandas as pd\n",
    "import twitter"
   ]
  },
  {
   "cell_type": "markdown",
   "metadata": {},
   "source": [
    "A basic twitter grab and do something. \n",
    "\n",
    "## make a twitter dev account and get api keys\n",
    "\n",
    "First, we need access to the twitter api, which one gets over at [twitter's dev site](https://dev.twitter.com/). Sign up as a dev, then [go to the twitter apps site](https://apps.twitter.com/) and click create a new app. This gives you four, yes four thingamjigs u need to access the API. Why four? why can't it just one thing? \n",
    "\n",
    "Now this notebook is in github, so step 1 is to put all four of the secret codes in a file which doesn't get uploaded to github. Twitter has a [built in module called configparser](https://docs.python.org/3/library/configparser.html) which parses config files, so I have a config.ini txt file which looks like:\n",
    "\n",
    "```\n",
    "[twitter]\n",
    "\n",
    "c_key = this_is_a_fake_to_be_replaced_by_real_thingamajig\n",
    "c_secret = this_is_a_fake_to_be_replaced_by_real_thingamajig \n",
    "\n",
    "a_token = this_is_a_fake_to_be_replaced_by_real_thingamajig\n",
    "a_secret = this_is_a_fake_to_be_replaced_by_real_thingamajig\n",
    "```\n",
    "\n",
    "### Now to read the keys into our python script/notebook"
   ]
  },
  {
   "cell_type": "code",
   "execution_count": 17,
   "metadata": {},
   "outputs": [
    {
     "name": "stdout",
     "output_type": "stream",
     "text": [
      "The config file has the following sections: ['twitter']\n"
     ]
    },
    {
     "data": {
      "text/plain": [
       "['c_key', 'c_secret', 'a_token', 'a_secret']"
      ]
     },
     "execution_count": 17,
     "metadata": {},
     "output_type": "execute_result"
    }
   ],
   "source": [
    "# api keys are in config.ini to keep them outside of this public notebook\n",
    "import configparser\n",
    "config = configparser.ConfigParser()\n",
    "config.read('config.ini')\n",
    "\n",
    "print(f'The config file has the following sections: {config.sections()}')\n",
    "\n",
    "if \"twitter\" in config:\n",
    "    twit = config['twitter']\n",
    "\n",
    "# check to see if we got all the keys needed to access the twitter api\n",
    "[key for key in twit]"
   ]
  },
  {
   "cell_type": "markdown",
   "metadata": {},
   "source": [
    "## using python to access the twitter api\n",
    "\n",
    "Now, there are many [twitter api libraries](https://dev.twitter.com/resources/twitter-libraries) but \n",
    "I'm using the [python-twitter module](https://github.com/bear/python-twitter), just cause it seems popular and is the first one listed under python libraries."
   ]
  },
  {
   "cell_type": "code",
   "execution_count": 26,
   "metadata": {},
   "outputs": [
    {
     "data": {
      "text/plain": [
       "User(ID=7914, ScreenName=KO)"
      ]
     },
     "execution_count": 26,
     "metadata": {},
     "output_type": "execute_result"
    }
   ],
   "source": [
    "## define the necessary keys\n",
    "cKey = twit[\"c_key\"]\n",
    "cSecret = twit[\"c_secret\"]\n",
    "aKey = twit[\"a_token\"]\n",
    "aSecret = twit[\"a_secret\"]\n",
    "\n",
    "## create the api object with the twitter-python library\n",
    "api = twitter.Api(consumer_key=cKey,\n",
    "                  consumer_secret=cSecret,\n",
    "                  access_token_key=aKey,\n",
    "                  access_token_secret=aSecret)\n",
    "api.VerifyCredentials()"
   ]
  },
  {
   "cell_type": "markdown",
   "metadata": {},
   "source": [
    "All right! we have a succesful api connection to twitter!\n",
    "\n",
    "### get tweets from a user\n",
    "\n",
    "this grabs the tweets alongs with a bunch of metadata for each tweet:"
   ]
  },
  {
   "cell_type": "code",
   "execution_count": 111,
   "metadata": {},
   "outputs": [
    {
     "name": "stdout",
     "output_type": "stream",
     "text": [
      "so we got 20 statuses, printing the first:\n"
     ]
    },
    {
     "data": {
      "text/plain": [
       "Status(ID=895087330561675264, ScreenName=KO, Created=Wed Aug 09 01:00:24 +0000 2017, Text='@ahmadomar55 @abido \\n\\nyour iPhone is about get very dated: https://t.co/sxH8Dc1Ev1 https://t.co/knpDHcHtEh')"
      ]
     },
     "execution_count": 111,
     "metadata": {},
     "output_type": "execute_result"
    }
   ],
   "source": [
    "## get the user timeline with screen_name = 'KO'\n",
    "statuses = api.GetUserTimeline(screen_name = 'KO')\n",
    "print(f\"so we got {len(statuses)} statuses, printing the first:\")\n",
    "status = [s for s in statuses][0]\n",
    "status"
   ]
  },
  {
   "cell_type": "markdown",
   "metadata": {},
   "source": [
    "So each status is a [class representing the twitter status object](http://python-twitter.readthedocs.io/en/latest/twitter.html#twitter.models.Status).\n",
    "\n",
    "Now, the status object can be resturned as a dictionary, which is handy since we can use that to build a pandas dataframe:"
   ]
  },
  {
   "cell_type": "code",
   "execution_count": 109,
   "metadata": {},
   "outputs": [
    {
     "data": {
      "text/html": [
       "<div>\n",
       "<style>\n",
       "    .dataframe thead tr:only-child th {\n",
       "        text-align: right;\n",
       "    }\n",
       "\n",
       "    .dataframe thead th {\n",
       "        text-align: left;\n",
       "    }\n",
       "\n",
       "    .dataframe tbody tr th {\n",
       "        vertical-align: top;\n",
       "    }\n",
       "</style>\n",
       "<table border=\"1\" class=\"dataframe\">\n",
       "  <thead>\n",
       "    <tr style=\"text-align: right;\">\n",
       "      <th></th>\n",
       "      <th>created_at</th>\n",
       "      <th>favorite_count</th>\n",
       "      <th>favorited</th>\n",
       "      <th>hashtags</th>\n",
       "      <th>id</th>\n",
       "      <th>id_str</th>\n",
       "      <th>in_reply_to_screen_name</th>\n",
       "      <th>in_reply_to_status_id</th>\n",
       "      <th>in_reply_to_user_id</th>\n",
       "      <th>lang</th>\n",
       "      <th>...</th>\n",
       "      <th>quoted_status_id</th>\n",
       "      <th>quoted_status_id_str</th>\n",
       "      <th>retweet_count</th>\n",
       "      <th>retweeted</th>\n",
       "      <th>retweeted_status</th>\n",
       "      <th>source</th>\n",
       "      <th>text</th>\n",
       "      <th>urls</th>\n",
       "      <th>user</th>\n",
       "      <th>user_mentions</th>\n",
       "    </tr>\n",
       "  </thead>\n",
       "  <tbody>\n",
       "    <tr>\n",
       "      <th>0</th>\n",
       "      <td>Sat Aug 05 01:08:43 +0000 2017</td>\n",
       "      <td>NaN</td>\n",
       "      <td>NaN</td>\n",
       "      <td>[]</td>\n",
       "      <td>893639875223666688</td>\n",
       "      <td>893639875223666688</td>\n",
       "      <td>sharmeenalikhan</td>\n",
       "      <td>8.935853e+17</td>\n",
       "      <td>321927176.0</td>\n",
       "      <td>en</td>\n",
       "      <td>...</td>\n",
       "      <td>NaN</td>\n",
       "      <td>NaN</td>\n",
       "      <td>NaN</td>\n",
       "      <td>NaN</td>\n",
       "      <td>NaN</td>\n",
       "      <td>&lt;a href=\"http://twitter.com/download/android\" ...</td>\n",
       "      <td>@sharmeenalikhan That's how I felt when the Mo...</td>\n",
       "      <td>[]</td>\n",
       "      <td>{'created_at': 'Tue Oct 10 08:35:25 +0000 2006...</td>\n",
       "      <td>[{'id': 321927176, 'name': 'sharmeen', 'screen...</td>\n",
       "    </tr>\n",
       "    <tr>\n",
       "      <th>1</th>\n",
       "      <td>Sat Aug 05 01:08:04 +0000 2017</td>\n",
       "      <td>NaN</td>\n",
       "      <td>True</td>\n",
       "      <td>[]</td>\n",
       "      <td>893639709515108353</td>\n",
       "      <td>893639709515108353</td>\n",
       "      <td>NaN</td>\n",
       "      <td>NaN</td>\n",
       "      <td>NaN</td>\n",
       "      <td>en</td>\n",
       "      <td>...</td>\n",
       "      <td>8.936198e+17</td>\n",
       "      <td>893619762760167424</td>\n",
       "      <td>3.0</td>\n",
       "      <td>True</td>\n",
       "      <td>{'created_at': 'Fri Aug 04 23:50:35 +0000 2017...</td>\n",
       "      <td>&lt;a href=\"http://twitter.com/download/android\" ...</td>\n",
       "      <td>RT @shakirhusain: Take a bow @afewmofilms http...</td>\n",
       "      <td>[{'expanded_url': 'https://twitter.com/godfath...</td>\n",
       "      <td>{'created_at': 'Tue Oct 10 08:35:25 +0000 2006...</td>\n",
       "      <td>[{'id': 88913700, 'name': 'Shakir Husain', 'sc...</td>\n",
       "    </tr>\n",
       "  </tbody>\n",
       "</table>\n",
       "<p>2 rows × 22 columns</p>\n",
       "</div>"
      ],
      "text/plain": [
       "                       created_at  favorite_count favorited hashtags  \\\n",
       "0  Sat Aug 05 01:08:43 +0000 2017             NaN       NaN       []   \n",
       "1  Sat Aug 05 01:08:04 +0000 2017             NaN      True       []   \n",
       "\n",
       "                   id              id_str in_reply_to_screen_name  \\\n",
       "0  893639875223666688  893639875223666688         sharmeenalikhan   \n",
       "1  893639709515108353  893639709515108353                     NaN   \n",
       "\n",
       "   in_reply_to_status_id  in_reply_to_user_id lang  \\\n",
       "0           8.935853e+17          321927176.0   en   \n",
       "1                    NaN                  NaN   en   \n",
       "\n",
       "                         ...                         quoted_status_id  \\\n",
       "0                        ...                                      NaN   \n",
       "1                        ...                             8.936198e+17   \n",
       "\n",
       "  quoted_status_id_str  retweet_count retweeted  \\\n",
       "0                  NaN            NaN       NaN   \n",
       "1   893619762760167424            3.0      True   \n",
       "\n",
       "                                    retweeted_status  \\\n",
       "0                                                NaN   \n",
       "1  {'created_at': 'Fri Aug 04 23:50:35 +0000 2017...   \n",
       "\n",
       "                                              source  \\\n",
       "0  <a href=\"http://twitter.com/download/android\" ...   \n",
       "1  <a href=\"http://twitter.com/download/android\" ...   \n",
       "\n",
       "                                                text  \\\n",
       "0  @sharmeenalikhan That's how I felt when the Mo...   \n",
       "1  RT @shakirhusain: Take a bow @afewmofilms http...   \n",
       "\n",
       "                                                urls  \\\n",
       "0                                                 []   \n",
       "1  [{'expanded_url': 'https://twitter.com/godfath...   \n",
       "\n",
       "                                                user  \\\n",
       "0  {'created_at': 'Tue Oct 10 08:35:25 +0000 2006...   \n",
       "1  {'created_at': 'Tue Oct 10 08:35:25 +0000 2006...   \n",
       "\n",
       "                                       user_mentions  \n",
       "0  [{'id': 321927176, 'name': 'sharmeen', 'screen...  \n",
       "1  [{'id': 88913700, 'name': 'Shakir Husain', 'sc...  \n",
       "\n",
       "[2 rows x 22 columns]"
      ]
     },
     "execution_count": 109,
     "metadata": {},
     "output_type": "execute_result"
    }
   ],
   "source": [
    "## create a data frame\n",
    "## first get a list of panda Series\n",
    "pdSeriesList = [pd.Series(t.AsDict()) for t in statuses]\n",
    "\n",
    "## then create the data frame\n",
    "data = pd.DataFrame(pdSeriesList)\n",
    "\n",
    "data.head(2)"
   ]
  },
  {
   "cell_type": "code",
   "execution_count": 103,
   "metadata": {},
   "outputs": [
    {
     "data": {
      "text/plain": [
       "Index(['created_at', 'favorite_count', 'favorited', 'hashtags', 'id', 'id_str',\n",
       "       'in_reply_to_screen_name', 'in_reply_to_status_id',\n",
       "       'in_reply_to_user_id', 'lang', 'quoted_status', 'quoted_status_id',\n",
       "       'quoted_status_id_str', 'retweet_count', 'retweeted',\n",
       "       'retweeted_status', 'source', 'text', 'truncated', 'urls', 'user',\n",
       "       'user_mentions'],\n",
       "      dtype='object')"
      ]
     },
     "execution_count": 103,
     "metadata": {},
     "output_type": "execute_result"
    }
   ],
   "source": [
    "data.columns"
   ]
  },
  {
   "cell_type": "markdown",
   "metadata": {},
   "source": [
    "## grabbing more tweets\n",
    "\n",
    "See [twitter timeline doc](https://dev.twitter.com/rest/public/timelines) - this says you can grab at most 200 tweets in one request, for a max of 3,200 tweets altogether.\n",
    "\n",
    "Now we only grabbed the first 20 tweets with the above, so we need a function which keeps making requests for tweets until we hit twitters 3,200 tweet limit:"
   ]
  },
  {
   "cell_type": "code",
   "execution_count": 161,
   "metadata": {},
   "outputs": [],
   "source": [
    "def get_tweets(user=\"KO\", limit=50):\n",
    "    # initial batch of tweets\n",
    "    statuses = api.GetUserTimeline(screen_name = user, count=limit)\n",
    "    \n",
    "    ## create a data frame\n",
    "    ## first get a list of panda Series\n",
    "    pdSeriesList = [pd.Series(t.AsDict()) for t in statuses]\n",
    "\n",
    "    ## then create the data frame\n",
    "    tweets = pd.DataFrame(pdSeriesList)\n",
    "\n",
    "    # now to grab the older ones\n",
    "    \n",
    "    while len(statuses) >= 20:\n",
    "        # get the last tweet id and subtract one to make sure we don't get a duplicate tweet\n",
    "        last_tweet_id = tweets.tail(1)[\"id\"].values[0] -1\n",
    "        statuses = api.GetUserTimeline(screen_name = 'KO', max_id=last_tweet_id, count=limit)\n",
    "        \n",
    "        pdSeriesList = [pd.Series(t.AsDict()) for t in statuses]\n",
    "        tweets = tweets.append(pdSeriesList, ignore_index=True)\n",
    "        \n",
    "    return tweets\n",
    "\n",
    "tweets = get_tweets()"
   ]
  },
  {
   "cell_type": "code",
   "execution_count": 162,
   "metadata": {},
   "outputs": [
    {
     "name": "stdout",
     "output_type": "stream",
     "text": [
      "(3204, 23)\n"
     ]
    },
    {
     "data": {
      "text/html": [
       "<div>\n",
       "<style>\n",
       "    .dataframe thead tr:only-child th {\n",
       "        text-align: right;\n",
       "    }\n",
       "\n",
       "    .dataframe thead th {\n",
       "        text-align: left;\n",
       "    }\n",
       "\n",
       "    .dataframe tbody tr th {\n",
       "        vertical-align: top;\n",
       "    }\n",
       "</style>\n",
       "<table border=\"1\" class=\"dataframe\">\n",
       "  <thead>\n",
       "    <tr style=\"text-align: right;\">\n",
       "      <th></th>\n",
       "      <th>created_at</th>\n",
       "      <th>favorite_count</th>\n",
       "      <th>favorited</th>\n",
       "      <th>hashtags</th>\n",
       "      <th>id</th>\n",
       "      <th>id_str</th>\n",
       "      <th>in_reply_to_screen_name</th>\n",
       "      <th>in_reply_to_status_id</th>\n",
       "      <th>in_reply_to_user_id</th>\n",
       "      <th>lang</th>\n",
       "      <th>...</th>\n",
       "      <th>quoted_status_id_str</th>\n",
       "      <th>retweet_count</th>\n",
       "      <th>retweeted</th>\n",
       "      <th>retweeted_status</th>\n",
       "      <th>source</th>\n",
       "      <th>text</th>\n",
       "      <th>truncated</th>\n",
       "      <th>urls</th>\n",
       "      <th>user</th>\n",
       "      <th>user_mentions</th>\n",
       "    </tr>\n",
       "  </thead>\n",
       "  <tbody>\n",
       "    <tr>\n",
       "      <th>0</th>\n",
       "      <td>Wed Aug 09 01:00:24 +0000 2017</td>\n",
       "      <td>NaN</td>\n",
       "      <td>NaN</td>\n",
       "      <td>[]</td>\n",
       "      <td>895087330561675264</td>\n",
       "      <td>895087330561675264</td>\n",
       "      <td>ahmadomar55</td>\n",
       "      <td>NaN</td>\n",
       "      <td>259198715.0</td>\n",
       "      <td>en</td>\n",
       "      <td>...</td>\n",
       "      <td>NaN</td>\n",
       "      <td>NaN</td>\n",
       "      <td>NaN</td>\n",
       "      <td>NaN</td>\n",
       "      <td>&lt;a href=\"http://itunes.apple.com/us/app/twitte...</td>\n",
       "      <td>@ahmadomar55 @abido \\n\\nyour iPhone is about g...</td>\n",
       "      <td>NaN</td>\n",
       "      <td>[{'expanded_url': 'http://appleinsider.com/art...</td>\n",
       "      <td>{'created_at': 'Tue Oct 10 08:35:25 +0000 2006...</td>\n",
       "      <td>[{'id': 259198715, 'name': 'AO', 'screen_name'...</td>\n",
       "    </tr>\n",
       "    <tr>\n",
       "      <th>1</th>\n",
       "      <td>Tue Aug 08 04:08:05 +0000 2017</td>\n",
       "      <td>NaN</td>\n",
       "      <td>True</td>\n",
       "      <td>[{'text': 'longreads'}]</td>\n",
       "      <td>894772174766174208</td>\n",
       "      <td>894772174766174208</td>\n",
       "      <td>NaN</td>\n",
       "      <td>NaN</td>\n",
       "      <td>NaN</td>\n",
       "      <td>en</td>\n",
       "      <td>...</td>\n",
       "      <td>NaN</td>\n",
       "      <td>57.0</td>\n",
       "      <td>True</td>\n",
       "      <td>{'created_at': 'Tue Aug 08 03:27:09 +0000 2017...</td>\n",
       "      <td>&lt;a href=\"http://nuzzel.com/\" rel=\"nofollow\"&gt;Nu...</td>\n",
       "      <td>RT @NickBryantNY: \"How America lost its mind\" ...</td>\n",
       "      <td>NaN</td>\n",
       "      <td>[{'expanded_url': 'https://www.theatlantic.com...</td>\n",
       "      <td>{'created_at': 'Tue Oct 10 08:35:25 +0000 2006...</td>\n",
       "      <td>[{'id': 289236003, 'name': 'Nick Bryant', 'scr...</td>\n",
       "    </tr>\n",
       "    <tr>\n",
       "      <th>2</th>\n",
       "      <td>Tue Aug 08 04:02:25 +0000 2017</td>\n",
       "      <td>NaN</td>\n",
       "      <td>NaN</td>\n",
       "      <td>[]</td>\n",
       "      <td>894770750716084225</td>\n",
       "      <td>894770750716084225</td>\n",
       "      <td>NaN</td>\n",
       "      <td>NaN</td>\n",
       "      <td>NaN</td>\n",
       "      <td>en</td>\n",
       "      <td>...</td>\n",
       "      <td>894453673232928768</td>\n",
       "      <td>4.0</td>\n",
       "      <td>True</td>\n",
       "      <td>{'created_at': 'Mon Aug 07 07:09:43 +0000 2017...</td>\n",
       "      <td>&lt;a href=\"http://nuzzel.com/\" rel=\"nofollow\"&gt;Nu...</td>\n",
       "      <td>RT @shakirhusain: This is an excellent piece. ...</td>\n",
       "      <td>NaN</td>\n",
       "      <td>[{'expanded_url': 'https://twitter.com/titojou...</td>\n",
       "      <td>{'created_at': 'Tue Oct 10 08:35:25 +0000 2006...</td>\n",
       "      <td>[{'id': 88913700, 'name': 'Shakir Husain', 'sc...</td>\n",
       "    </tr>\n",
       "    <tr>\n",
       "      <th>3</th>\n",
       "      <td>Tue Aug 08 03:42:24 +0000 2017</td>\n",
       "      <td>NaN</td>\n",
       "      <td>NaN</td>\n",
       "      <td>[]</td>\n",
       "      <td>894765713004478465</td>\n",
       "      <td>894765713004478465</td>\n",
       "      <td>NaN</td>\n",
       "      <td>NaN</td>\n",
       "      <td>NaN</td>\n",
       "      <td>en</td>\n",
       "      <td>...</td>\n",
       "      <td>NaN</td>\n",
       "      <td>1504.0</td>\n",
       "      <td>True</td>\n",
       "      <td>{'created_at': 'Tue Aug 08 00:58:05 +0000 2017...</td>\n",
       "      <td>&lt;a href=\"http://twitter.com\" rel=\"nofollow\"&gt;Tw...</td>\n",
       "      <td>RT @KrangTNelson: Henry Kissinger is an evil m...</td>\n",
       "      <td>NaN</td>\n",
       "      <td>[]</td>\n",
       "      <td>{'created_at': 'Tue Oct 10 08:35:25 +0000 2006...</td>\n",
       "      <td>[{'id': 4517565515, 'name': 'LT. COLONEL KRANG...</td>\n",
       "    </tr>\n",
       "    <tr>\n",
       "      <th>4</th>\n",
       "      <td>Tue Aug 08 01:04:29 +0000 2017</td>\n",
       "      <td>NaN</td>\n",
       "      <td>NaN</td>\n",
       "      <td>[]</td>\n",
       "      <td>894725970669613058</td>\n",
       "      <td>894725970669613058</td>\n",
       "      <td>NaN</td>\n",
       "      <td>NaN</td>\n",
       "      <td>NaN</td>\n",
       "      <td>en</td>\n",
       "      <td>...</td>\n",
       "      <td>NaN</td>\n",
       "      <td>42.0</td>\n",
       "      <td>True</td>\n",
       "      <td>{'created_at': 'Fri Jul 28 13:43:12 +0000 2017...</td>\n",
       "      <td>&lt;a href=\"http://itunes.apple.com/us/app/twitte...</td>\n",
       "      <td>RT @ZachJCarter: Placing sanctions on Iran for...</td>\n",
       "      <td>NaN</td>\n",
       "      <td>[]</td>\n",
       "      <td>{'created_at': 'Tue Oct 10 08:35:25 +0000 2006...</td>\n",
       "      <td>[{'id': 755826044225986560, 'name': 'Zach Cart...</td>\n",
       "    </tr>\n",
       "  </tbody>\n",
       "</table>\n",
       "<p>5 rows × 23 columns</p>\n",
       "</div>"
      ],
      "text/plain": [
       "                       created_at  favorite_count favorited  \\\n",
       "0  Wed Aug 09 01:00:24 +0000 2017             NaN       NaN   \n",
       "1  Tue Aug 08 04:08:05 +0000 2017             NaN      True   \n",
       "2  Tue Aug 08 04:02:25 +0000 2017             NaN       NaN   \n",
       "3  Tue Aug 08 03:42:24 +0000 2017             NaN       NaN   \n",
       "4  Tue Aug 08 01:04:29 +0000 2017             NaN       NaN   \n",
       "\n",
       "                  hashtags                  id              id_str  \\\n",
       "0                       []  895087330561675264  895087330561675264   \n",
       "1  [{'text': 'longreads'}]  894772174766174208  894772174766174208   \n",
       "2                       []  894770750716084225  894770750716084225   \n",
       "3                       []  894765713004478465  894765713004478465   \n",
       "4                       []  894725970669613058  894725970669613058   \n",
       "\n",
       "  in_reply_to_screen_name  in_reply_to_status_id  in_reply_to_user_id lang  \\\n",
       "0             ahmadomar55                    NaN          259198715.0   en   \n",
       "1                     NaN                    NaN                  NaN   en   \n",
       "2                     NaN                    NaN                  NaN   en   \n",
       "3                     NaN                    NaN                  NaN   en   \n",
       "4                     NaN                    NaN                  NaN   en   \n",
       "\n",
       "                         ...                         quoted_status_id_str  \\\n",
       "0                        ...                                          NaN   \n",
       "1                        ...                                          NaN   \n",
       "2                        ...                           894453673232928768   \n",
       "3                        ...                                          NaN   \n",
       "4                        ...                                          NaN   \n",
       "\n",
       "  retweet_count  retweeted                                   retweeted_status  \\\n",
       "0           NaN        NaN                                                NaN   \n",
       "1          57.0       True  {'created_at': 'Tue Aug 08 03:27:09 +0000 2017...   \n",
       "2           4.0       True  {'created_at': 'Mon Aug 07 07:09:43 +0000 2017...   \n",
       "3        1504.0       True  {'created_at': 'Tue Aug 08 00:58:05 +0000 2017...   \n",
       "4          42.0       True  {'created_at': 'Fri Jul 28 13:43:12 +0000 2017...   \n",
       "\n",
       "                                              source  \\\n",
       "0  <a href=\"http://itunes.apple.com/us/app/twitte...   \n",
       "1  <a href=\"http://nuzzel.com/\" rel=\"nofollow\">Nu...   \n",
       "2  <a href=\"http://nuzzel.com/\" rel=\"nofollow\">Nu...   \n",
       "3  <a href=\"http://twitter.com\" rel=\"nofollow\">Tw...   \n",
       "4  <a href=\"http://itunes.apple.com/us/app/twitte...   \n",
       "\n",
       "                                                text truncated  \\\n",
       "0  @ahmadomar55 @abido \\n\\nyour iPhone is about g...       NaN   \n",
       "1  RT @NickBryantNY: \"How America lost its mind\" ...       NaN   \n",
       "2  RT @shakirhusain: This is an excellent piece. ...       NaN   \n",
       "3  RT @KrangTNelson: Henry Kissinger is an evil m...       NaN   \n",
       "4  RT @ZachJCarter: Placing sanctions on Iran for...       NaN   \n",
       "\n",
       "                                                urls  \\\n",
       "0  [{'expanded_url': 'http://appleinsider.com/art...   \n",
       "1  [{'expanded_url': 'https://www.theatlantic.com...   \n",
       "2  [{'expanded_url': 'https://twitter.com/titojou...   \n",
       "3                                                 []   \n",
       "4                                                 []   \n",
       "\n",
       "                                                user  \\\n",
       "0  {'created_at': 'Tue Oct 10 08:35:25 +0000 2006...   \n",
       "1  {'created_at': 'Tue Oct 10 08:35:25 +0000 2006...   \n",
       "2  {'created_at': 'Tue Oct 10 08:35:25 +0000 2006...   \n",
       "3  {'created_at': 'Tue Oct 10 08:35:25 +0000 2006...   \n",
       "4  {'created_at': 'Tue Oct 10 08:35:25 +0000 2006...   \n",
       "\n",
       "                                       user_mentions  \n",
       "0  [{'id': 259198715, 'name': 'AO', 'screen_name'...  \n",
       "1  [{'id': 289236003, 'name': 'Nick Bryant', 'scr...  \n",
       "2  [{'id': 88913700, 'name': 'Shakir Husain', 'sc...  \n",
       "3  [{'id': 4517565515, 'name': 'LT. COLONEL KRANG...  \n",
       "4  [{'id': 755826044225986560, 'name': 'Zach Cart...  \n",
       "\n",
       "[5 rows x 23 columns]"
      ]
     },
     "execution_count": 162,
     "metadata": {},
     "output_type": "execute_result"
    }
   ],
   "source": [
    "print(tweets.shape)\n",
    "tweets.head()"
   ]
  },
  {
   "cell_type": "markdown",
   "metadata": {},
   "source": [
    "## we got tweets in a dataframe! "
   ]
  },
  {
   "cell_type": "code",
   "execution_count": 220,
   "metadata": {},
   "outputs": [
    {
     "data": {
      "text/plain": [
       "['@ahmadomar55 @abido \\n\\nyour iPhone is about get very dated: https://t.co/sxH8Dc1Ev1 https://t.co/knpDHcHtEh',\n",
       " 'RT @NickBryantNY: \"How America lost its mind\" - brilliant essay by Kurt Andersen #longreads @TheAtlantic  https://t.co/OC2qTYITND',\n",
       " 'RT @shakirhusain: This is an excellent piece. Forgot to mention private doctors who operate on cash only. https://t.co/s2laWXIWMr']"
      ]
     },
     "execution_count": 220,
     "metadata": {},
     "output_type": "execute_result"
    }
   ],
   "source": [
    "t = [u for u in tweets['text'].values]\n",
    "t[:3]"
   ]
  },
  {
   "cell_type": "code",
   "execution_count": null,
   "metadata": {
    "collapsed": true
   },
   "outputs": [],
   "source": []
  }
 ],
 "metadata": {
  "kernelspec": {
   "display_name": "Python 3",
   "language": "python",
   "name": "python3"
  },
  "language_info": {
   "codemirror_mode": {
    "name": "ipython",
    "version": 3
   },
   "file_extension": ".py",
   "mimetype": "text/x-python",
   "name": "python",
   "nbconvert_exporter": "python",
   "pygments_lexer": "ipython3",
   "version": "3.6.1"
  }
 },
 "nbformat": 4,
 "nbformat_minor": 2
}
