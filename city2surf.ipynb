{
 "cells": [
  {
   "cell_type": "markdown",
   "metadata": {},
   "source": [
    "a bs4 and requests excercise to scrape all the results from [City2Surf](http://city2surf.com.au/past-results/) and put them into a pandas df, then do some data analysis.\n",
    "\n",
    "_work in progress_"
   ]
  },
  {
   "cell_type": "code",
   "execution_count": 129,
   "metadata": {
    "collapsed": true
   },
   "outputs": [],
   "source": [
    "import requests\n",
    "from bs4 import BeautifulSoup\n",
    "import re\n",
    "\n",
    "import numpy as np\n",
    "import pandas as pd\n",
    "%matplotlib inline\n",
    "import matplotlib.pyplot as plt\n",
    "\n",
    "from IPython.core.display import HTML"
   ]
  },
  {
   "cell_type": "code",
   "execution_count": 5,
   "metadata": {},
   "outputs": [],
   "source": [
    "url = \"https://secure.tiktok.biz/results/list/city2surf/2012/C2S\"\n",
    "r = requests.get(url)"
   ]
  },
  {
   "cell_type": "code",
   "execution_count": 44,
   "metadata": {},
   "outputs": [],
   "source": [
    "soup = BeautifulSoup(r.text, \"lxml\")"
   ]
  },
  {
   "cell_type": "code",
   "execution_count": 46,
   "metadata": {},
   "outputs": [
    {
     "data": {
      "text/html": [
       "<table border=\"0\" class=\"table table-striped table-hover table-responsive\" id=\"pagePlaceHolder_resTable\">\n",
       "<tr>\n",
       "<th width=\"3%\">#</th><th class=\"hidden-480\" width=\"5%\">Bib</th><th>Name</th><th class=\"text-center\" width=\"10%\">Finish Time</th><th class=\"hidden-480 text-center\" width=\"5%\">Place</th><th class=\"hidden-480 text-center\" width=\"5%\">Gender</th><th class=\"hidden-480 text-center\" width=\"5%\">G/Pl</th><th class=\"hidden-480 text-center\" width=\"10%\">Division</th><th class=\"hidden-480 text-center\" width=\"5%\">D/Pl</th><th class=\"hidden-480 text-right\" width=\"5%\"></th>\n",
       "</tr><tr>\n",
       "<td>1</td><td class=\"hidden-480\">00081</td><td><a href=\"../../../view.aspx?EventID=city2surf&amp;Edition=2012&amp;bib=00081\">LIAM ADAMS</a></td><td class=\"text-center\">00:41:31</td><td class=\"hidden-480 text-center\">1</td><td class=\"hidden-480 text-center\">M</td><td class=\"hidden-480 text-center\">1</td><td class=\"hidden-480 text-center\">M20-29</td><td class=\"hidden-480 text-center\">1</td><td class=\"hidden-480 text-right\"><a class=\"btn green btn-xs text-right\" href=\"../../../view.aspx?EventID=city2surf&amp;Edition=2012&amp;bib=00081\"><i class=\"fa fa-play\"></i> view</a></td>\n",
       "</tr><tr>\n",
       "<td>2</td><td class=\"hidden-480\">00090</td><td><a href=\"../../../view.aspx?EventID=city2surf&amp;Edition=2012&amp;bib=00090\">HARRY SUMMERS</a></td><td class=\"text-center\">00:42:22</td><td class=\"hidden-480 text-center\">2</td><td class=\"hidden-480 text-center\">M</td><td class=\"hidden-480 text-center\">2</td><td class=\"hidden-480 text-center\">M20-29</td><td class=\"hidden-480 text-center\">2</td><td class=\"hidden-480 text-right\"><a class=\"btn green btn-xs text-right\" href=\"../../../view.aspx?EventID=city2surf&amp;Edition=2012&amp;bib=00090\"><i class=\"fa fa-play\"></i> view</a></td>\n",
       "</tr><tr>\n",
       "<td>3</td><td class=\"hidden-480\">00091</td><td><a href=\"../../../view.aspx?EventID=city2surf&amp;Edition=2012&amp;bib=00091\">MITCHEL BROWN</a></td><td class=\"text-center\">00:42:28</td><td class=\"hidden-480 text-center\">3</td><td class=\"hidden-480 text-center\">M</td><td class=\"hidden-480 text-center\">3</td><td class=\"hidden-480 text-center\">M20-29</td><td class=\"hidden-480 text-center\">3</td><td class=\"hidden-480 text-right\"><a class=\"btn green btn-xs text-right\" href=\"../../../view.aspx?EventID=city2surf&amp;Edition=2012&amp;bib=00091\"><i class=\"fa fa-play\"></i> view</a></td>\n",
       "</tr><tr>\n",
       "<td>4</td><td class=\"hidden-480\">00071</td><td><a href=\"../../../view.aspx?EventID=city2surf&amp;Edition=2012&amp;bib=00071\">ALASTAIR STEVENSON</a></td><td class=\"text-center\">00:43:02</td><td class=\"hidden-480 text-center\">4</td><td class=\"hidden-480 text-center\">M</td><td class=\"hidden-480 text-center\">4</td><td class=\"hidden-480 text-center\">M30-39</td><td class=\"hidden-480 text-center\">1</td><td class=\"hidden-480 text-right\"><a class=\"btn green btn-xs text-right\" href=\"../../../view.aspx?EventID=city2surf&amp;Edition=2012&amp;bib=00071\"><i class=\"fa fa-play\"></i> view</a></td>\n",
       "</tr><tr>\n",
       "<td>5</td><td class=\"hidden-480\">00092</td><td><a href=\"../../../view.aspx?EventID=city2surf&amp;Edition=2012&amp;bib=00092\">JONATHAN PETERS</a></td><td class=\"text-center\">00:43:15</td><td class=\"hidden-480 text-center\">5</td><td class=\"hidden-480 text-center\">M</td><td class=\"hidden-480 text-center\">5</td><td class=\"hidden-480 text-center\">M20-29</td><td class=\"hidden-480 text-center\">4</td><td class=\"hidden-480 text-right\"><a class=\"btn green btn-xs text-right\" href=\"../../../view.aspx?EventID=city2surf&amp;Edition=2012&amp;bib=00092\"><i class=\"fa fa-play\"></i> view</a></td>\n",
       "</tr><tr>\n",
       "<td>6</td><td class=\"hidden-480\">00088</td><td><a href=\"../../../view.aspx?EventID=city2surf&amp;Edition=2012&amp;bib=00088\">BEN MOREAU</a></td><td class=\"text-center\">00:43:23</td><td class=\"hidden-480 text-center\">6</td><td class=\"hidden-480 text-center\">M</td><td class=\"hidden-480 text-center\">6</td><td class=\"hidden-480 text-center\">M30-39</td><td class=\"hidden-480 text-center\">2</td><td class=\"hidden-480 text-right\"><a class=\"btn green btn-xs text-right\" href=\"../../../view.aspx?EventID=city2surf&amp;Edition=2012&amp;bib=00088\"><i class=\"fa fa-play\"></i> view</a></td>\n",
       "</tr><tr>\n",
       "<td>7</td><td class=\"hidden-480\">00062</td><td><a href=\"../../../view.aspx?EventID=city2surf&amp;Edition=2012&amp;bib=00062\">STEPHEN DINNEEN</a></td><td class=\"text-center\">00:43:33</td><td class=\"hidden-480 text-center\">7</td><td class=\"hidden-480 text-center\">M</td><td class=\"hidden-480 text-center\">7</td><td class=\"hidden-480 text-center\">M30-39</td><td class=\"hidden-480 text-center\">3</td><td class=\"hidden-480 text-right\"><a class=\"btn green btn-xs text-right\" href=\"../../../view.aspx?EventID=city2surf&amp;Edition=2012&amp;bib=00062\"><i class=\"fa fa-play\"></i> view</a></td>\n",
       "</tr><tr>\n",
       "<td>8</td><td class=\"hidden-480\">00083</td><td><a href=\"../../../view.aspx?EventID=city2surf&amp;Edition=2012&amp;bib=00083\">HUGH WILLIAMS</a></td><td class=\"text-center\">00:44:10</td><td class=\"hidden-480 text-center\">8</td><td class=\"hidden-480 text-center\">M</td><td class=\"hidden-480 text-center\">8</td><td class=\"hidden-480 text-center\">M20-29</td><td class=\"hidden-480 text-center\">5</td><td class=\"hidden-480 text-right\"><a class=\"btn green btn-xs text-right\" href=\"../../../view.aspx?EventID=city2surf&amp;Edition=2012&amp;bib=00083\"><i class=\"fa fa-play\"></i> view</a></td>\n",
       "</tr><tr>\n",
       "<td>9</td><td class=\"hidden-480\">00070</td><td><a href=\"../../../view.aspx?EventID=city2surf&amp;Edition=2012&amp;bib=00070\">RUSSELL DESSAIX-CHIN</a></td><td class=\"text-center\">00:44:21</td><td class=\"hidden-480 text-center\">9</td><td class=\"hidden-480 text-center\">M</td><td class=\"hidden-480 text-center\">9</td><td class=\"hidden-480 text-center\">M30-39</td><td class=\"hidden-480 text-center\">4</td><td class=\"hidden-480 text-right\"><a class=\"btn green btn-xs text-right\" href=\"../../../view.aspx?EventID=city2surf&amp;Edition=2012&amp;bib=00070\"><i class=\"fa fa-play\"></i> view</a></td>\n",
       "</tr><tr>\n",
       "<td>10</td><td class=\"hidden-480\">00078</td><td><a href=\"../../../view.aspx?EventID=city2surf&amp;Edition=2012&amp;bib=00078\">NEIL BERRY</a></td><td class=\"text-center\">00:44:31</td><td class=\"hidden-480 text-center\">10</td><td class=\"hidden-480 text-center\">M</td><td class=\"hidden-480 text-center\">10</td><td class=\"hidden-480 text-center\">M20-29</td><td class=\"hidden-480 text-center\">6</td><td class=\"hidden-480 text-right\"><a class=\"btn green btn-xs text-right\" href=\"../../../view.aspx?EventID=city2surf&amp;Edition=2012&amp;bib=00078\"><i class=\"fa fa-play\"></i> view</a></td>\n",
       "</tr><tr>\n",
       "<td>11</td><td class=\"hidden-480\">00060</td><td><a href=\"../../../view.aspx?EventID=city2surf&amp;Edition=2012&amp;bib=00060\">LACHLAN\t\t CHISHOLM</a></td><td class=\"text-center\">00:44:43</td><td class=\"hidden-480 text-center\">11</td><td class=\"hidden-480 text-center\">M</td><td class=\"hidden-480 text-center\">11</td><td class=\"hidden-480 text-center\">M30-39</td><td class=\"hidden-480 text-center\">5</td><td class=\"hidden-480 text-right\"><a class=\"btn green btn-xs text-right\" href=\"../../../view.aspx?EventID=city2surf&amp;Edition=2012&amp;bib=00060\"><i class=\"fa fa-play\"></i> view</a></td>\n",
       "</tr><tr>\n",
       "<td>12</td><td class=\"hidden-480\">00086</td><td><a href=\"../../../view.aspx?EventID=city2surf&amp;Edition=2012&amp;bib=00086\">ROWAN WALKER</a></td><td class=\"text-center\">00:44:44</td><td class=\"hidden-480 text-center\">12</td><td class=\"hidden-480 text-center\">M</td><td class=\"hidden-480 text-center\">12</td><td class=\"hidden-480 text-center\">M40-49</td><td class=\"hidden-480 text-center\">1</td><td class=\"hidden-480 text-right\"><a class=\"btn green btn-xs text-right\" href=\"../../../view.aspx?EventID=city2surf&amp;Edition=2012&amp;bib=00086\"><i class=\"fa fa-play\"></i> view</a></td>\n",
       "</tr><tr>\n",
       "<td>13</td><td class=\"hidden-480\">00084</td><td><a href=\"../../../view.aspx?EventID=city2surf&amp;Edition=2012&amp;bib=00084\">MATTHEW COX</a></td><td class=\"text-center\">00:44:50</td><td class=\"hidden-480 text-center\">13</td><td class=\"hidden-480 text-center\">M</td><td class=\"hidden-480 text-center\">13</td><td class=\"hidden-480 text-center\">M20-29</td><td class=\"hidden-480 text-center\">7</td><td class=\"hidden-480 text-right\"><a class=\"btn green btn-xs text-right\" href=\"../../../view.aspx?EventID=city2surf&amp;Edition=2012&amp;bib=00084\"><i class=\"fa fa-play\"></i> view</a></td>\n",
       "</tr><tr>\n",
       "<td>14</td><td class=\"hidden-480\">00068</td><td><a href=\"../../../view.aspx?EventID=city2surf&amp;Edition=2012&amp;bib=00068\">BARRY LYNCH</a></td><td class=\"text-center\">00:45:04</td><td class=\"hidden-480 text-center\">14</td><td class=\"hidden-480 text-center\">M</td><td class=\"hidden-480 text-center\">14</td><td class=\"hidden-480 text-center\">M30-39</td><td class=\"hidden-480 text-center\">6</td><td class=\"hidden-480 text-right\"><a class=\"btn green btn-xs text-right\" href=\"../../../view.aspx?EventID=city2surf&amp;Edition=2012&amp;bib=00068\"><i class=\"fa fa-play\"></i> view</a></td>\n",
       "</tr><tr>\n",
       "<td>15</td><td class=\"hidden-480\">00069</td><td><a href=\"../../../view.aspx?EventID=city2surf&amp;Edition=2012&amp;bib=00069\">BRADY THRELFALL</a></td><td class=\"text-center\">00:45:07</td><td class=\"hidden-480 text-center\">15</td><td class=\"hidden-480 text-center\">M</td><td class=\"hidden-480 text-center\">15</td><td class=\"hidden-480 text-center\">M20-29</td><td class=\"hidden-480 text-center\">8</td><td class=\"hidden-480 text-right\"><a class=\"btn green btn-xs text-right\" href=\"../../../view.aspx?EventID=city2surf&amp;Edition=2012&amp;bib=00069\"><i class=\"fa fa-play\"></i> view</a></td>\n",
       "</tr><tr>\n",
       "<td>16</td><td class=\"hidden-480\">00096</td><td><a href=\"../../../view.aspx?EventID=city2surf&amp;Edition=2012&amp;bib=00096\">GRANT PAGE</a></td><td class=\"text-center\">00:45:17</td><td class=\"hidden-480 text-center\">16</td><td class=\"hidden-480 text-center\">M</td><td class=\"hidden-480 text-center\">16</td><td class=\"hidden-480 text-center\">M30-39</td><td class=\"hidden-480 text-center\">7</td><td class=\"hidden-480 text-right\"><a class=\"btn green btn-xs text-right\" href=\"../../../view.aspx?EventID=city2surf&amp;Edition=2012&amp;bib=00096\"><i class=\"fa fa-play\"></i> view</a></td>\n",
       "</tr><tr>\n",
       "<td>17</td><td class=\"hidden-480\">00104</td><td><a href=\"../../../view.aspx?EventID=city2surf&amp;Edition=2012&amp;bib=00104\">LUKE HENNESSY</a></td><td class=\"text-center\">00:45:47</td><td class=\"hidden-480 text-center\">17</td><td class=\"hidden-480 text-center\">M</td><td class=\"hidden-480 text-center\">17</td><td class=\"hidden-480 text-center\">M20-29</td><td class=\"hidden-480 text-center\">9</td><td class=\"hidden-480 text-right\"><a class=\"btn green btn-xs text-right\" href=\"../../../view.aspx?EventID=city2surf&amp;Edition=2012&amp;bib=00104\"><i class=\"fa fa-play\"></i> view</a></td>\n",
       "</tr><tr>\n",
       "<td>18</td><td class=\"hidden-480\">00021</td><td><a href=\"../../../view.aspx?EventID=city2surf&amp;Edition=2012&amp;bib=00021\">MATTHEW FENECH</a></td><td class=\"text-center\">00:45:52</td><td class=\"hidden-480 text-center\">18</td><td class=\"hidden-480 text-center\">M</td><td class=\"hidden-480 text-center\">18</td><td class=\"hidden-480 text-center\">M30-39</td><td class=\"hidden-480 text-center\">8</td><td class=\"hidden-480 text-right\"><a class=\"btn green btn-xs text-right\" href=\"../../../view.aspx?EventID=city2surf&amp;Edition=2012&amp;bib=00021\"><i class=\"fa fa-play\"></i> view</a></td>\n",
       "</tr><tr>\n",
       "<td>19</td><td class=\"hidden-480\">00065</td><td><a href=\"../../../view.aspx?EventID=city2surf&amp;Edition=2012&amp;bib=00065\">MATTHEW JOHNSEN</a></td><td class=\"text-center\">00:45:52</td><td class=\"hidden-480 text-center\">19</td><td class=\"hidden-480 text-center\">M</td><td class=\"hidden-480 text-center\">19</td><td class=\"hidden-480 text-center\">M20-29</td><td class=\"hidden-480 text-center\">10</td><td class=\"hidden-480 text-right\"><a class=\"btn green btn-xs text-right\" href=\"../../../view.aspx?EventID=city2surf&amp;Edition=2012&amp;bib=00065\"><i class=\"fa fa-play\"></i> view</a></td>\n",
       "</tr><tr>\n",
       "<td>20</td><td class=\"hidden-480\">00107</td><td><a href=\"../../../view.aspx?EventID=city2surf&amp;Edition=2012&amp;bib=00107\">VLAD SHATROV</a></td><td class=\"text-center\">00:45:53</td><td class=\"hidden-480 text-center\">20</td><td class=\"hidden-480 text-center\">M</td><td class=\"hidden-480 text-center\">20</td><td class=\"hidden-480 text-center\">M30-39</td><td class=\"hidden-480 text-center\">9</td><td class=\"hidden-480 text-right\"><a class=\"btn green btn-xs text-right\" href=\"../../../view.aspx?EventID=city2surf&amp;Edition=2012&amp;bib=00107\"><i class=\"fa fa-play\"></i> view</a></td>\n",
       "</tr><tr>\n",
       "<td>21</td><td class=\"hidden-480\">00043</td><td><a href=\"../../../view.aspx?EventID=city2surf&amp;Edition=2012&amp;bib=00043\">THOMAS CRASTI</a></td><td class=\"text-center\">00:46:00</td><td class=\"hidden-480 text-center\">21</td><td class=\"hidden-480 text-center\">M</td><td class=\"hidden-480 text-center\">21</td><td class=\"hidden-480 text-center\">M20-29</td><td class=\"hidden-480 text-center\">11</td><td class=\"hidden-480 text-right\"><a class=\"btn green btn-xs text-right\" href=\"../../../view.aspx?EventID=city2surf&amp;Edition=2012&amp;bib=00043\"><i class=\"fa fa-play\"></i> view</a></td>\n",
       "</tr><tr>\n",
       "<td>22</td><td class=\"hidden-480\">00027</td><td><a href=\"../../../view.aspx?EventID=city2surf&amp;Edition=2012&amp;bib=00027\">CHADI ELASHKAR</a></td><td class=\"text-center\">00:46:04</td><td class=\"hidden-480 text-center\">22</td><td class=\"hidden-480 text-center\">M</td><td class=\"hidden-480 text-center\">22</td><td class=\"hidden-480 text-center\">M30-39</td><td class=\"hidden-480 text-center\">10</td><td class=\"hidden-480 text-right\"><a class=\"btn green btn-xs text-right\" href=\"../../../view.aspx?EventID=city2surf&amp;Edition=2012&amp;bib=00027\"><i class=\"fa fa-play\"></i> view</a></td>\n",
       "</tr><tr>\n",
       "<td>23</td><td class=\"hidden-480\">00074</td><td><a href=\"../../../view.aspx?EventID=city2surf&amp;Edition=2012&amp;bib=00074\">MARK BOURNE</a></td><td class=\"text-center\">00:46:06</td><td class=\"hidden-480 text-center\">23</td><td class=\"hidden-480 text-center\">M</td><td class=\"hidden-480 text-center\">23</td><td class=\"hidden-480 text-center\">M20-29</td><td class=\"hidden-480 text-center\">12</td><td class=\"hidden-480 text-right\"><a class=\"btn green btn-xs text-right\" href=\"../../../view.aspx?EventID=city2surf&amp;Edition=2012&amp;bib=00074\"><i class=\"fa fa-play\"></i> view</a></td>\n",
       "</tr><tr>\n",
       "<td>24</td><td class=\"hidden-480\">00029</td><td><a href=\"../../../view.aspx?EventID=city2surf&amp;Edition=2012&amp;bib=00029\">BEN LIDDY</a></td><td class=\"text-center\">00:46:08</td><td class=\"hidden-480 text-center\">24</td><td class=\"hidden-480 text-center\">M</td><td class=\"hidden-480 text-center\">24</td><td class=\"hidden-480 text-center\">M30-39</td><td class=\"hidden-480 text-center\">11</td><td class=\"hidden-480 text-right\"><a class=\"btn green btn-xs text-right\" href=\"../../../view.aspx?EventID=city2surf&amp;Edition=2012&amp;bib=00029\"><i class=\"fa fa-play\"></i> view</a></td>\n",
       "</tr><tr>\n",
       "<td>25</td><td class=\"hidden-480\">00063</td><td><a href=\"../../../view.aspx?EventID=city2surf&amp;Edition=2012&amp;bib=00063\">SEAN BOWES</a></td><td class=\"text-center\">00:46:14</td><td class=\"hidden-480 text-center\">25</td><td class=\"hidden-480 text-center\">M</td><td class=\"hidden-480 text-center\">25</td><td class=\"hidden-480 text-center\">M20-29</td><td class=\"hidden-480 text-center\">13</td><td class=\"hidden-480 text-right\"><a class=\"btn green btn-xs text-right\" href=\"../../../view.aspx?EventID=city2surf&amp;Edition=2012&amp;bib=00063\"><i class=\"fa fa-play\"></i> view</a></td>\n",
       "</tr><tr>\n",
       "<td>26</td><td class=\"hidden-480\">00044</td><td><a href=\"../../../view.aspx?EventID=city2surf&amp;Edition=2012&amp;bib=00044\">DAVID MAINWARING</a></td><td class=\"text-center\">00:46:15</td><td class=\"hidden-480 text-center\">26</td><td class=\"hidden-480 text-center\">M</td><td class=\"hidden-480 text-center\">26</td><td class=\"hidden-480 text-center\">M20-29</td><td class=\"hidden-480 text-center\">14</td><td class=\"hidden-480 text-right\"><a class=\"btn green btn-xs text-right\" href=\"../../../view.aspx?EventID=city2surf&amp;Edition=2012&amp;bib=00044\"><i class=\"fa fa-play\"></i> view</a></td>\n",
       "</tr><tr>\n",
       "<td>27</td><td class=\"hidden-480\">00265</td><td><a href=\"../../../view.aspx?EventID=city2surf&amp;Edition=2012&amp;bib=00265\">JAMES DAVY</a></td><td class=\"text-center\">00:46:18</td><td class=\"hidden-480 text-center\">27</td><td class=\"hidden-480 text-center\">M</td><td class=\"hidden-480 text-center\">27</td><td class=\"hidden-480 text-center\">M20-29</td><td class=\"hidden-480 text-center\">15</td><td class=\"hidden-480 text-right\"><a class=\"btn green btn-xs text-right\" href=\"../../../view.aspx?EventID=city2surf&amp;Edition=2012&amp;bib=00265\"><i class=\"fa fa-play\"></i> view</a></td>\n",
       "</tr><tr>\n",
       "<td>28</td><td class=\"hidden-480\">00351</td><td><a href=\"../../../view.aspx?EventID=city2surf&amp;Edition=2012&amp;bib=00351\">JASON HARRISON</a></td><td class=\"text-center\">00:46:24</td><td class=\"hidden-480 text-center\">28</td><td class=\"hidden-480 text-center\">M</td><td class=\"hidden-480 text-center\">28</td><td class=\"hidden-480 text-center\">M20-29</td><td class=\"hidden-480 text-center\">16</td><td class=\"hidden-480 text-right\"><a class=\"btn green btn-xs text-right\" href=\"../../../view.aspx?EventID=city2surf&amp;Edition=2012&amp;bib=00351\"><i class=\"fa fa-play\"></i> view</a></td>\n",
       "</tr><tr>\n",
       "<td>29</td><td class=\"hidden-480\">00026</td><td><a href=\"../../../view.aspx?EventID=city2surf&amp;Edition=2012&amp;bib=00026\">JASON ANTONELLI</a></td><td class=\"text-center\">00:46:27</td><td class=\"hidden-480 text-center\">29</td><td class=\"hidden-480 text-center\">M</td><td class=\"hidden-480 text-center\">29</td><td class=\"hidden-480 text-center\">M30-39</td><td class=\"hidden-480 text-center\">12</td><td class=\"hidden-480 text-right\"><a class=\"btn green btn-xs text-right\" href=\"../../../view.aspx?EventID=city2surf&amp;Edition=2012&amp;bib=00026\"><i class=\"fa fa-play\"></i> view</a></td>\n",
       "</tr><tr>\n",
       "<td>30</td><td class=\"hidden-480\">00087</td><td><a href=\"../../../view.aspx?EventID=city2surf&amp;Edition=2012&amp;bib=00087\">EARL O'BRIEN</a></td><td class=\"text-center\">00:46:31</td><td class=\"hidden-480 text-center\">30</td><td class=\"hidden-480 text-center\">M</td><td class=\"hidden-480 text-center\">30</td><td class=\"hidden-480 text-center\">M20-29</td><td class=\"hidden-480 text-center\">17</td><td class=\"hidden-480 text-right\"><a class=\"btn green btn-xs text-right\" href=\"../../../view.aspx?EventID=city2surf&amp;Edition=2012&amp;bib=00087\"><i class=\"fa fa-play\"></i> view</a></td>\n",
       "</tr><tr>\n",
       "<td>31</td><td class=\"hidden-480\">00241</td><td><a href=\"../../../view.aspx?EventID=city2surf&amp;Edition=2012&amp;bib=00241\">JAMES TUNBRIDGE</a></td><td class=\"text-center\">00:46:39</td><td class=\"hidden-480 text-center\">31</td><td class=\"hidden-480 text-center\">M</td><td class=\"hidden-480 text-center\">31</td><td class=\"hidden-480 text-center\">M20-29</td><td class=\"hidden-480 text-center\">18</td><td class=\"hidden-480 text-right\"><a class=\"btn green btn-xs text-right\" href=\"../../../view.aspx?EventID=city2surf&amp;Edition=2012&amp;bib=00241\"><i class=\"fa fa-play\"></i> view</a></td>\n",
       "</tr><tr>\n",
       "<td>32</td><td class=\"hidden-480\">00042</td><td><a href=\"../../../view.aspx?EventID=city2surf&amp;Edition=2012&amp;bib=00042\">CHRIS TRUSCOTT</a></td><td class=\"text-center\">00:46:44</td><td class=\"hidden-480 text-center\">32</td><td class=\"hidden-480 text-center\">M</td><td class=\"hidden-480 text-center\">32</td><td class=\"hidden-480 text-center\">M30-39</td><td class=\"hidden-480 text-center\">13</td><td class=\"hidden-480 text-right\"><a class=\"btn green btn-xs text-right\" href=\"../../../view.aspx?EventID=city2surf&amp;Edition=2012&amp;bib=00042\"><i class=\"fa fa-play\"></i> view</a></td>\n",
       "</tr><tr>\n",
       "<td>33</td><td class=\"hidden-480\">00135</td><td><a href=\"../../../view.aspx?EventID=city2surf&amp;Edition=2012&amp;bib=00135\">NEIL PEARSON</a></td><td class=\"text-center\">00:46:48</td><td class=\"hidden-480 text-center\">33</td><td class=\"hidden-480 text-center\">M</td><td class=\"hidden-480 text-center\">33</td><td class=\"hidden-480 text-center\">M40-49</td><td class=\"hidden-480 text-center\">2</td><td class=\"hidden-480 text-right\"><a class=\"btn green btn-xs text-right\" href=\"../../../view.aspx?EventID=city2surf&amp;Edition=2012&amp;bib=00135\"><i class=\"fa fa-play\"></i> view</a></td>\n",
       "</tr><tr>\n",
       "<td>34</td><td class=\"hidden-480\">00076</td><td><a href=\"../../../view.aspx?EventID=city2surf&amp;Edition=2012&amp;bib=00076\">LARA TAMSETT</a></td><td class=\"text-center\">00:46:55</td><td class=\"hidden-480 text-center\">34</td><td class=\"hidden-480 text-center\">F</td><td class=\"hidden-480 text-center\">1</td><td class=\"hidden-480 text-center\">F20-29</td><td class=\"hidden-480 text-center\">1</td><td class=\"hidden-480 text-right\"><a class=\"btn green btn-xs text-right\" href=\"../../../view.aspx?EventID=city2surf&amp;Edition=2012&amp;bib=00076\"><i class=\"fa fa-play\"></i> view</a></td>\n",
       "</tr><tr>\n",
       "<td>35</td><td class=\"hidden-480\">00207</td><td><a href=\"../../../view.aspx?EventID=city2surf&amp;Edition=2012&amp;bib=00207\">ANGUS BALDWIN</a></td><td class=\"text-center\">00:46:55</td><td class=\"hidden-480 text-center\">35</td><td class=\"hidden-480 text-center\">M</td><td class=\"hidden-480 text-center\">34</td><td class=\"hidden-480 text-center\">M16-19</td><td class=\"hidden-480 text-center\">1</td><td class=\"hidden-480 text-right\"><a class=\"btn green btn-xs text-right\" href=\"../../../view.aspx?EventID=city2surf&amp;Edition=2012&amp;bib=00207\"><i class=\"fa fa-play\"></i> view</a></td>\n",
       "</tr><tr>\n",
       "<td>36</td><td class=\"hidden-480\">00061</td><td><a href=\"../../../view.aspx?EventID=city2surf&amp;Edition=2012&amp;bib=00061\">KEITH MACPHERSON</a></td><td class=\"text-center\">00:46:56</td><td class=\"hidden-480 text-center\">36</td><td class=\"hidden-480 text-center\">M</td><td class=\"hidden-480 text-center\">35</td><td class=\"hidden-480 text-center\">M20-29</td><td class=\"hidden-480 text-center\">19</td><td class=\"hidden-480 text-right\"><a class=\"btn green btn-xs text-right\" href=\"../../../view.aspx?EventID=city2surf&amp;Edition=2012&amp;bib=00061\"><i class=\"fa fa-play\"></i> view</a></td>\n",
       "</tr><tr>\n",
       "<td>37</td><td class=\"hidden-480\">00190</td><td><a href=\"../../../view.aspx?EventID=city2surf&amp;Edition=2012&amp;bib=00190\">ROBBIE NEILL</a></td><td class=\"text-center\">00:47:07</td><td class=\"hidden-480 text-center\">37</td><td class=\"hidden-480 text-center\">M</td><td class=\"hidden-480 text-center\">36</td><td class=\"hidden-480 text-center\">M30-39</td><td class=\"hidden-480 text-center\">14</td><td class=\"hidden-480 text-right\"><a class=\"btn green btn-xs text-right\" href=\"../../../view.aspx?EventID=city2surf&amp;Edition=2012&amp;bib=00190\"><i class=\"fa fa-play\"></i> view</a></td>\n",
       "</tr><tr>\n",
       "<td>38</td><td class=\"hidden-480\">00290</td><td><a href=\"../../../view.aspx?EventID=city2surf&amp;Edition=2012&amp;bib=00290\">ADAM SAFARIC</a></td><td class=\"text-center\">00:47:10</td><td class=\"hidden-480 text-center\">38</td><td class=\"hidden-480 text-center\">M</td><td class=\"hidden-480 text-center\">37</td><td class=\"hidden-480 text-center\">M20-29</td><td class=\"hidden-480 text-center\">20</td><td class=\"hidden-480 text-right\"><a class=\"btn green btn-xs text-right\" href=\"../../../view.aspx?EventID=city2surf&amp;Edition=2012&amp;bib=00290\"><i class=\"fa fa-play\"></i> view</a></td>\n",
       "</tr><tr>\n",
       "<td>39</td><td class=\"hidden-480\">00345</td><td><a href=\"../../../view.aspx?EventID=city2surf&amp;Edition=2012&amp;bib=00345\">ANDREW BUCHANAN</a></td><td class=\"text-center\">00:47:13</td><td class=\"hidden-480 text-center\">39</td><td class=\"hidden-480 text-center\">M</td><td class=\"hidden-480 text-center\">38</td><td class=\"hidden-480 text-center\">M20-29</td><td class=\"hidden-480 text-center\">21</td><td class=\"hidden-480 text-right\"><a class=\"btn green btn-xs text-right\" href=\"../../../view.aspx?EventID=city2surf&amp;Edition=2012&amp;bib=00345\"><i class=\"fa fa-play\"></i> view</a></td>\n",
       "</tr><tr>\n",
       "<td>40</td><td class=\"hidden-480\">00319</td><td><a href=\"../../../view.aspx?EventID=city2surf&amp;Edition=2012&amp;bib=00319\">JOHN MEAGHER</a></td><td class=\"text-center\">00:47:13</td><td class=\"hidden-480 text-center\">40</td><td class=\"hidden-480 text-center\">M</td><td class=\"hidden-480 text-center\">39</td><td class=\"hidden-480 text-center\">M40-49</td><td class=\"hidden-480 text-center\">3</td><td class=\"hidden-480 text-right\"><a class=\"btn green btn-xs text-right\" href=\"../../../view.aspx?EventID=city2surf&amp;Edition=2012&amp;bib=00319\"><i class=\"fa fa-play\"></i> view</a></td>\n",
       "</tr><tr>\n",
       "<td>41</td><td class=\"hidden-480\">00031</td><td><a href=\"../../../view.aspx?EventID=city2surf&amp;Edition=2012&amp;bib=00031\">ANDREW TUCKEY</a></td><td class=\"text-center\">00:47:15</td><td class=\"hidden-480 text-center\">41</td><td class=\"hidden-480 text-center\">M</td><td class=\"hidden-480 text-center\">40</td><td class=\"hidden-480 text-center\">M30-39</td><td class=\"hidden-480 text-center\">15</td><td class=\"hidden-480 text-right\"><a class=\"btn green btn-xs text-right\" href=\"../../../view.aspx?EventID=city2surf&amp;Edition=2012&amp;bib=00031\"><i class=\"fa fa-play\"></i> view</a></td>\n",
       "</tr><tr>\n",
       "<td>42</td><td class=\"hidden-480\">00151</td><td><a href=\"../../../view.aspx?EventID=city2surf&amp;Edition=2012&amp;bib=00151\">MATTHEW TIMSON</a></td><td class=\"text-center\">00:47:15</td><td class=\"hidden-480 text-center\">42</td><td class=\"hidden-480 text-center\">M</td><td class=\"hidden-480 text-center\">41</td><td class=\"hidden-480 text-center\">M16-19</td><td class=\"hidden-480 text-center\">2</td><td class=\"hidden-480 text-right\"><a class=\"btn green btn-xs text-right\" href=\"../../../view.aspx?EventID=city2surf&amp;Edition=2012&amp;bib=00151\"><i class=\"fa fa-play\"></i> view</a></td>\n",
       "</tr><tr>\n",
       "<td>43</td><td class=\"hidden-480\">00179</td><td><a href=\"../../../view.aspx?EventID=city2surf&amp;Edition=2012&amp;bib=00179\">TIMOTHY MOLESWORTH</a></td><td class=\"text-center\">00:47:16</td><td class=\"hidden-480 text-center\">43</td><td class=\"hidden-480 text-center\">M</td><td class=\"hidden-480 text-center\">42</td><td class=\"hidden-480 text-center\">M30-39</td><td class=\"hidden-480 text-center\">16</td><td class=\"hidden-480 text-right\"><a class=\"btn green btn-xs text-right\" href=\"../../../view.aspx?EventID=city2surf&amp;Edition=2012&amp;bib=00179\"><i class=\"fa fa-play\"></i> view</a></td>\n",
       "</tr><tr>\n",
       "<td>44</td><td class=\"hidden-480\">00235</td><td><a href=\"../../../view.aspx?EventID=city2surf&amp;Edition=2012&amp;bib=00235\">NICHOLAS BELLEMORE</a></td><td class=\"text-center\">00:47:16</td><td class=\"hidden-480 text-center\">44</td><td class=\"hidden-480 text-center\">M</td><td class=\"hidden-480 text-center\">43</td><td class=\"hidden-480 text-center\">M20-29</td><td class=\"hidden-480 text-center\">22</td><td class=\"hidden-480 text-right\"><a class=\"btn green btn-xs text-right\" href=\"../../../view.aspx?EventID=city2surf&amp;Edition=2012&amp;bib=00235\"><i class=\"fa fa-play\"></i> view</a></td>\n",
       "</tr><tr>\n",
       "<td>45</td><td class=\"hidden-480\">00022</td><td><a href=\"../../../view.aspx?EventID=city2surf&amp;Edition=2012&amp;bib=00022\">KEVIN ROBERTSON</a></td><td class=\"text-center\">00:47:20</td><td class=\"hidden-480 text-center\">45</td><td class=\"hidden-480 text-center\">M</td><td class=\"hidden-480 text-center\">44</td><td class=\"hidden-480 text-center\">M30-39</td><td class=\"hidden-480 text-center\">17</td><td class=\"hidden-480 text-right\"><a class=\"btn green btn-xs text-right\" href=\"../../../view.aspx?EventID=city2surf&amp;Edition=2012&amp;bib=00022\"><i class=\"fa fa-play\"></i> view</a></td>\n",
       "</tr><tr>\n",
       "<td>46</td><td class=\"hidden-480\">00102</td><td><a href=\"../../../view.aspx?EventID=city2surf&amp;Edition=2012&amp;bib=00102\">NICHOLAS COPE</a></td><td class=\"text-center\">00:47:22</td><td class=\"hidden-480 text-center\">46</td><td class=\"hidden-480 text-center\">M</td><td class=\"hidden-480 text-center\">45</td><td class=\"hidden-480 text-center\">M40-49</td><td class=\"hidden-480 text-center\">4</td><td class=\"hidden-480 text-right\"><a class=\"btn green btn-xs text-right\" href=\"../../../view.aspx?EventID=city2surf&amp;Edition=2012&amp;bib=00102\"><i class=\"fa fa-play\"></i> view</a></td>\n",
       "</tr><tr>\n",
       "<td>47</td><td class=\"hidden-480\">00250</td><td><a href=\"../../../view.aspx?EventID=city2surf&amp;Edition=2012&amp;bib=00250\">KEITH BATEMAN</a></td><td class=\"text-center\">00:47:31</td><td class=\"hidden-480 text-center\">47</td><td class=\"hidden-480 text-center\">M</td><td class=\"hidden-480 text-center\">46</td><td class=\"hidden-480 text-center\">M50-59</td><td class=\"hidden-480 text-center\">1</td><td class=\"hidden-480 text-right\"><a class=\"btn green btn-xs text-right\" href=\"../../../view.aspx?EventID=city2surf&amp;Edition=2012&amp;bib=00250\"><i class=\"fa fa-play\"></i> view</a></td>\n",
       "</tr><tr>\n",
       "<td>48</td><td class=\"hidden-480\">00201</td><td><a href=\"../../../view.aspx?EventID=city2surf&amp;Edition=2012&amp;bib=00201\">EMIR MUJCINOVIC</a></td><td class=\"text-center\">00:47:37</td><td class=\"hidden-480 text-center\">48</td><td class=\"hidden-480 text-center\">M</td><td class=\"hidden-480 text-center\">47</td><td class=\"hidden-480 text-center\">M30-39</td><td class=\"hidden-480 text-center\">18</td><td class=\"hidden-480 text-right\"><a class=\"btn green btn-xs text-right\" href=\"../../../view.aspx?EventID=city2surf&amp;Edition=2012&amp;bib=00201\"><i class=\"fa fa-play\"></i> view</a></td>\n",
       "</tr><tr>\n",
       "<td>49</td><td class=\"hidden-480\">00399</td><td><a href=\"../../../view.aspx?EventID=city2surf&amp;Edition=2012&amp;bib=00399\">SAM MACKIE</a></td><td class=\"text-center\">00:47:39</td><td class=\"hidden-480 text-center\">49</td><td class=\"hidden-480 text-center\">M</td><td class=\"hidden-480 text-center\">48</td><td class=\"hidden-480 text-center\">M16-19</td><td class=\"hidden-480 text-center\">3</td><td class=\"hidden-480 text-right\"><a class=\"btn green btn-xs text-right\" href=\"../../../view.aspx?EventID=city2surf&amp;Edition=2012&amp;bib=00399\"><i class=\"fa fa-play\"></i> view</a></td>\n",
       "</tr><tr>\n",
       "<td>50</td><td class=\"hidden-480\">00018</td><td><a href=\"../../../view.aspx?EventID=city2surf&amp;Edition=2012&amp;bib=00018\">BRUCE GRAHAM</a></td><td class=\"text-center\">00:47:46</td><td class=\"hidden-480 text-center\">50</td><td class=\"hidden-480 text-center\">M</td><td class=\"hidden-480 text-center\">49</td><td class=\"hidden-480 text-center\">M50-59</td><td class=\"hidden-480 text-center\">2</td><td class=\"hidden-480 text-right\"><a class=\"btn green btn-xs text-right\" href=\"../../../view.aspx?EventID=city2surf&amp;Edition=2012&amp;bib=00018\"><i class=\"fa fa-play\"></i> view</a></td>\n",
       "</tr><tr>\n",
       "<td>51</td><td class=\"hidden-480\">00124</td><td><a href=\"../../../view.aspx?EventID=city2surf&amp;Edition=2012&amp;bib=00124\">MATT HODDER</a></td><td class=\"text-center\">00:47:51</td><td class=\"hidden-480 text-center\">51</td><td class=\"hidden-480 text-center\">M</td><td class=\"hidden-480 text-center\">50</td><td class=\"hidden-480 text-center\">M30-39</td><td class=\"hidden-480 text-center\">19</td><td class=\"hidden-480 text-right\"><a class=\"btn green btn-xs text-right\" href=\"../../../view.aspx?EventID=city2surf&amp;Edition=2012&amp;bib=00124\"><i class=\"fa fa-play\"></i> view</a></td>\n",
       "</tr><tr>\n",
       "<td>52</td><td class=\"hidden-480\">03759</td><td><a href=\"../../../view.aspx?EventID=city2surf&amp;Edition=2012&amp;bib=03759\">JAMES NICKLESS</a></td><td class=\"text-center\">00:48:00</td><td class=\"hidden-480 text-center\">52</td><td class=\"hidden-480 text-center\">M</td><td class=\"hidden-480 text-center\">51</td><td class=\"hidden-480 text-center\">M20-29</td><td class=\"hidden-480 text-center\">23</td><td class=\"hidden-480 text-right\"><a class=\"btn green btn-xs text-right\" href=\"../../../view.aspx?EventID=city2surf&amp;Edition=2012&amp;bib=03759\"><i class=\"fa fa-play\"></i> view</a></td>\n",
       "</tr><tr>\n",
       "<td>53</td><td class=\"hidden-480\">00280</td><td><a href=\"../../../view.aspx?EventID=city2surf&amp;Edition=2012&amp;bib=00280\">ALEX ROGERS</a></td><td class=\"text-center\">00:48:02</td><td class=\"hidden-480 text-center\">53</td><td class=\"hidden-480 text-center\">M</td><td class=\"hidden-480 text-center\">52</td><td class=\"hidden-480 text-center\">M30-39</td><td class=\"hidden-480 text-center\">20</td><td class=\"hidden-480 text-right\"><a class=\"btn green btn-xs text-right\" href=\"../../../view.aspx?EventID=city2surf&amp;Edition=2012&amp;bib=00280\"><i class=\"fa fa-play\"></i> view</a></td>\n",
       "</tr><tr>\n",
       "<td>54</td><td class=\"hidden-480\">02842</td><td><a href=\"../../../view.aspx?EventID=city2surf&amp;Edition=2012&amp;bib=02842\">PAUL ATKINS</a></td><td class=\"text-center\">00:48:03</td><td class=\"hidden-480 text-center\">54</td><td class=\"hidden-480 text-center\">M</td><td class=\"hidden-480 text-center\">53</td><td class=\"hidden-480 text-center\">M40-49</td><td class=\"hidden-480 text-center\">5</td><td class=\"hidden-480 text-right\"><a class=\"btn green btn-xs text-right\" href=\"../../../view.aspx?EventID=city2surf&amp;Edition=2012&amp;bib=02842\"><i class=\"fa fa-play\"></i> view</a></td>\n",
       "</tr><tr>\n",
       "<td>55</td><td class=\"hidden-480\">00256</td><td><a href=\"../../../view.aspx?EventID=city2surf&amp;Edition=2012&amp;bib=00256\">JONATHAN BLEASEL</a></td><td class=\"text-center\">00:48:08</td><td class=\"hidden-480 text-center\">55</td><td class=\"hidden-480 text-center\">M</td><td class=\"hidden-480 text-center\">54</td><td class=\"hidden-480 text-center\">M20-29</td><td class=\"hidden-480 text-center\">24</td><td class=\"hidden-480 text-right\"><a class=\"btn green btn-xs text-right\" href=\"../../../view.aspx?EventID=city2surf&amp;Edition=2012&amp;bib=00256\"><i class=\"fa fa-play\"></i> view</a></td>\n",
       "</tr><tr>\n",
       "<td>56</td><td class=\"hidden-480\">00229</td><td><a href=\"../../../view.aspx?EventID=city2surf&amp;Edition=2012&amp;bib=00229\">CRAIG MCCREDIE</a></td><td class=\"text-center\">00:48:13</td><td class=\"hidden-480 text-center\">56</td><td class=\"hidden-480 text-center\">M</td><td class=\"hidden-480 text-center\">55</td><td class=\"hidden-480 text-center\">M30-39</td><td class=\"hidden-480 text-center\">21</td><td class=\"hidden-480 text-right\"><a class=\"btn green btn-xs text-right\" href=\"../../../view.aspx?EventID=city2surf&amp;Edition=2012&amp;bib=00229\"><i class=\"fa fa-play\"></i> view</a></td>\n",
       "</tr><tr>\n",
       "<td>57</td><td class=\"hidden-480\">00218</td><td><a href=\"../../../view.aspx?EventID=city2surf&amp;Edition=2012&amp;bib=00218\">BEN FAHY</a></td><td class=\"text-center\">00:48:14</td><td class=\"hidden-480 text-center\">57</td><td class=\"hidden-480 text-center\">M</td><td class=\"hidden-480 text-center\">56</td><td class=\"hidden-480 text-center\">M30-39</td><td class=\"hidden-480 text-center\">22</td><td class=\"hidden-480 text-right\"><a class=\"btn green btn-xs text-right\" href=\"../../../view.aspx?EventID=city2surf&amp;Edition=2012&amp;bib=00218\"><i class=\"fa fa-play\"></i> view</a></td>\n",
       "</tr><tr>\n",
       "<td>58</td><td class=\"hidden-480\">00249</td><td><a href=\"../../../view.aspx?EventID=city2surf&amp;Edition=2012&amp;bib=00249\">CLAY DAWSON</a></td><td class=\"text-center\">00:48:16</td><td class=\"hidden-480 text-center\">58</td><td class=\"hidden-480 text-center\">M</td><td class=\"hidden-480 text-center\">57</td><td class=\"hidden-480 text-center\">M30-39</td><td class=\"hidden-480 text-center\">23</td><td class=\"hidden-480 text-right\"><a class=\"btn green btn-xs text-right\" href=\"../../../view.aspx?EventID=city2surf&amp;Edition=2012&amp;bib=00249\"><i class=\"fa fa-play\"></i> view</a></td>\n",
       "</tr><tr>\n",
       "<td>59</td><td class=\"hidden-480\">00052</td><td><a href=\"../../../view.aspx?EventID=city2surf&amp;Edition=2012&amp;bib=00052\">ANDREW CROSS</a></td><td class=\"text-center\">00:48:19</td><td class=\"hidden-480 text-center\">59</td><td class=\"hidden-480 text-center\">M</td><td class=\"hidden-480 text-center\">58</td><td class=\"hidden-480 text-center\">M30-39</td><td class=\"hidden-480 text-center\">24</td><td class=\"hidden-480 text-right\"><a class=\"btn green btn-xs text-right\" href=\"../../../view.aspx?EventID=city2surf&amp;Edition=2012&amp;bib=00052\"><i class=\"fa fa-play\"></i> view</a></td>\n",
       "</tr><tr>\n",
       "<td>60</td><td class=\"hidden-480\">00198</td><td><a href=\"../../../view.aspx?EventID=city2surf&amp;Edition=2012&amp;bib=00198\">JAMES PERRETT</a></td><td class=\"text-center\">00:48:21</td><td class=\"hidden-480 text-center\">60</td><td class=\"hidden-480 text-center\">M</td><td class=\"hidden-480 text-center\">59</td><td class=\"hidden-480 text-center\">M20-29</td><td class=\"hidden-480 text-center\">25</td><td class=\"hidden-480 text-right\"><a class=\"btn green btn-xs text-right\" href=\"../../../view.aspx?EventID=city2surf&amp;Edition=2012&amp;bib=00198\"><i class=\"fa fa-play\"></i> view</a></td>\n",
       "</tr><tr>\n",
       "<td>61</td><td class=\"hidden-480\">00294</td><td><a href=\"../../../view.aspx?EventID=city2surf&amp;Edition=2012&amp;bib=00294\">DAVID SPENCE</a></td><td class=\"text-center\">00:48:22</td><td class=\"hidden-480 text-center\">61</td><td class=\"hidden-480 text-center\">M</td><td class=\"hidden-480 text-center\">60</td><td class=\"hidden-480 text-center\">M20-29</td><td class=\"hidden-480 text-center\">26</td><td class=\"hidden-480 text-right\"><a class=\"btn green btn-xs text-right\" href=\"../../../view.aspx?EventID=city2surf&amp;Edition=2012&amp;bib=00294\"><i class=\"fa fa-play\"></i> view</a></td>\n",
       "</tr><tr>\n",
       "<td>62</td><td class=\"hidden-480\">00286</td><td><a href=\"../../../view.aspx?EventID=city2surf&amp;Edition=2012&amp;bib=00286\">CALE BOWD</a></td><td class=\"text-center\">00:48:31</td><td class=\"hidden-480 text-center\">62</td><td class=\"hidden-480 text-center\">M</td><td class=\"hidden-480 text-center\">61</td><td class=\"hidden-480 text-center\">M20-29</td><td class=\"hidden-480 text-center\">27</td><td class=\"hidden-480 text-right\"><a class=\"btn green btn-xs text-right\" href=\"../../../view.aspx?EventID=city2surf&amp;Edition=2012&amp;bib=00286\"><i class=\"fa fa-play\"></i> view</a></td>\n",
       "</tr><tr>\n",
       "<td>63</td><td class=\"hidden-480\">00142</td><td><a href=\"../../../view.aspx?EventID=city2surf&amp;Edition=2012&amp;bib=00142\">BRAD HETHARIA</a></td><td class=\"text-center\">00:48:34</td><td class=\"hidden-480 text-center\">63</td><td class=\"hidden-480 text-center\">M</td><td class=\"hidden-480 text-center\">62</td><td class=\"hidden-480 text-center\">M30-39</td><td class=\"hidden-480 text-center\">25</td><td class=\"hidden-480 text-right\"><a class=\"btn green btn-xs text-right\" href=\"../../../view.aspx?EventID=city2surf&amp;Edition=2012&amp;bib=00142\"><i class=\"fa fa-play\"></i> view</a></td>\n",
       "</tr><tr>\n",
       "<td>64</td><td class=\"hidden-480\">00085</td><td><a href=\"../../../view.aspx?EventID=city2surf&amp;Edition=2012&amp;bib=00085\">NICK BROMLEY</a></td><td class=\"text-center\">00:48:36</td><td class=\"hidden-480 text-center\">64</td><td class=\"hidden-480 text-center\">M</td><td class=\"hidden-480 text-center\">63</td><td class=\"hidden-480 text-center\">M20-29</td><td class=\"hidden-480 text-center\">28</td><td class=\"hidden-480 text-right\"><a class=\"btn green btn-xs text-right\" href=\"../../../view.aspx?EventID=city2surf&amp;Edition=2012&amp;bib=00085\"><i class=\"fa fa-play\"></i> view</a></td>\n",
       "</tr><tr>\n",
       "<td>65</td><td class=\"hidden-480\">00055</td><td><a href=\"../../../view.aspx?EventID=city2surf&amp;Edition=2012&amp;bib=00055\">ROBERT SCHWERKOLT</a></td><td class=\"text-center\">00:48:36</td><td class=\"hidden-480 text-center\">65</td><td class=\"hidden-480 text-center\">M</td><td class=\"hidden-480 text-center\">64</td><td class=\"hidden-480 text-center\">M40-49</td><td class=\"hidden-480 text-center\">6</td><td class=\"hidden-480 text-right\"><a class=\"btn green btn-xs text-right\" href=\"../../../view.aspx?EventID=city2surf&amp;Edition=2012&amp;bib=00055\"><i class=\"fa fa-play\"></i> view</a></td>\n",
       "</tr><tr>\n",
       "<td>66</td><td class=\"hidden-480\">00040</td><td><a href=\"../../../view.aspx?EventID=city2surf&amp;Edition=2012&amp;bib=00040\">ANTHONY FARRUGIA</a></td><td class=\"text-center\">00:48:36</td><td class=\"hidden-480 text-center\">66</td><td class=\"hidden-480 text-center\">M</td><td class=\"hidden-480 text-center\">65</td><td class=\"hidden-480 text-center\">M30-39</td><td class=\"hidden-480 text-center\">26</td><td class=\"hidden-480 text-right\"><a class=\"btn green btn-xs text-right\" href=\"../../../view.aspx?EventID=city2surf&amp;Edition=2012&amp;bib=00040\"><i class=\"fa fa-play\"></i> view</a></td>\n",
       "</tr><tr>\n",
       "<td>67</td><td class=\"hidden-480\">00313</td><td><a href=\"../../../view.aspx?EventID=city2surf&amp;Edition=2012&amp;bib=00313\">KYLE MACDONALD</a></td><td class=\"text-center\">00:48:41</td><td class=\"hidden-480 text-center\">67</td><td class=\"hidden-480 text-center\">M</td><td class=\"hidden-480 text-center\">66</td><td class=\"hidden-480 text-center\">M16-19</td><td class=\"hidden-480 text-center\">4</td><td class=\"hidden-480 text-right\"><a class=\"btn green btn-xs text-right\" href=\"../../../view.aspx?EventID=city2surf&amp;Edition=2012&amp;bib=00313\"><i class=\"fa fa-play\"></i> view</a></td>\n",
       "</tr><tr>\n",
       "<td>68</td><td class=\"hidden-480\">00387</td><td><a href=\"../../../view.aspx?EventID=city2surf&amp;Edition=2012&amp;bib=00387\">ANDREW WILSON</a></td><td class=\"text-center\">00:48:42</td><td class=\"hidden-480 text-center\">68</td><td class=\"hidden-480 text-center\">M</td><td class=\"hidden-480 text-center\">67</td><td class=\"hidden-480 text-center\">M40-49</td><td class=\"hidden-480 text-center\">7</td><td class=\"hidden-480 text-right\"><a class=\"btn green btn-xs text-right\" href=\"../../../view.aspx?EventID=city2surf&amp;Edition=2012&amp;bib=00387\"><i class=\"fa fa-play\"></i> view</a></td>\n",
       "</tr><tr>\n",
       "<td>69</td><td class=\"hidden-480\">00101</td><td><a href=\"../../../view.aspx?EventID=city2surf&amp;Edition=2012&amp;bib=00101\">SAMUEL TICKLE</a></td><td class=\"text-center\">00:48:47</td><td class=\"hidden-480 text-center\">69</td><td class=\"hidden-480 text-center\">M</td><td class=\"hidden-480 text-center\">68</td><td class=\"hidden-480 text-center\">M16-19</td><td class=\"hidden-480 text-center\">5</td><td class=\"hidden-480 text-right\"><a class=\"btn green btn-xs text-right\" href=\"../../../view.aspx?EventID=city2surf&amp;Edition=2012&amp;bib=00101\"><i class=\"fa fa-play\"></i> view</a></td>\n",
       "</tr><tr>\n",
       "<td>70</td><td class=\"hidden-480\">00299</td><td><a href=\"../../../view.aspx?EventID=city2surf&amp;Edition=2012&amp;bib=00299\">MATTHEW HO</a></td><td class=\"text-center\">00:48:54</td><td class=\"hidden-480 text-center\">70</td><td class=\"hidden-480 text-center\">M</td><td class=\"hidden-480 text-center\">69</td><td class=\"hidden-480 text-center\">M20-29</td><td class=\"hidden-480 text-center\">29</td><td class=\"hidden-480 text-right\"><a class=\"btn green btn-xs text-right\" href=\"../../../view.aspx?EventID=city2surf&amp;Edition=2012&amp;bib=00299\"><i class=\"fa fa-play\"></i> view</a></td>\n",
       "</tr><tr>\n",
       "<td>71</td><td class=\"hidden-480\">00169</td><td><a href=\"../../../view.aspx?EventID=city2surf&amp;Edition=2012&amp;bib=00169\">DAVID HUTCHINSON</a></td><td class=\"text-center\">00:48:54</td><td class=\"hidden-480 text-center\">71</td><td class=\"hidden-480 text-center\">M</td><td class=\"hidden-480 text-center\">70</td><td class=\"hidden-480 text-center\">M20-29</td><td class=\"hidden-480 text-center\">30</td><td class=\"hidden-480 text-right\"><a class=\"btn green btn-xs text-right\" href=\"../../../view.aspx?EventID=city2surf&amp;Edition=2012&amp;bib=00169\"><i class=\"fa fa-play\"></i> view</a></td>\n",
       "</tr><tr>\n",
       "<td>72</td><td class=\"hidden-480\">00193</td><td><a href=\"../../../view.aspx?EventID=city2surf&amp;Edition=2012&amp;bib=00193\">XAVIER BLACK</a></td><td class=\"text-center\">00:48:55</td><td class=\"hidden-480 text-center\">72</td><td class=\"hidden-480 text-center\">M</td><td class=\"hidden-480 text-center\">71</td><td class=\"hidden-480 text-center\">M16-19</td><td class=\"hidden-480 text-center\">6</td><td class=\"hidden-480 text-right\"><a class=\"btn green btn-xs text-right\" href=\"../../../view.aspx?EventID=city2surf&amp;Edition=2012&amp;bib=00193\"><i class=\"fa fa-play\"></i> view</a></td>\n",
       "</tr><tr>\n",
       "<td>73</td><td class=\"hidden-480\">00025</td><td><a href=\"../../../view.aspx?EventID=city2surf&amp;Edition=2012&amp;bib=00025\">CLARE GERAGHTY</a></td><td class=\"text-center\">00:48:55</td><td class=\"hidden-480 text-center\">73</td><td class=\"hidden-480 text-center\">F</td><td class=\"hidden-480 text-center\">2</td><td class=\"hidden-480 text-center\">F20-29</td><td class=\"hidden-480 text-center\">2</td><td class=\"hidden-480 text-right\"><a class=\"btn green btn-xs text-right\" href=\"../../../view.aspx?EventID=city2surf&amp;Edition=2012&amp;bib=00025\"><i class=\"fa fa-play\"></i> view</a></td>\n",
       "</tr><tr>\n",
       "<td>74</td><td class=\"hidden-480\">00145</td><td><a href=\"../../../view.aspx?EventID=city2surf&amp;Edition=2012&amp;bib=00145\">JAMES MINTO</a></td><td class=\"text-center\">00:48:57</td><td class=\"hidden-480 text-center\">74</td><td class=\"hidden-480 text-center\">M</td><td class=\"hidden-480 text-center\">72</td><td class=\"hidden-480 text-center\">M30-39</td><td class=\"hidden-480 text-center\">27</td><td class=\"hidden-480 text-right\"><a class=\"btn green btn-xs text-right\" href=\"../../../view.aspx?EventID=city2surf&amp;Edition=2012&amp;bib=00145\"><i class=\"fa fa-play\"></i> view</a></td>\n",
       "</tr><tr>\n",
       "<td>75</td><td class=\"hidden-480\">00251</td><td><a href=\"../../../view.aspx?EventID=city2surf&amp;Edition=2012&amp;bib=00251\">JONATHAN WINDSOR</a></td><td class=\"text-center\">00:48:59</td><td class=\"hidden-480 text-center\">75</td><td class=\"hidden-480 text-center\">M</td><td class=\"hidden-480 text-center\">73</td><td class=\"hidden-480 text-center\">M20-29</td><td class=\"hidden-480 text-center\">31</td><td class=\"hidden-480 text-right\"><a class=\"btn green btn-xs text-right\" href=\"../../../view.aspx?EventID=city2surf&amp;Edition=2012&amp;bib=00251\"><i class=\"fa fa-play\"></i> view</a></td>\n",
       "</tr><tr>\n",
       "<td>76</td><td class=\"hidden-480\">00194</td><td><a href=\"../../../view.aspx?EventID=city2surf&amp;Edition=2012&amp;bib=00194\">RICHARD HIGH</a></td><td class=\"text-center\">00:49:01</td><td class=\"hidden-480 text-center\">76</td><td class=\"hidden-480 text-center\">M</td><td class=\"hidden-480 text-center\">74</td><td class=\"hidden-480 text-center\">M30-39</td><td class=\"hidden-480 text-center\">28</td><td class=\"hidden-480 text-right\"><a class=\"btn green btn-xs text-right\" href=\"../../../view.aspx?EventID=city2surf&amp;Edition=2012&amp;bib=00194\"><i class=\"fa fa-play\"></i> view</a></td>\n",
       "</tr><tr>\n",
       "<td>77</td><td class=\"hidden-480\">00322</td><td><a href=\"../../../view.aspx?EventID=city2surf&amp;Edition=2012&amp;bib=00322\">KYLE MARTIN-ALCAIDE</a></td><td class=\"text-center\">00:49:02</td><td class=\"hidden-480 text-center\">77</td><td class=\"hidden-480 text-center\">M</td><td class=\"hidden-480 text-center\">75</td><td class=\"hidden-480 text-center\">M16-19</td><td class=\"hidden-480 text-center\">7</td><td class=\"hidden-480 text-right\"><a class=\"btn green btn-xs text-right\" href=\"../../../view.aspx?EventID=city2surf&amp;Edition=2012&amp;bib=00322\"><i class=\"fa fa-play\"></i> view</a></td>\n",
       "</tr><tr>\n",
       "<td>78</td><td class=\"hidden-480\">00172</td><td><a href=\"../../../view.aspx?EventID=city2surf&amp;Edition=2012&amp;bib=00172\">DAVID OSMOND</a></td><td class=\"text-center\">00:49:03</td><td class=\"hidden-480 text-center\">78</td><td class=\"hidden-480 text-center\">M</td><td class=\"hidden-480 text-center\">76</td><td class=\"hidden-480 text-center\">M30-39</td><td class=\"hidden-480 text-center\">29</td><td class=\"hidden-480 text-right\"><a class=\"btn green btn-xs text-right\" href=\"../../../view.aspx?EventID=city2surf&amp;Edition=2012&amp;bib=00172\"><i class=\"fa fa-play\"></i> view</a></td>\n",
       "</tr><tr>\n",
       "<td>79</td><td class=\"hidden-480\">00403</td><td><a href=\"../../../view.aspx?EventID=city2surf&amp;Edition=2012&amp;bib=00403\">TERENCE BELL</a></td><td class=\"text-center\">00:49:03</td><td class=\"hidden-480 text-center\">79</td><td class=\"hidden-480 text-center\">M</td><td class=\"hidden-480 text-center\">77</td><td class=\"hidden-480 text-center\">M30-39</td><td class=\"hidden-480 text-center\">30</td><td class=\"hidden-480 text-right\"><a class=\"btn green btn-xs text-right\" href=\"../../../view.aspx?EventID=city2surf&amp;Edition=2012&amp;bib=00403\"><i class=\"fa fa-play\"></i> view</a></td>\n",
       "</tr><tr>\n",
       "<td>80</td><td class=\"hidden-480\">00334</td><td><a href=\"../../../view.aspx?EventID=city2surf&amp;Edition=2012&amp;bib=00334\">MATT WEBSTER</a></td><td class=\"text-center\">00:49:06</td><td class=\"hidden-480 text-center\">80</td><td class=\"hidden-480 text-center\">M</td><td class=\"hidden-480 text-center\">78</td><td class=\"hidden-480 text-center\">M30-39</td><td class=\"hidden-480 text-center\">31</td><td class=\"hidden-480 text-right\"><a class=\"btn green btn-xs text-right\" href=\"../../../view.aspx?EventID=city2surf&amp;Edition=2012&amp;bib=00334\"><i class=\"fa fa-play\"></i> view</a></td>\n",
       "</tr><tr>\n",
       "<td>81</td><td class=\"hidden-480\">00240</td><td><a href=\"../../../view.aspx?EventID=city2surf&amp;Edition=2012&amp;bib=00240\">PAUL O'DOHERTY</a></td><td class=\"text-center\">00:49:08</td><td class=\"hidden-480 text-center\">81</td><td class=\"hidden-480 text-center\">M</td><td class=\"hidden-480 text-center\">79</td><td class=\"hidden-480 text-center\">M30-39</td><td class=\"hidden-480 text-center\">32</td><td class=\"hidden-480 text-right\"><a class=\"btn green btn-xs text-right\" href=\"../../../view.aspx?EventID=city2surf&amp;Edition=2012&amp;bib=00240\"><i class=\"fa fa-play\"></i> view</a></td>\n",
       "</tr><tr>\n",
       "<td>82</td><td class=\"hidden-480\">00209</td><td><a href=\"../../../view.aspx?EventID=city2surf&amp;Edition=2012&amp;bib=00209\">PETER GREEN</a></td><td class=\"text-center\">00:49:09</td><td class=\"hidden-480 text-center\">82</td><td class=\"hidden-480 text-center\">M</td><td class=\"hidden-480 text-center\">80</td><td class=\"hidden-480 text-center\">M16-19</td><td class=\"hidden-480 text-center\">8</td><td class=\"hidden-480 text-right\"><a class=\"btn green btn-xs text-right\" href=\"../../../view.aspx?EventID=city2surf&amp;Edition=2012&amp;bib=00209\"><i class=\"fa fa-play\"></i> view</a></td>\n",
       "</tr><tr>\n",
       "<td>83</td><td class=\"hidden-480\">00358</td><td><a href=\"../../../view.aspx?EventID=city2surf&amp;Edition=2012&amp;bib=00358\">JERRAD BORODZICZ</a></td><td class=\"text-center\">00:49:12</td><td class=\"hidden-480 text-center\">83</td><td class=\"hidden-480 text-center\">M</td><td class=\"hidden-480 text-center\">81</td><td class=\"hidden-480 text-center\">M30-39</td><td class=\"hidden-480 text-center\">33</td><td class=\"hidden-480 text-right\"><a class=\"btn green btn-xs text-right\" href=\"../../../view.aspx?EventID=city2surf&amp;Edition=2012&amp;bib=00358\"><i class=\"fa fa-play\"></i> view</a></td>\n",
       "</tr><tr>\n",
       "<td>84</td><td class=\"hidden-480\">00291</td><td><a href=\"../../../view.aspx?EventID=city2surf&amp;Edition=2012&amp;bib=00291\">HAMISH MACDONALD</a></td><td class=\"text-center\">00:49:12</td><td class=\"hidden-480 text-center\">84</td><td class=\"hidden-480 text-center\">M</td><td class=\"hidden-480 text-center\">82</td><td class=\"hidden-480 text-center\">M30-39</td><td class=\"hidden-480 text-center\">34</td><td class=\"hidden-480 text-right\"><a class=\"btn green btn-xs text-right\" href=\"../../../view.aspx?EventID=city2surf&amp;Edition=2012&amp;bib=00291\"><i class=\"fa fa-play\"></i> view</a></td>\n",
       "</tr><tr>\n",
       "<td>85</td><td class=\"hidden-480\">00257</td><td><a href=\"../../../view.aspx?EventID=city2surf&amp;Edition=2012&amp;bib=00257\">DANIEL MARCIANO</a></td><td class=\"text-center\">00:49:12</td><td class=\"hidden-480 text-center\">85</td><td class=\"hidden-480 text-center\">M</td><td class=\"hidden-480 text-center\">83</td><td class=\"hidden-480 text-center\">M20-29</td><td class=\"hidden-480 text-center\">32</td><td class=\"hidden-480 text-right\"><a class=\"btn green btn-xs text-right\" href=\"../../../view.aspx?EventID=city2surf&amp;Edition=2012&amp;bib=00257\"><i class=\"fa fa-play\"></i> view</a></td>\n",
       "</tr><tr>\n",
       "<td>86</td><td class=\"hidden-480\">00259</td><td><a href=\"../../../view.aspx?EventID=city2surf&amp;Edition=2012&amp;bib=00259\">DAVID DREVERMAN</a></td><td class=\"text-center\">00:49:13</td><td class=\"hidden-480 text-center\">86</td><td class=\"hidden-480 text-center\">M</td><td class=\"hidden-480 text-center\">84</td><td class=\"hidden-480 text-center\">M20-29</td><td class=\"hidden-480 text-center\">33</td><td class=\"hidden-480 text-right\"><a class=\"btn green btn-xs text-right\" href=\"../../../view.aspx?EventID=city2surf&amp;Edition=2012&amp;bib=00259\"><i class=\"fa fa-play\"></i> view</a></td>\n",
       "</tr><tr>\n",
       "<td>87</td><td class=\"hidden-480\">00196</td><td><a href=\"../../../view.aspx?EventID=city2surf&amp;Edition=2012&amp;bib=00196\">PAUL MCCLARNON</a></td><td class=\"text-center\">00:49:16</td><td class=\"hidden-480 text-center\">87</td><td class=\"hidden-480 text-center\">M</td><td class=\"hidden-480 text-center\">85</td><td class=\"hidden-480 text-center\">M40-49</td><td class=\"hidden-480 text-center\">8</td><td class=\"hidden-480 text-right\"><a class=\"btn green btn-xs text-right\" href=\"../../../view.aspx?EventID=city2surf&amp;Edition=2012&amp;bib=00196\"><i class=\"fa fa-play\"></i> view</a></td>\n",
       "</tr><tr>\n",
       "<td>88</td><td class=\"hidden-480\">00317</td><td><a href=\"../../../view.aspx?EventID=city2surf&amp;Edition=2012&amp;bib=00317\">MIKE AUSTIN</a></td><td class=\"text-center\">00:49:22</td><td class=\"hidden-480 text-center\">88</td><td class=\"hidden-480 text-center\">M</td><td class=\"hidden-480 text-center\">86</td><td class=\"hidden-480 text-center\">M30-39</td><td class=\"hidden-480 text-center\">35</td><td class=\"hidden-480 text-right\"><a class=\"btn green btn-xs text-right\" href=\"../../../view.aspx?EventID=city2surf&amp;Edition=2012&amp;bib=00317\"><i class=\"fa fa-play\"></i> view</a></td>\n",
       "</tr><tr>\n",
       "<td>89</td><td class=\"hidden-480\">00303</td><td><a href=\"../../../view.aspx?EventID=city2surf&amp;Edition=2012&amp;bib=00303\">BRENT GODFREY</a></td><td class=\"text-center\">00:49:22</td><td class=\"hidden-480 text-center\">89</td><td class=\"hidden-480 text-center\">M</td><td class=\"hidden-480 text-center\">87</td><td class=\"hidden-480 text-center\">M20-29</td><td class=\"hidden-480 text-center\">34</td><td class=\"hidden-480 text-right\"><a class=\"btn green btn-xs text-right\" href=\"../../../view.aspx?EventID=city2surf&amp;Edition=2012&amp;bib=00303\"><i class=\"fa fa-play\"></i> view</a></td>\n",
       "</tr><tr>\n",
       "<td>90</td><td class=\"hidden-480\">00263</td><td><a href=\"../../../view.aspx?EventID=city2surf&amp;Edition=2012&amp;bib=00263\">MATTHEW HUDSON</a></td><td class=\"text-center\">00:49:23</td><td class=\"hidden-480 text-center\">90</td><td class=\"hidden-480 text-center\">M</td><td class=\"hidden-480 text-center\">88</td><td class=\"hidden-480 text-center\">M20-29</td><td class=\"hidden-480 text-center\">35</td><td class=\"hidden-480 text-right\"><a class=\"btn green btn-xs text-right\" href=\"../../../view.aspx?EventID=city2surf&amp;Edition=2012&amp;bib=00263\"><i class=\"fa fa-play\"></i> view</a></td>\n",
       "</tr><tr>\n",
       "<td>91</td><td class=\"hidden-480\">00089</td><td><a href=\"../../../view.aspx?EventID=city2surf&amp;Edition=2012&amp;bib=00089\">ABIGAIL BAYLEY</a></td><td class=\"text-center\">00:49:26</td><td class=\"hidden-480 text-center\">91</td><td class=\"hidden-480 text-center\">F</td><td class=\"hidden-480 text-center\">3</td><td class=\"hidden-480 text-center\">F30-39</td><td class=\"hidden-480 text-center\">1</td><td class=\"hidden-480 text-right\"><a class=\"btn green btn-xs text-right\" href=\"../../../view.aspx?EventID=city2surf&amp;Edition=2012&amp;bib=00089\"><i class=\"fa fa-play\"></i> view</a></td>\n",
       "</tr><tr>\n",
       "<td>92</td><td class=\"hidden-480\">00309</td><td><a href=\"../../../view.aspx?EventID=city2surf&amp;Edition=2012&amp;bib=00309\">DEAN DEGAN</a></td><td class=\"text-center\">00:49:29</td><td class=\"hidden-480 text-center\">92</td><td class=\"hidden-480 text-center\">M</td><td class=\"hidden-480 text-center\">89</td><td class=\"hidden-480 text-center\">M40-49</td><td class=\"hidden-480 text-center\">9</td><td class=\"hidden-480 text-right\"><a class=\"btn green btn-xs text-right\" href=\"../../../view.aspx?EventID=city2surf&amp;Edition=2012&amp;bib=00309\"><i class=\"fa fa-play\"></i> view</a></td>\n",
       "</tr><tr>\n",
       "<td>93</td><td class=\"hidden-480\">00350</td><td><a href=\"../../../view.aspx?EventID=city2surf&amp;Edition=2012&amp;bib=00350\">NICHOLAS BENNETT</a></td><td class=\"text-center\">00:49:29</td><td class=\"hidden-480 text-center\">93</td><td class=\"hidden-480 text-center\">M</td><td class=\"hidden-480 text-center\">90</td><td class=\"hidden-480 text-center\">M40-49</td><td class=\"hidden-480 text-center\">10</td><td class=\"hidden-480 text-right\"><a class=\"btn green btn-xs text-right\" href=\"../../../view.aspx?EventID=city2surf&amp;Edition=2012&amp;bib=00350\"><i class=\"fa fa-play\"></i> view</a></td>\n",
       "</tr><tr>\n",
       "<td>94</td><td class=\"hidden-480\">00136</td><td><a href=\"../../../view.aspx?EventID=city2surf&amp;Edition=2012&amp;bib=00136\">ADRIAN PHELAN</a></td><td class=\"text-center\">00:49:31</td><td class=\"hidden-480 text-center\">94</td><td class=\"hidden-480 text-center\">M</td><td class=\"hidden-480 text-center\">91</td><td class=\"hidden-480 text-center\">M20-29</td><td class=\"hidden-480 text-center\">36</td><td class=\"hidden-480 text-right\"><a class=\"btn green btn-xs text-right\" href=\"../../../view.aspx?EventID=city2surf&amp;Edition=2012&amp;bib=00136\"><i class=\"fa fa-play\"></i> view</a></td>\n",
       "</tr><tr>\n",
       "<td>95</td><td class=\"hidden-480\">00212</td><td><a href=\"../../../view.aspx?EventID=city2surf&amp;Edition=2012&amp;bib=00212\">GEOFF ARNOLD</a></td><td class=\"text-center\">00:49:32</td><td class=\"hidden-480 text-center\">95</td><td class=\"hidden-480 text-center\">M</td><td class=\"hidden-480 text-center\">92</td><td class=\"hidden-480 text-center\">M20-29</td><td class=\"hidden-480 text-center\">37</td><td class=\"hidden-480 text-right\"><a class=\"btn green btn-xs text-right\" href=\"../../../view.aspx?EventID=city2surf&amp;Edition=2012&amp;bib=00212\"><i class=\"fa fa-play\"></i> view</a></td>\n",
       "</tr><tr>\n",
       "<td>96</td><td class=\"hidden-480\">06131</td><td><a href=\"../../../view.aspx?EventID=city2surf&amp;Edition=2012&amp;bib=06131\">BENJAMIN LOWE</a></td><td class=\"text-center\">00:49:33</td><td class=\"hidden-480 text-center\">96</td><td class=\"hidden-480 text-center\">M</td><td class=\"hidden-480 text-center\">93</td><td class=\"hidden-480 text-center\">M30-39</td><td class=\"hidden-480 text-center\">36</td><td class=\"hidden-480 text-right\"><a class=\"btn green btn-xs text-right\" href=\"../../../view.aspx?EventID=city2surf&amp;Edition=2012&amp;bib=06131\"><i class=\"fa fa-play\"></i> view</a></td>\n",
       "</tr><tr>\n",
       "<td>97</td><td class=\"hidden-480\">00422</td><td><a href=\"../../../view.aspx?EventID=city2surf&amp;Edition=2012&amp;bib=00422\">ANDREW MELLOR</a></td><td class=\"text-center\">00:49:35</td><td class=\"hidden-480 text-center\">97</td><td class=\"hidden-480 text-center\">M</td><td class=\"hidden-480 text-center\">94</td><td class=\"hidden-480 text-center\">M30-39</td><td class=\"hidden-480 text-center\">37</td><td class=\"hidden-480 text-right\"><a class=\"btn green btn-xs text-right\" href=\"../../../view.aspx?EventID=city2surf&amp;Edition=2012&amp;bib=00422\"><i class=\"fa fa-play\"></i> view</a></td>\n",
       "</tr><tr>\n",
       "<td>98</td><td class=\"hidden-480\">05012</td><td><a href=\"../../../view.aspx?EventID=city2surf&amp;Edition=2012&amp;bib=05012\">KEVIN LUCAS</a></td><td class=\"text-center\">00:49:37</td><td class=\"hidden-480 text-center\">98</td><td class=\"hidden-480 text-center\">M</td><td class=\"hidden-480 text-center\">95</td><td class=\"hidden-480 text-center\">M30-39</td><td class=\"hidden-480 text-center\">38</td><td class=\"hidden-480 text-right\"><a class=\"btn green btn-xs text-right\" href=\"../../../view.aspx?EventID=city2surf&amp;Edition=2012&amp;bib=05012\"><i class=\"fa fa-play\"></i> view</a></td>\n",
       "</tr><tr>\n",
       "<td>99</td><td class=\"hidden-480\">00353</td><td><a href=\"../../../view.aspx?EventID=city2surf&amp;Edition=2012&amp;bib=00353\">TROY ARGENT</a></td><td class=\"text-center\">00:49:38</td><td class=\"hidden-480 text-center\">99</td><td class=\"hidden-480 text-center\">M</td><td class=\"hidden-480 text-center\">96</td><td class=\"hidden-480 text-center\">M20-29</td><td class=\"hidden-480 text-center\">38</td><td class=\"hidden-480 text-right\"><a class=\"btn green btn-xs text-right\" href=\"../../../view.aspx?EventID=city2surf&amp;Edition=2012&amp;bib=00353\"><i class=\"fa fa-play\"></i> view</a></td>\n",
       "</tr><tr>\n",
       "<td>100</td><td class=\"hidden-480\">00160</td><td><a href=\"../../../view.aspx?EventID=city2surf&amp;Edition=2012&amp;bib=00160\">ANGUS RANKIN</a></td><td class=\"text-center\">00:49:39</td><td class=\"hidden-480 text-center\">100</td><td class=\"hidden-480 text-center\">M</td><td class=\"hidden-480 text-center\">97</td><td class=\"hidden-480 text-center\">M20-29</td><td class=\"hidden-480 text-center\">39</td><td class=\"hidden-480 text-right\"><a class=\"btn green btn-xs text-right\" href=\"../../../view.aspx?EventID=city2surf&amp;Edition=2012&amp;bib=00160\"><i class=\"fa fa-play\"></i> view</a></td>\n",
       "</tr>\n",
       "</table>"
      ],
      "text/plain": [
       "<IPython.core.display.HTML object>"
      ]
     },
     "execution_count": 46,
     "metadata": {},
     "output_type": "execute_result"
    }
   ],
   "source": [
    "table = soup.find(\"table\")\n",
    "HTML(str(table))"
   ]
  },
  {
   "cell_type": "code",
   "execution_count": 63,
   "metadata": {},
   "outputs": [],
   "source": [
    "df = pd.read_html(table.prettify(), header=0)[0]"
   ]
  },
  {
   "cell_type": "markdown",
   "metadata": {},
   "source": [
    "## links to all the past result pages\n",
    "\n",
    "Now to go through each years link in the past results page, then click on results, scrape result, and keep clicking more until all results are scraped."
   ]
  },
  {
   "cell_type": "code",
   "execution_count": 67,
   "metadata": {
    "collapsed": true
   },
   "outputs": [],
   "source": [
    "r = requests.get(\"http://city2surf.com.au/past-results/\")"
   ]
  },
  {
   "cell_type": "code",
   "execution_count": 98,
   "metadata": {},
   "outputs": [],
   "source": [
    "soup = BeautifulSoup(r.text, \"lxml\")"
   ]
  },
  {
   "cell_type": "code",
   "execution_count": 139,
   "metadata": {},
   "outputs": [
    {
     "name": "stdout",
     "output_type": "stream",
     "text": [
      "https://secure.tiktok.biz/results/city2surf/2017\n",
      "https://secure.tiktok.biz/results/city2surf/2016\n",
      "https://secure.tiktok.biz/results/city2surf/2015/\n",
      "https://secure.tiktok.biz/results/city2surf/2014/\n",
      "https://secure.tiktok.biz/results/city2surf/2013/\n",
      "https://secure.tiktok.biz/results/city2surf/2012/\n",
      "https://secure.tiktok.biz/results/city2surf/2011/\n",
      "https://secure.tiktok.biz/results/city2surf/2010/\n",
      "https://secure.tiktok.biz/results/city2surf/2009/\n",
      "https://secure.tiktok.biz/results/city2surf/2008/\n",
      "https://secure.tiktok.biz/results/city2surf/2007/\n",
      "https://secure.tiktok.biz/results/city2surf/2006\n",
      "https://secure.tiktok.biz/results/city2surf/2005/\n",
      "https://secure.tiktok.biz/results/city2surf/2004/\n",
      "https://secure.tiktok.biz/results/city2surf/2003/\n",
      "https://secure.tiktok.biz/results/city2surf/2002/\n",
      "https://secure.tiktok.biz/results/city2surf/2001/\n",
      "https://secure.tiktok.biz/results/city2surf/2000/\n"
     ]
    }
   ],
   "source": [
    "# get all the links\n",
    "all_links = soup.find_all(\"a\")\n",
    "\n",
    "# we only want the results links\n",
    "links = [link[\"href\"] for link in all_links if \"https://secure.tiktok.biz/results/city2surf/\" in str(link)]\n",
    "\n",
    "# the 2017 url isn't listed, so inserting manually\n",
    "links.insert(0, \"https://secure.tiktok.biz/results/city2surf/2017\")\n",
    "\n",
    "for link in links:\n",
    "    print(link)"
   ]
  },
  {
   "cell_type": "code",
   "execution_count": 144,
   "metadata": {},
   "outputs": [
    {
     "data": {
      "text/html": [
       "<table border=\"0\" class=\"table table-striped table-hover\" id=\"pagePlaceHolder_resTable\">\n",
       "<tr>\n",
       "<th>Race</th><th class=\"hidden-480 text-right\" width=\"8%\">Entrants</th><th class=\"hidden-480 text-right\" width=\"8%\">Finishers</th><th class=\"hidden-480 text-center\" width=\"8%\">1st Male</th><th class=\"hidden-480 text-center\" width=\"8%\">1st Fml.</th><th class=\"hidden-480 text-center\" width=\"8%\">Avg Time</th><th class=\"hidden-480 text-right\" width=\"5%\"></th>\n",
       "</tr><tr>\n",
       "<td><a href=\"../../list.aspx?eventid=city2surf&amp;edition=2003&amp;race=14KM\">The Sun-Herald City2Surf</a></td><td class=\"hidden-480 text-right\">58,444</td><td class=\"hidden-480 text-right\">48,251</td><td class=\"hidden-480 text-center\">00:41:55</td><td class=\"hidden-480 text-center\">00:47:28</td><td class=\"hidden-480 text-center\">01:57:02</td><td class=\"hidden-480 text-right\" width=\"5%\"><a class=\"btn green btn-xs\" href=\"../../list.aspx?eventid=city2surf&amp;edition=2003&amp;race=14KM\"><i class=\"fa fa-list-ol\"></i> results</a></td>\n",
       "</tr>\n",
       "</table>"
      ],
      "text/plain": [
       "<IPython.core.display.HTML object>"
      ]
     },
     "execution_count": 144,
     "metadata": {},
     "output_type": "execute_result"
    }
   ],
   "source": [
    "soup = BeautifulSoup(requests.get(\"https://secure.tiktok.biz/results/city2surf/2003/\").content, \"lxml\")\n",
    "HTML(str(soup.find(\"table\")))"
   ]
  },
  {
   "cell_type": "markdown",
   "metadata": {},
   "source": [
    "now to download all the results into a pandas table. do i end up making one giant table or a table for each year?\n",
    "\n",
    "# get results"
   ]
  },
  {
   "cell_type": "code",
   "execution_count": null,
   "metadata": {
    "collapsed": true
   },
   "outputs": [],
   "source": [
    "def get_results(url):\n",
    "    \"\"\"takes in a url to a results page and returns all the results in a dataframe\"\"\""
   ]
  }
 ],
 "metadata": {
  "kernelspec": {
   "display_name": "Python 3",
   "language": "python",
   "name": "python3"
  },
  "language_info": {
   "codemirror_mode": {
    "name": "ipython",
    "version": 3
   },
   "file_extension": ".py",
   "mimetype": "text/x-python",
   "name": "python",
   "nbconvert_exporter": "python",
   "pygments_lexer": "ipython3",
   "version": "3.6.1"
  }
 },
 "nbformat": 4,
 "nbformat_minor": 2
}
