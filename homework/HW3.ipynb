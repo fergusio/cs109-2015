{
 "cells": [
  {
   "cell_type": "markdown",
   "metadata": {},
   "source": [
    "# Homework 3: Prediction and Classification\n",
    "\n",
    "Due: Thursday, October 16, 2014 11:59 PM\n",
    "\n",
    "<a href=https://raw.githubusercontent.com/cs109/2014/master/homework/HW3.ipynb download=HW3.ipynb> Download this assignment</a>\n",
    "\n",
    "#### Submission Instructions\n",
    "To submit your homework, create a folder named lastname_firstinitial_hw# and place your IPython notebooks, data files, and any other files in this folder. Your IPython Notebooks should be completely executed with the results visible in the notebook. We should not have to run any code. Compress the folder (please use .zip compression) and submit to the CS109 dropbox in the appropriate folder. If we cannot access your work because these directions are not followed correctly, we will not grade your work.\n",
    "\n",
    "---\n"
   ]
  },
  {
   "cell_type": "markdown",
   "metadata": {},
   "source": [
    "# Introduction\n",
    "\n",
    "In this assignment you will be using regression and classification to explore different data sets.  \n",
    "\n",
    "**First**: You will use data from before 2002 in the [Sean Lahman's Baseball Database](http://seanlahman.com/baseball-archive/statistics) to create a metric for picking baseball players using linear regression. This is same database we used in Homework 1. This database contains the \"complete batting and pitching statistics from 1871 to 2013, plus fielding statistics, standings, team stats, managerial records, post-season data, and more\". [Documentation provided here](http://seanlahman.com/files/database/readme2012.txt).\n",
    "\n",
    "![\"Sabermetrics Science\"](http://saberseminar.com/wp-content/uploads/2012/01/saber-web.jpg)\n",
    "http://saberseminar.com/wp-content/uploads/2012/01/saber-web.jpg\n",
    "\n",
    "**Second**: You will use the famous [iris](http://en.wikipedia.org/wiki/Iris_flower_data_set) data set to perform a $k$-neareast neighbor classification using cross validation.  While it was introduced in 1936, it is still [one of the most popular](http://archive.ics.uci.edu/ml/) example data sets in the machine learning community. Wikipedia describes the data set as follows: \"The data set consists of 50 samples from each of three species of Iris (Iris setosa, Iris virginica and Iris versicolor). Four features were measured from each sample: the length and the width of the sepals and petals, in centimetres.\" Here is an illustration what the four features measure:\n",
    "\n",
    "![\"iris data features\"](http://sebastianraschka.com/Images/2014_python_lda/iris_petal_sepal.png)\n",
    "http://sebastianraschka.com/Images/2014_python_lda/iris_petal_sepal.png\n",
    "\n",
    "**Third**: You will investigate the influence of higher dimensional spaces on the classification using another standard data set in machine learning called the The [digits data set](http://scikit-learn.org/stable/modules/generated/sklearn.datasets.load_digits.html).  This data set is similar to the MNIST data set discussed in the lecture. The main difference is, that each digit is represented by an 8x8 pixel image patch, which is considerably smaller than the 28x28 pixels from MNIST. In addition, the gray values are restricted to 16 different values (4 bit), instead of 256 (8 bit) for MNIST. \n",
    "\n",
    "**Finally**: In preparation for Homework 4, we want you to read through the following articles related to predicting the 2014 Senate Midterm Elections. \n",
    "\n",
    "* [Nate Silver's Methodology at while at NYT](http://fivethirtyeight.blogs.nytimes.com/methodology/)\n",
    "* [How The FiveThirtyEight Senate Forecast Model Works](http://fivethirtyeight.com/features/how-the-fivethirtyeight-senate-forecast-model-works/)\n",
    "* [Pollster Ratings v4.0: Methodology](http://fivethirtyeight.com/features/pollster-ratings-v40-methodology/)\n",
    "* [Pollster Ratings v4.0: Results](http://fivethirtyeight.com/features/pollster-ratings-v40-results/)\n",
    "* [Nate Silver versus Sam Wang](http://www.washingtonpost.com/blogs/plum-line/wp/2014/09/17/nate-silver-versus-sam-wang/)\n",
    "* [More Nate Silver versus Sam Wang](http://www.dailykos.com/story/2014/09/09/1328288/-Get-Ready-To-Rumbllllle-Battle-Of-The-Nerds-Nate-Silver-VS-Sam-Wang)\n",
    "* [Nate Silver explains critisims of Sam Wang](http://politicalwire.com/archives/2014/10/02/nate_silver_rebuts_sam_wang.html)\n",
    "* [Background on the feud between Nate Silver and Sam Wang](http://talkingpointsmemo.com/dc/nate-silver-sam-wang-feud)\n",
    "* [Are there swing voters?]( http://www.stat.columbia.edu/~gelman/research/unpublished/swing_voters.pdf)\n",
    "\n",
    "\n",
    "\n",
    "---"
   ]
  },
  {
   "cell_type": "markdown",
   "metadata": {},
   "source": [
    "## Load Python modules"
   ]
  },
  {
   "cell_type": "code",
   "execution_count": 11,
   "metadata": {},
   "outputs": [],
   "source": [
    "# special IPython command to prepare the notebook for matplotlib\n",
    "%matplotlib inline \n",
    "\n",
    "import os\n",
    "from IPython import display\n",
    "\n",
    "import requests \n",
    "#import StringIO # not working in python 3\n",
    "import zipfile\n",
    "import numpy as np\n",
    "import pandas as pd # pandas\n",
    "import matplotlib.pyplot as plt # module for plotting \n",
    "\n",
    "# If this module is not already installed, you may need to install it. \n",
    "# You can do this by typing 'pip install seaborn' in the command line\n",
    "import seaborn as sns \n",
    "\n",
    "import sklearn\n",
    "import sklearn.datasets\n",
    "import sklearn.cross_validation\n",
    "import sklearn.decomposition\n",
    "import sklearn.grid_search\n",
    "import sklearn.neighbors\n",
    "import sklearn.metrics"
   ]
  },
  {
   "cell_type": "markdown",
   "metadata": {},
   "source": [
    "# Problem 1: Sabermetrics\n",
    "\n",
    "Using data preceding the 2002 season pick 10 offensive players keeping the payroll under $20 million (assign each player the median salary). Predict how many games this team would win in a 162 game season.  \n",
    "\n",
    "In this problem we will be returning to the [Sean Lahman's Baseball Database](http://seanlahman.com/baseball-archive/statistics) that we used in Homework 1.  From this database, we will be extract five data sets containing information such as yearly stats and standing, batting statistics, fielding statistics, player names, player salaries and biographical information. You will explore the data in this database from before 2002 and create a metric for picking players. "
   ]
  },
  {
   "cell_type": "markdown",
   "metadata": {},
   "source": [
    "#### Problem 1(a) \n",
    "\n",
    "Load in [these CSV files](http://seanlahman.com/files/database/lahman-csv_2014-02-14.zip) from the [Sean Lahman's Baseball Database](http://seanlahman.com/baseball-archive/statistics). For this assignment, we will use the 'Teams.csv', 'Batting.csv', 'Salaries.csv', 'Fielding.csv', 'Master.csv' tables. Read these tables into separate pandas DataFrames with the following names. \n",
    "\n",
    "CSV file name | Name of pandas DataFrame\n",
    ":---: | :---: \n",
    "Teams.csv | teams\n",
    "Batting.csv | players\n",
    "Salaries.csv | salaries\n",
    "Fielding.csv | fielding\n",
    "Master.csv | master"
   ]
  },
  {
   "cell_type": "code",
   "execution_count": 17,
   "metadata": {},
   "outputs": [
    {
     "name": "stdout",
     "output_type": "stream",
     "text": [
      "file succesfully downloaded\n",
      "['.DS_Store', 'baseballdatabank-2017.1', 'baseballdatabank-2017.1.zip', 'exprs_GSE5859.csv', 'lahman', 'lahman-csv_2014-02-14.zip', 'sampleinfo_GSE5859.csv']\n"
     ]
    }
   ],
   "source": [
    "### Your code here ###\n",
    "\n",
    "url = \"http://seanlahman.com/files/database/baseballdatabank-2017.1.zip\"\n",
    "\n",
    "r = requests.get(url, stream=True)\n",
    "\n",
    "# Total size in bytes.\n",
    "total_size = int(r.headers['Content-Length'])\n",
    "\n",
    "with open(\"data/baseballdatabank-2017.1.zip\", 'wb') as fd:\n",
    "    for chunk in r.iter_content(chunk_size=256):\n",
    "        fd.write(chunk)\n",
    "        \n",
    "print(f\"file succesfully downloaded\")\n",
    "print(os.listdir(\"data\"))"
   ]
  },
  {
   "cell_type": "code",
   "execution_count": 16,
   "metadata": {},
   "outputs": [
    {
     "name": "stdout",
     "output_type": "stream",
     "text": [
      "['AllstarFull.csv', 'Appearances.csv', 'AwardsManagers.csv', 'AwardsPlayers.csv', 'AwardsShareManagers.csv', 'AwardsSharePlayers.csv', 'Batting.csv', 'BattingPost.csv', 'CollegePlaying.csv', 'Fielding.csv', 'FieldingOF.csv', 'FieldingOFsplit.csv', 'FieldingPost.csv', 'HallOfFame.csv', 'HomeGames.csv', 'Managers.csv', 'ManagersHalf.csv', 'Master.csv', 'Parks.csv', 'Pitching.csv', 'PitchingPost.csv', 'readme2014.txt', 'Salaries.csv', 'Schools.csv', 'SeriesPost.csv', 'Teams.csv', 'TeamsFranchises.csv', 'TeamsHalf.csv']\n"
     ]
    }
   ],
   "source": [
    "z = zipfile.ZipFile(\"data/baseballdatabank-2017.1.zip\")\n",
    "# extract into the data dir\n",
    "z.extractall(\"data\")\n",
    "z.close()\n",
    "data_dir = \"data/baseballdatabank-2017.1/core/\"\n",
    "print(os.listdir(data_dir))"
   ]
  },
  {
   "cell_type": "markdown",
   "metadata": {},
   "source": [
    "CSV file name | Name of pandas DataFrame\n",
    ":---: | :---: \n",
    "Teams.csv | teams\n",
    "Batting.csv | players\n",
    "Salaries.csv | salaries\n",
    "Fielding.csv | fielding\n",
    "Master.csv | master"
   ]
  },
  {
   "cell_type": "code",
   "execution_count": 31,
   "metadata": {},
   "outputs": [],
   "source": [
    "read_files = ['Teams.csv', 'Batting.csv', 'Salaries.csv', 'Fielding.csv', 'Master.csv']\n",
    "\n",
    "teams, players, salaries, fielding, master = (pd.read_csv(data_dir + f) for f in read_files)"
   ]
  },
  {
   "cell_type": "markdown",
   "metadata": {},
   "source": [
    "#### Problem 1(b)\n",
    "\n",
    "Calculate the median salary for each player and create a pandas DataFrame called `medianSalaries` with four columns: (1) the player ID, (2) the first name of the player, (3) the last name of the player and (4) the median salary of the player. Show the head of the `medianSalaries` DataFrame.   "
   ]
  },
  {
   "cell_type": "code",
   "execution_count": 35,
   "metadata": {},
   "outputs": [
    {
     "data": {
      "text/html": [
       "<div>\n",
       "<style>\n",
       "    .dataframe thead tr:only-child th {\n",
       "        text-align: right;\n",
       "    }\n",
       "\n",
       "    .dataframe thead th {\n",
       "        text-align: left;\n",
       "    }\n",
       "\n",
       "    .dataframe tbody tr th {\n",
       "        vertical-align: top;\n",
       "    }\n",
       "</style>\n",
       "<table border=\"1\" class=\"dataframe\">\n",
       "  <thead>\n",
       "    <tr style=\"text-align: right;\">\n",
       "      <th></th>\n",
       "      <th>yearID</th>\n",
       "      <th>teamID</th>\n",
       "      <th>lgID</th>\n",
       "      <th>playerID</th>\n",
       "      <th>salary</th>\n",
       "    </tr>\n",
       "  </thead>\n",
       "  <tbody>\n",
       "    <tr>\n",
       "      <th>0</th>\n",
       "      <td>1985</td>\n",
       "      <td>ATL</td>\n",
       "      <td>NL</td>\n",
       "      <td>barkele01</td>\n",
       "      <td>870000</td>\n",
       "    </tr>\n",
       "    <tr>\n",
       "      <th>1</th>\n",
       "      <td>1985</td>\n",
       "      <td>ATL</td>\n",
       "      <td>NL</td>\n",
       "      <td>bedrost01</td>\n",
       "      <td>550000</td>\n",
       "    </tr>\n",
       "    <tr>\n",
       "      <th>2</th>\n",
       "      <td>1985</td>\n",
       "      <td>ATL</td>\n",
       "      <td>NL</td>\n",
       "      <td>benedbr01</td>\n",
       "      <td>545000</td>\n",
       "    </tr>\n",
       "    <tr>\n",
       "      <th>3</th>\n",
       "      <td>1985</td>\n",
       "      <td>ATL</td>\n",
       "      <td>NL</td>\n",
       "      <td>campri01</td>\n",
       "      <td>633333</td>\n",
       "    </tr>\n",
       "    <tr>\n",
       "      <th>4</th>\n",
       "      <td>1985</td>\n",
       "      <td>ATL</td>\n",
       "      <td>NL</td>\n",
       "      <td>ceronri01</td>\n",
       "      <td>625000</td>\n",
       "    </tr>\n",
       "  </tbody>\n",
       "</table>\n",
       "</div>"
      ],
      "text/plain": [
       "   yearID teamID lgID   playerID  salary\n",
       "0    1985    ATL   NL  barkele01  870000\n",
       "1    1985    ATL   NL  bedrost01  550000\n",
       "2    1985    ATL   NL  benedbr01  545000\n",
       "3    1985    ATL   NL   campri01  633333\n",
       "4    1985    ATL   NL  ceronri01  625000"
      ]
     },
     "execution_count": 35,
     "metadata": {},
     "output_type": "execute_result"
    }
   ],
   "source": [
    "### Your code here ###\n",
    "salaries.head()"
   ]
  },
  {
   "cell_type": "code",
   "execution_count": 41,
   "metadata": {},
   "outputs": [
    {
     "data": {
      "text/html": [
       "<div>\n",
       "<style>\n",
       "    .dataframe thead tr:only-child th {\n",
       "        text-align: right;\n",
       "    }\n",
       "\n",
       "    .dataframe thead th {\n",
       "        text-align: left;\n",
       "    }\n",
       "\n",
       "    .dataframe tbody tr th {\n",
       "        vertical-align: top;\n",
       "    }\n",
       "</style>\n",
       "<table border=\"1\" class=\"dataframe\">\n",
       "  <thead>\n",
       "    <tr style=\"text-align: right;\">\n",
       "      <th></th>\n",
       "      <th>playerID</th>\n",
       "      <th>nameFirst</th>\n",
       "      <th>nameLast</th>\n",
       "    </tr>\n",
       "  </thead>\n",
       "  <tbody>\n",
       "    <tr>\n",
       "      <th>0</th>\n",
       "      <td>aardsda01</td>\n",
       "      <td>David</td>\n",
       "      <td>Aardsma</td>\n",
       "    </tr>\n",
       "    <tr>\n",
       "      <th>1</th>\n",
       "      <td>aaronha01</td>\n",
       "      <td>Hank</td>\n",
       "      <td>Aaron</td>\n",
       "    </tr>\n",
       "    <tr>\n",
       "      <th>2</th>\n",
       "      <td>aaronto01</td>\n",
       "      <td>Tommie</td>\n",
       "      <td>Aaron</td>\n",
       "    </tr>\n",
       "    <tr>\n",
       "      <th>3</th>\n",
       "      <td>aasedo01</td>\n",
       "      <td>Don</td>\n",
       "      <td>Aase</td>\n",
       "    </tr>\n",
       "    <tr>\n",
       "      <th>4</th>\n",
       "      <td>abadan01</td>\n",
       "      <td>Andy</td>\n",
       "      <td>Abad</td>\n",
       "    </tr>\n",
       "  </tbody>\n",
       "</table>\n",
       "</div>"
      ],
      "text/plain": [
       "    playerID nameFirst nameLast\n",
       "0  aardsda01     David  Aardsma\n",
       "1  aaronha01      Hank    Aaron\n",
       "2  aaronto01    Tommie    Aaron\n",
       "3   aasedo01       Don     Aase\n",
       "4   abadan01      Andy     Abad"
      ]
     },
     "execution_count": 41,
     "metadata": {},
     "output_type": "execute_result"
    }
   ],
   "source": [
    "master[[\"playerID\", \"nameFirst\", \"nameLast\"]].head()"
   ]
  },
  {
   "cell_type": "markdown",
   "metadata": {},
   "source": [
    "First to group the salaries by median:"
   ]
  },
  {
   "cell_type": "code",
   "execution_count": 76,
   "metadata": {},
   "outputs": [
    {
     "name": "stdout",
     "output_type": "stream",
     "text": [
      "(5155, 3)\n"
     ]
    },
    {
     "data": {
      "text/html": [
       "<div>\n",
       "<style>\n",
       "    .dataframe thead tr:only-child th {\n",
       "        text-align: right;\n",
       "    }\n",
       "\n",
       "    .dataframe thead th {\n",
       "        text-align: left;\n",
       "    }\n",
       "\n",
       "    .dataframe tbody tr th {\n",
       "        vertical-align: top;\n",
       "    }\n",
       "</style>\n",
       "<table border=\"1\" class=\"dataframe\">\n",
       "  <thead>\n",
       "    <tr style=\"text-align: right;\">\n",
       "      <th></th>\n",
       "      <th>playerID</th>\n",
       "      <th>yearID</th>\n",
       "      <th>salary</th>\n",
       "    </tr>\n",
       "  </thead>\n",
       "  <tbody>\n",
       "    <tr>\n",
       "      <th>0</th>\n",
       "      <td>aardsda01</td>\n",
       "      <td>2009.0</td>\n",
       "      <td>419000.0</td>\n",
       "    </tr>\n",
       "    <tr>\n",
       "      <th>1</th>\n",
       "      <td>aasedo01</td>\n",
       "      <td>1987.5</td>\n",
       "      <td>612500.0</td>\n",
       "    </tr>\n",
       "    <tr>\n",
       "      <th>2</th>\n",
       "      <td>abadan01</td>\n",
       "      <td>2006.0</td>\n",
       "      <td>327000.0</td>\n",
       "    </tr>\n",
       "    <tr>\n",
       "      <th>3</th>\n",
       "      <td>abadfe01</td>\n",
       "      <td>2014.0</td>\n",
       "      <td>525900.0</td>\n",
       "    </tr>\n",
       "    <tr>\n",
       "      <th>4</th>\n",
       "      <td>abbotje01</td>\n",
       "      <td>1999.5</td>\n",
       "      <td>255000.0</td>\n",
       "    </tr>\n",
       "  </tbody>\n",
       "</table>\n",
       "</div>"
      ],
      "text/plain": [
       "    playerID  yearID    salary\n",
       "0  aardsda01  2009.0  419000.0\n",
       "1   aasedo01  1987.5  612500.0\n",
       "2   abadan01  2006.0  327000.0\n",
       "3   abadfe01  2014.0  525900.0\n",
       "4  abbotje01  1999.5  255000.0"
      ]
     },
     "execution_count": 76,
     "metadata": {},
     "output_type": "execute_result"
    }
   ],
   "source": [
    "medianSalaries = salaries.groupby(\"playerID\").median().reset_index()\n",
    "print(medianSalaries.shape)\n",
    "medianSalaries.head()"
   ]
  },
  {
   "cell_type": "markdown",
   "metadata": {},
   "source": [
    "Now to add in the first and last name"
   ]
  },
  {
   "cell_type": "code",
   "execution_count": 77,
   "metadata": {},
   "outputs": [
    {
     "name": "stdout",
     "output_type": "stream",
     "text": [
      "(5147, 5)\n"
     ]
    },
    {
     "data": {
      "text/html": [
       "<div>\n",
       "<style>\n",
       "    .dataframe thead tr:only-child th {\n",
       "        text-align: right;\n",
       "    }\n",
       "\n",
       "    .dataframe thead th {\n",
       "        text-align: left;\n",
       "    }\n",
       "\n",
       "    .dataframe tbody tr th {\n",
       "        vertical-align: top;\n",
       "    }\n",
       "</style>\n",
       "<table border=\"1\" class=\"dataframe\">\n",
       "  <thead>\n",
       "    <tr style=\"text-align: right;\">\n",
       "      <th></th>\n",
       "      <th>playerID</th>\n",
       "      <th>yearID</th>\n",
       "      <th>salary</th>\n",
       "      <th>nameFirst</th>\n",
       "      <th>nameLast</th>\n",
       "    </tr>\n",
       "  </thead>\n",
       "  <tbody>\n",
       "    <tr>\n",
       "      <th>0</th>\n",
       "      <td>aardsda01</td>\n",
       "      <td>2009.0</td>\n",
       "      <td>419000.0</td>\n",
       "      <td>David</td>\n",
       "      <td>Aardsma</td>\n",
       "    </tr>\n",
       "    <tr>\n",
       "      <th>1</th>\n",
       "      <td>aasedo01</td>\n",
       "      <td>1987.5</td>\n",
       "      <td>612500.0</td>\n",
       "      <td>Don</td>\n",
       "      <td>Aase</td>\n",
       "    </tr>\n",
       "    <tr>\n",
       "      <th>2</th>\n",
       "      <td>abadan01</td>\n",
       "      <td>2006.0</td>\n",
       "      <td>327000.0</td>\n",
       "      <td>Andy</td>\n",
       "      <td>Abad</td>\n",
       "    </tr>\n",
       "    <tr>\n",
       "      <th>3</th>\n",
       "      <td>abadfe01</td>\n",
       "      <td>2014.0</td>\n",
       "      <td>525900.0</td>\n",
       "      <td>Fernando</td>\n",
       "      <td>Abad</td>\n",
       "    </tr>\n",
       "    <tr>\n",
       "      <th>4</th>\n",
       "      <td>abbotje01</td>\n",
       "      <td>1999.5</td>\n",
       "      <td>255000.0</td>\n",
       "      <td>Jeff</td>\n",
       "      <td>Abbott</td>\n",
       "    </tr>\n",
       "  </tbody>\n",
       "</table>\n",
       "</div>"
      ],
      "text/plain": [
       "    playerID  yearID    salary nameFirst nameLast\n",
       "0  aardsda01  2009.0  419000.0     David  Aardsma\n",
       "1   aasedo01  1987.5  612500.0       Don     Aase\n",
       "2   abadan01  2006.0  327000.0      Andy     Abad\n",
       "3   abadfe01  2014.0  525900.0  Fernando     Abad\n",
       "4  abbotje01  1999.5  255000.0      Jeff   Abbott"
      ]
     },
     "execution_count": 77,
     "metadata": {},
     "output_type": "execute_result"
    }
   ],
   "source": [
    "medianSalaries = medianSalaries.merge(master[[\"playerID\", \"nameFirst\", \"nameLast\"]], on=\"playerID\")\n",
    "print(medianSalaries.shape)\n",
    "medianSalaries.head()"
   ]
  },
  {
   "cell_type": "code",
   "execution_count": 78,
   "metadata": {},
   "outputs": [],
   "source": [
    "medianSalaries.drop([\"yearID\"], axis=1, inplace=True)"
   ]
  },
  {
   "cell_type": "markdown",
   "metadata": {},
   "source": [
    "The final dataframe:"
   ]
  },
  {
   "cell_type": "code",
   "execution_count": 615,
   "metadata": {},
   "outputs": [
    {
     "name": "stdout",
     "output_type": "stream",
     "text": [
      "(5147, 4)\n"
     ]
    },
    {
     "data": {
      "text/html": [
       "<div>\n",
       "<style>\n",
       "    .dataframe thead tr:only-child th {\n",
       "        text-align: right;\n",
       "    }\n",
       "\n",
       "    .dataframe thead th {\n",
       "        text-align: left;\n",
       "    }\n",
       "\n",
       "    .dataframe tbody tr th {\n",
       "        vertical-align: top;\n",
       "    }\n",
       "</style>\n",
       "<table border=\"1\" class=\"dataframe\">\n",
       "  <thead>\n",
       "    <tr style=\"text-align: right;\">\n",
       "      <th></th>\n",
       "      <th>playerID</th>\n",
       "      <th>salary</th>\n",
       "      <th>nameFirst</th>\n",
       "      <th>nameLast</th>\n",
       "    </tr>\n",
       "  </thead>\n",
       "  <tbody>\n",
       "    <tr>\n",
       "      <th>0</th>\n",
       "      <td>aardsda01</td>\n",
       "      <td>419000.0</td>\n",
       "      <td>David</td>\n",
       "      <td>Aardsma</td>\n",
       "    </tr>\n",
       "    <tr>\n",
       "      <th>1</th>\n",
       "      <td>aasedo01</td>\n",
       "      <td>612500.0</td>\n",
       "      <td>Don</td>\n",
       "      <td>Aase</td>\n",
       "    </tr>\n",
       "    <tr>\n",
       "      <th>2</th>\n",
       "      <td>abadan01</td>\n",
       "      <td>327000.0</td>\n",
       "      <td>Andy</td>\n",
       "      <td>Abad</td>\n",
       "    </tr>\n",
       "    <tr>\n",
       "      <th>3</th>\n",
       "      <td>abadfe01</td>\n",
       "      <td>525900.0</td>\n",
       "      <td>Fernando</td>\n",
       "      <td>Abad</td>\n",
       "    </tr>\n",
       "    <tr>\n",
       "      <th>4</th>\n",
       "      <td>abbotje01</td>\n",
       "      <td>255000.0</td>\n",
       "      <td>Jeff</td>\n",
       "      <td>Abbott</td>\n",
       "    </tr>\n",
       "  </tbody>\n",
       "</table>\n",
       "</div>"
      ],
      "text/plain": [
       "    playerID    salary nameFirst nameLast\n",
       "0  aardsda01  419000.0     David  Aardsma\n",
       "1   aasedo01  612500.0       Don     Aase\n",
       "2   abadan01  327000.0      Andy     Abad\n",
       "3   abadfe01  525900.0  Fernando     Abad\n",
       "4  abbotje01  255000.0      Jeff   Abbott"
      ]
     },
     "execution_count": 615,
     "metadata": {},
     "output_type": "execute_result"
    }
   ],
   "source": [
    "print(medianSalaries.shape)\n",
    "medianSalaries.head()"
   ]
  },
  {
   "cell_type": "markdown",
   "metadata": {},
   "source": [
    "#### Problem 1(c)\n",
    "\n",
    "Now, consider only team/season combinations in which the teams played 162 Games. Exclude all data from before 1947. Compute the per plate appearance rates for singles, doubles, triples, HR, and BB. Create a new pandas DataFrame called `stats` that has the teamID, yearID, wins and these rates.\n",
    "\n",
    "**Hint**: Singles are hits that are not doubles, triples, nor HR. Plate appearances are base on balls plus at bats."
   ]
  },
  {
   "cell_type": "markdown",
   "metadata": {},
   "source": [
    "looking at the [readme file](http://seanlahman.com/files/database/readme2016.txt) for the data needed for this q: \n",
    "\n",
    "teams table:\n",
    " - \"G\" is games played\n",
    " - \"W\" is wins\n",
    " - \"yearID\" is the year of the game\n",
    " - \"H\" is all hits\n",
    " - \"2B\" is doubles\n",
    " - \"3B\" is triples\n",
    " - \"HR\" is homeruns\n",
    " - \"BB\" is base on balls\n",
    " - \"AB\" is at bats\n",
    "\n",
    "So first, getting a df for all teams which played 162 games from 1947 onwards:"
   ]
  },
  {
   "cell_type": "code",
   "execution_count": 105,
   "metadata": {},
   "outputs": [
    {
     "name": "stdout",
     "output_type": "stream",
     "text": [
      "(1068, 48)\n"
     ]
    },
    {
     "data": {
      "text/html": [
       "<div>\n",
       "<style>\n",
       "    .dataframe thead tr:only-child th {\n",
       "        text-align: right;\n",
       "    }\n",
       "\n",
       "    .dataframe thead th {\n",
       "        text-align: left;\n",
       "    }\n",
       "\n",
       "    .dataframe tbody tr th {\n",
       "        vertical-align: top;\n",
       "    }\n",
       "</style>\n",
       "<table border=\"1\" class=\"dataframe\">\n",
       "  <thead>\n",
       "    <tr style=\"text-align: right;\">\n",
       "      <th></th>\n",
       "      <th>yearID</th>\n",
       "      <th>lgID</th>\n",
       "      <th>teamID</th>\n",
       "      <th>franchID</th>\n",
       "      <th>divID</th>\n",
       "      <th>Rank</th>\n",
       "      <th>G</th>\n",
       "      <th>Ghome</th>\n",
       "      <th>W</th>\n",
       "      <th>L</th>\n",
       "      <th>...</th>\n",
       "      <th>DP</th>\n",
       "      <th>FP</th>\n",
       "      <th>name</th>\n",
       "      <th>park</th>\n",
       "      <th>attendance</th>\n",
       "      <th>BPF</th>\n",
       "      <th>PPF</th>\n",
       "      <th>teamIDBR</th>\n",
       "      <th>teamIDlahman45</th>\n",
       "      <th>teamIDretro</th>\n",
       "    </tr>\n",
       "  </thead>\n",
       "  <tbody>\n",
       "    <tr>\n",
       "      <th>1366</th>\n",
       "      <td>1961</td>\n",
       "      <td>AL</td>\n",
       "      <td>KC1</td>\n",
       "      <td>OAK</td>\n",
       "      <td>NaN</td>\n",
       "      <td>9</td>\n",
       "      <td>162</td>\n",
       "      <td>80.0</td>\n",
       "      <td>61</td>\n",
       "      <td>100</td>\n",
       "      <td>...</td>\n",
       "      <td>160.0</td>\n",
       "      <td>0.972</td>\n",
       "      <td>Kansas City Athletics</td>\n",
       "      <td>Municipal Stadium I</td>\n",
       "      <td>683817.0</td>\n",
       "      <td>101</td>\n",
       "      <td>103</td>\n",
       "      <td>KCA</td>\n",
       "      <td>KC1</td>\n",
       "      <td>KC1</td>\n",
       "    </tr>\n",
       "    <tr>\n",
       "      <th>1367</th>\n",
       "      <td>1961</td>\n",
       "      <td>AL</td>\n",
       "      <td>LAA</td>\n",
       "      <td>ANA</td>\n",
       "      <td>NaN</td>\n",
       "      <td>8</td>\n",
       "      <td>162</td>\n",
       "      <td>82.0</td>\n",
       "      <td>70</td>\n",
       "      <td>91</td>\n",
       "      <td>...</td>\n",
       "      <td>154.0</td>\n",
       "      <td>0.969</td>\n",
       "      <td>Los Angeles Angels</td>\n",
       "      <td>Wrigley Field (LA)</td>\n",
       "      <td>603510.0</td>\n",
       "      <td>111</td>\n",
       "      <td>112</td>\n",
       "      <td>LAA</td>\n",
       "      <td>LAA</td>\n",
       "      <td>LAA</td>\n",
       "    </tr>\n",
       "    <tr>\n",
       "      <th>1377</th>\n",
       "      <td>1962</td>\n",
       "      <td>AL</td>\n",
       "      <td>BAL</td>\n",
       "      <td>BAL</td>\n",
       "      <td>NaN</td>\n",
       "      <td>7</td>\n",
       "      <td>162</td>\n",
       "      <td>82.0</td>\n",
       "      <td>77</td>\n",
       "      <td>85</td>\n",
       "      <td>...</td>\n",
       "      <td>152.0</td>\n",
       "      <td>0.980</td>\n",
       "      <td>Baltimore Orioles</td>\n",
       "      <td>Memorial Stadium</td>\n",
       "      <td>790254.0</td>\n",
       "      <td>94</td>\n",
       "      <td>93</td>\n",
       "      <td>BAL</td>\n",
       "      <td>BAL</td>\n",
       "      <td>BAL</td>\n",
       "    </tr>\n",
       "    <tr>\n",
       "      <th>1379</th>\n",
       "      <td>1962</td>\n",
       "      <td>AL</td>\n",
       "      <td>CHA</td>\n",
       "      <td>CHW</td>\n",
       "      <td>NaN</td>\n",
       "      <td>5</td>\n",
       "      <td>162</td>\n",
       "      <td>81.0</td>\n",
       "      <td>85</td>\n",
       "      <td>77</td>\n",
       "      <td>...</td>\n",
       "      <td>153.0</td>\n",
       "      <td>0.982</td>\n",
       "      <td>Chicago White Sox</td>\n",
       "      <td>Comiskey Park</td>\n",
       "      <td>1131562.0</td>\n",
       "      <td>100</td>\n",
       "      <td>99</td>\n",
       "      <td>CHW</td>\n",
       "      <td>CHA</td>\n",
       "      <td>CHA</td>\n",
       "    </tr>\n",
       "    <tr>\n",
       "      <th>1380</th>\n",
       "      <td>1962</td>\n",
       "      <td>NL</td>\n",
       "      <td>CHN</td>\n",
       "      <td>CHC</td>\n",
       "      <td>NaN</td>\n",
       "      <td>9</td>\n",
       "      <td>162</td>\n",
       "      <td>81.0</td>\n",
       "      <td>59</td>\n",
       "      <td>103</td>\n",
       "      <td>...</td>\n",
       "      <td>171.0</td>\n",
       "      <td>0.977</td>\n",
       "      <td>Chicago Cubs</td>\n",
       "      <td>Wrigley Field</td>\n",
       "      <td>609802.0</td>\n",
       "      <td>104</td>\n",
       "      <td>105</td>\n",
       "      <td>CHC</td>\n",
       "      <td>CHN</td>\n",
       "      <td>CHN</td>\n",
       "    </tr>\n",
       "  </tbody>\n",
       "</table>\n",
       "<p>5 rows × 48 columns</p>\n",
       "</div>"
      ],
      "text/plain": [
       "      yearID lgID teamID franchID divID  Rank    G  Ghome   W    L  \\\n",
       "1366    1961   AL    KC1      OAK   NaN     9  162   80.0  61  100   \n",
       "1367    1961   AL    LAA      ANA   NaN     8  162   82.0  70   91   \n",
       "1377    1962   AL    BAL      BAL   NaN     7  162   82.0  77   85   \n",
       "1379    1962   AL    CHA      CHW   NaN     5  162   81.0  85   77   \n",
       "1380    1962   NL    CHN      CHC   NaN     9  162   81.0  59  103   \n",
       "\n",
       "         ...          DP     FP                   name                 park  \\\n",
       "1366     ...       160.0  0.972  Kansas City Athletics  Municipal Stadium I   \n",
       "1367     ...       154.0  0.969     Los Angeles Angels   Wrigley Field (LA)   \n",
       "1377     ...       152.0  0.980      Baltimore Orioles     Memorial Stadium   \n",
       "1379     ...       153.0  0.982      Chicago White Sox        Comiskey Park   \n",
       "1380     ...       171.0  0.977           Chicago Cubs        Wrigley Field   \n",
       "\n",
       "      attendance  BPF  PPF  teamIDBR  teamIDlahman45  teamIDretro  \n",
       "1366    683817.0  101  103       KCA             KC1          KC1  \n",
       "1367    603510.0  111  112       LAA             LAA          LAA  \n",
       "1377    790254.0   94   93       BAL             BAL          BAL  \n",
       "1379   1131562.0  100   99       CHW             CHA          CHA  \n",
       "1380    609802.0  104  105       CHC             CHN          CHN  \n",
       "\n",
       "[5 rows x 48 columns]"
      ]
     },
     "execution_count": 105,
     "metadata": {},
     "output_type": "execute_result"
    }
   ],
   "source": [
    "### Your code here ###\n",
    "stats = teams[teams[\"yearID\"] >= 1947]\n",
    "stats = stats[stats[\"G\"]==162]\n",
    "print(stats.shape)\n",
    "stats.head()"
   ]
  },
  {
   "cell_type": "markdown",
   "metadata": {},
   "source": [
    "Now to drop all the un-needed columns"
   ]
  },
  {
   "cell_type": "code",
   "execution_count": 110,
   "metadata": {},
   "outputs": [
    {
     "data": {
      "text/html": [
       "<div>\n",
       "<style>\n",
       "    .dataframe thead tr:only-child th {\n",
       "        text-align: right;\n",
       "    }\n",
       "\n",
       "    .dataframe thead th {\n",
       "        text-align: left;\n",
       "    }\n",
       "\n",
       "    .dataframe tbody tr th {\n",
       "        vertical-align: top;\n",
       "    }\n",
       "</style>\n",
       "<table border=\"1\" class=\"dataframe\">\n",
       "  <thead>\n",
       "    <tr style=\"text-align: right;\">\n",
       "      <th></th>\n",
       "      <th>teamID</th>\n",
       "      <th>yearID</th>\n",
       "      <th>W</th>\n",
       "      <th>H</th>\n",
       "      <th>2B</th>\n",
       "      <th>3B</th>\n",
       "      <th>HR</th>\n",
       "      <th>BB</th>\n",
       "      <th>AB</th>\n",
       "    </tr>\n",
       "  </thead>\n",
       "  <tbody>\n",
       "    <tr>\n",
       "      <th>1366</th>\n",
       "      <td>KC1</td>\n",
       "      <td>1961</td>\n",
       "      <td>61</td>\n",
       "      <td>1342</td>\n",
       "      <td>216</td>\n",
       "      <td>47</td>\n",
       "      <td>90</td>\n",
       "      <td>580</td>\n",
       "      <td>5423</td>\n",
       "    </tr>\n",
       "    <tr>\n",
       "      <th>1367</th>\n",
       "      <td>LAA</td>\n",
       "      <td>1961</td>\n",
       "      <td>70</td>\n",
       "      <td>1331</td>\n",
       "      <td>218</td>\n",
       "      <td>22</td>\n",
       "      <td>189</td>\n",
       "      <td>681</td>\n",
       "      <td>5424</td>\n",
       "    </tr>\n",
       "  </tbody>\n",
       "</table>\n",
       "</div>"
      ],
      "text/plain": [
       "     teamID  yearID   W     H   2B  3B   HR   BB    AB\n",
       "1366    KC1    1961  61  1342  216  47   90  580  5423\n",
       "1367    LAA    1961  70  1331  218  22  189  681  5424"
      ]
     },
     "execution_count": 110,
     "metadata": {},
     "output_type": "execute_result"
    }
   ],
   "source": [
    "data_cols = [\"teamID\", \"yearID\", \"W\", \"H\", \"2B\", \"3B\", \"HR\", \"BB\", \"AB\"]\n",
    "stats = stats[data_cols]\n",
    "stats.head(2)"
   ]
  },
  {
   "cell_type": "code",
   "execution_count": 111,
   "metadata": {},
   "outputs": [
    {
     "data": {
      "text/html": [
       "<div>\n",
       "<style>\n",
       "    .dataframe thead tr:only-child th {\n",
       "        text-align: right;\n",
       "    }\n",
       "\n",
       "    .dataframe thead th {\n",
       "        text-align: left;\n",
       "    }\n",
       "\n",
       "    .dataframe tbody tr th {\n",
       "        vertical-align: top;\n",
       "    }\n",
       "</style>\n",
       "<table border=\"1\" class=\"dataframe\">\n",
       "  <thead>\n",
       "    <tr style=\"text-align: right;\">\n",
       "      <th></th>\n",
       "      <th>teamID</th>\n",
       "      <th>yearID</th>\n",
       "      <th>W</th>\n",
       "      <th>H</th>\n",
       "      <th>2B</th>\n",
       "      <th>3B</th>\n",
       "      <th>HR</th>\n",
       "      <th>BB</th>\n",
       "      <th>AB</th>\n",
       "      <th>singles</th>\n",
       "      <th>plates</th>\n",
       "    </tr>\n",
       "  </thead>\n",
       "  <tbody>\n",
       "    <tr>\n",
       "      <th>1366</th>\n",
       "      <td>KC1</td>\n",
       "      <td>1961</td>\n",
       "      <td>61</td>\n",
       "      <td>1342</td>\n",
       "      <td>216</td>\n",
       "      <td>47</td>\n",
       "      <td>90</td>\n",
       "      <td>580</td>\n",
       "      <td>5423</td>\n",
       "      <td>989</td>\n",
       "      <td>6003</td>\n",
       "    </tr>\n",
       "    <tr>\n",
       "      <th>1367</th>\n",
       "      <td>LAA</td>\n",
       "      <td>1961</td>\n",
       "      <td>70</td>\n",
       "      <td>1331</td>\n",
       "      <td>218</td>\n",
       "      <td>22</td>\n",
       "      <td>189</td>\n",
       "      <td>681</td>\n",
       "      <td>5424</td>\n",
       "      <td>902</td>\n",
       "      <td>6105</td>\n",
       "    </tr>\n",
       "    <tr>\n",
       "      <th>1377</th>\n",
       "      <td>BAL</td>\n",
       "      <td>1962</td>\n",
       "      <td>77</td>\n",
       "      <td>1363</td>\n",
       "      <td>225</td>\n",
       "      <td>34</td>\n",
       "      <td>156</td>\n",
       "      <td>516</td>\n",
       "      <td>5491</td>\n",
       "      <td>948</td>\n",
       "      <td>6007</td>\n",
       "    </tr>\n",
       "    <tr>\n",
       "      <th>1379</th>\n",
       "      <td>CHA</td>\n",
       "      <td>1962</td>\n",
       "      <td>85</td>\n",
       "      <td>1415</td>\n",
       "      <td>250</td>\n",
       "      <td>56</td>\n",
       "      <td>92</td>\n",
       "      <td>620</td>\n",
       "      <td>5514</td>\n",
       "      <td>1017</td>\n",
       "      <td>6134</td>\n",
       "    </tr>\n",
       "    <tr>\n",
       "      <th>1380</th>\n",
       "      <td>CHN</td>\n",
       "      <td>1962</td>\n",
       "      <td>59</td>\n",
       "      <td>1398</td>\n",
       "      <td>196</td>\n",
       "      <td>56</td>\n",
       "      <td>126</td>\n",
       "      <td>504</td>\n",
       "      <td>5534</td>\n",
       "      <td>1020</td>\n",
       "      <td>6038</td>\n",
       "    </tr>\n",
       "  </tbody>\n",
       "</table>\n",
       "</div>"
      ],
      "text/plain": [
       "     teamID  yearID   W     H   2B  3B   HR   BB    AB  singles  plates\n",
       "1366    KC1    1961  61  1342  216  47   90  580  5423      989    6003\n",
       "1367    LAA    1961  70  1331  218  22  189  681  5424      902    6105\n",
       "1377    BAL    1962  77  1363  225  34  156  516  5491      948    6007\n",
       "1379    CHA    1962  85  1415  250  56   92  620  5514     1017    6134\n",
       "1380    CHN    1962  59  1398  196  56  126  504  5534     1020    6038"
      ]
     },
     "execution_count": 111,
     "metadata": {},
     "output_type": "execute_result"
    }
   ],
   "source": [
    "stats[\"singles\"] = stats[\"H\"] - stats[\"2B\"] - stats[\"3B\"] - stats[\"HR\"]\n",
    "stats[\"plates\"] = stats[\"BB\"] + stats[\"AB\"]\n",
    "stats.head()"
   ]
  },
  {
   "cell_type": "markdown",
   "metadata": {},
   "source": [
    "Compute the per plate appearance rates for singles, doubles, triples, HR, and BB"
   ]
  },
  {
   "cell_type": "code",
   "execution_count": 112,
   "metadata": {},
   "outputs": [
    {
     "data": {
      "text/html": [
       "<div>\n",
       "<style>\n",
       "    .dataframe thead tr:only-child th {\n",
       "        text-align: right;\n",
       "    }\n",
       "\n",
       "    .dataframe thead th {\n",
       "        text-align: left;\n",
       "    }\n",
       "\n",
       "    .dataframe tbody tr th {\n",
       "        vertical-align: top;\n",
       "    }\n",
       "</style>\n",
       "<table border=\"1\" class=\"dataframe\">\n",
       "  <thead>\n",
       "    <tr style=\"text-align: right;\">\n",
       "      <th></th>\n",
       "      <th>teamID</th>\n",
       "      <th>yearID</th>\n",
       "      <th>W</th>\n",
       "      <th>H</th>\n",
       "      <th>2B</th>\n",
       "      <th>3B</th>\n",
       "      <th>HR</th>\n",
       "      <th>BB</th>\n",
       "      <th>AB</th>\n",
       "      <th>singles</th>\n",
       "      <th>plates</th>\n",
       "    </tr>\n",
       "  </thead>\n",
       "  <tbody>\n",
       "    <tr>\n",
       "      <th>1366</th>\n",
       "      <td>KC1</td>\n",
       "      <td>1961</td>\n",
       "      <td>61</td>\n",
       "      <td>1342</td>\n",
       "      <td>0.035982</td>\n",
       "      <td>0.007829</td>\n",
       "      <td>0.014993</td>\n",
       "      <td>0.096618</td>\n",
       "      <td>5423</td>\n",
       "      <td>0.164751</td>\n",
       "      <td>6003</td>\n",
       "    </tr>\n",
       "    <tr>\n",
       "      <th>1367</th>\n",
       "      <td>LAA</td>\n",
       "      <td>1961</td>\n",
       "      <td>70</td>\n",
       "      <td>1331</td>\n",
       "      <td>0.035708</td>\n",
       "      <td>0.003604</td>\n",
       "      <td>0.030958</td>\n",
       "      <td>0.111548</td>\n",
       "      <td>5424</td>\n",
       "      <td>0.147748</td>\n",
       "      <td>6105</td>\n",
       "    </tr>\n",
       "    <tr>\n",
       "      <th>1377</th>\n",
       "      <td>BAL</td>\n",
       "      <td>1962</td>\n",
       "      <td>77</td>\n",
       "      <td>1363</td>\n",
       "      <td>0.037456</td>\n",
       "      <td>0.005660</td>\n",
       "      <td>0.025970</td>\n",
       "      <td>0.085900</td>\n",
       "      <td>5491</td>\n",
       "      <td>0.157816</td>\n",
       "      <td>6007</td>\n",
       "    </tr>\n",
       "    <tr>\n",
       "      <th>1379</th>\n",
       "      <td>CHA</td>\n",
       "      <td>1962</td>\n",
       "      <td>85</td>\n",
       "      <td>1415</td>\n",
       "      <td>0.040756</td>\n",
       "      <td>0.009129</td>\n",
       "      <td>0.014998</td>\n",
       "      <td>0.101076</td>\n",
       "      <td>5514</td>\n",
       "      <td>0.165797</td>\n",
       "      <td>6134</td>\n",
       "    </tr>\n",
       "    <tr>\n",
       "      <th>1380</th>\n",
       "      <td>CHN</td>\n",
       "      <td>1962</td>\n",
       "      <td>59</td>\n",
       "      <td>1398</td>\n",
       "      <td>0.032461</td>\n",
       "      <td>0.009275</td>\n",
       "      <td>0.020868</td>\n",
       "      <td>0.083471</td>\n",
       "      <td>5534</td>\n",
       "      <td>0.168930</td>\n",
       "      <td>6038</td>\n",
       "    </tr>\n",
       "  </tbody>\n",
       "</table>\n",
       "</div>"
      ],
      "text/plain": [
       "     teamID  yearID   W     H        2B        3B        HR        BB    AB  \\\n",
       "1366    KC1    1961  61  1342  0.035982  0.007829  0.014993  0.096618  5423   \n",
       "1367    LAA    1961  70  1331  0.035708  0.003604  0.030958  0.111548  5424   \n",
       "1377    BAL    1962  77  1363  0.037456  0.005660  0.025970  0.085900  5491   \n",
       "1379    CHA    1962  85  1415  0.040756  0.009129  0.014998  0.101076  5514   \n",
       "1380    CHN    1962  59  1398  0.032461  0.009275  0.020868  0.083471  5534   \n",
       "\n",
       "       singles  plates  \n",
       "1366  0.164751    6003  \n",
       "1367  0.147748    6105  \n",
       "1377  0.157816    6007  \n",
       "1379  0.165797    6134  \n",
       "1380  0.168930    6038  "
      ]
     },
     "execution_count": 112,
     "metadata": {},
     "output_type": "execute_result"
    }
   ],
   "source": [
    "for col in [\"singles\",\"2B\",\"3B\",\"HR\",\"BB\"]:\n",
    "    stats[col] = stats[col] / stats[\"plates\"]\n",
    "stats.head()"
   ]
  },
  {
   "cell_type": "markdown",
   "metadata": {},
   "source": [
    "So the final stats is:"
   ]
  },
  {
   "cell_type": "code",
   "execution_count": 114,
   "metadata": {},
   "outputs": [
    {
     "data": {
      "text/html": [
       "<div>\n",
       "<style>\n",
       "    .dataframe thead tr:only-child th {\n",
       "        text-align: right;\n",
       "    }\n",
       "\n",
       "    .dataframe thead th {\n",
       "        text-align: left;\n",
       "    }\n",
       "\n",
       "    .dataframe tbody tr th {\n",
       "        vertical-align: top;\n",
       "    }\n",
       "</style>\n",
       "<table border=\"1\" class=\"dataframe\">\n",
       "  <thead>\n",
       "    <tr style=\"text-align: right;\">\n",
       "      <th></th>\n",
       "      <th>teamID</th>\n",
       "      <th>yearID</th>\n",
       "      <th>W</th>\n",
       "      <th>singles</th>\n",
       "      <th>2B</th>\n",
       "      <th>3B</th>\n",
       "      <th>HR</th>\n",
       "      <th>BB</th>\n",
       "    </tr>\n",
       "  </thead>\n",
       "  <tbody>\n",
       "    <tr>\n",
       "      <th>1366</th>\n",
       "      <td>KC1</td>\n",
       "      <td>1961</td>\n",
       "      <td>61</td>\n",
       "      <td>0.164751</td>\n",
       "      <td>0.035982</td>\n",
       "      <td>0.007829</td>\n",
       "      <td>0.014993</td>\n",
       "      <td>0.096618</td>\n",
       "    </tr>\n",
       "    <tr>\n",
       "      <th>1367</th>\n",
       "      <td>LAA</td>\n",
       "      <td>1961</td>\n",
       "      <td>70</td>\n",
       "      <td>0.147748</td>\n",
       "      <td>0.035708</td>\n",
       "      <td>0.003604</td>\n",
       "      <td>0.030958</td>\n",
       "      <td>0.111548</td>\n",
       "    </tr>\n",
       "    <tr>\n",
       "      <th>1377</th>\n",
       "      <td>BAL</td>\n",
       "      <td>1962</td>\n",
       "      <td>77</td>\n",
       "      <td>0.157816</td>\n",
       "      <td>0.037456</td>\n",
       "      <td>0.005660</td>\n",
       "      <td>0.025970</td>\n",
       "      <td>0.085900</td>\n",
       "    </tr>\n",
       "    <tr>\n",
       "      <th>1379</th>\n",
       "      <td>CHA</td>\n",
       "      <td>1962</td>\n",
       "      <td>85</td>\n",
       "      <td>0.165797</td>\n",
       "      <td>0.040756</td>\n",
       "      <td>0.009129</td>\n",
       "      <td>0.014998</td>\n",
       "      <td>0.101076</td>\n",
       "    </tr>\n",
       "    <tr>\n",
       "      <th>1380</th>\n",
       "      <td>CHN</td>\n",
       "      <td>1962</td>\n",
       "      <td>59</td>\n",
       "      <td>0.168930</td>\n",
       "      <td>0.032461</td>\n",
       "      <td>0.009275</td>\n",
       "      <td>0.020868</td>\n",
       "      <td>0.083471</td>\n",
       "    </tr>\n",
       "  </tbody>\n",
       "</table>\n",
       "</div>"
      ],
      "text/plain": [
       "     teamID  yearID   W   singles        2B        3B        HR        BB\n",
       "1366    KC1    1961  61  0.164751  0.035982  0.007829  0.014993  0.096618\n",
       "1367    LAA    1961  70  0.147748  0.035708  0.003604  0.030958  0.111548\n",
       "1377    BAL    1962  77  0.157816  0.037456  0.005660  0.025970  0.085900\n",
       "1379    CHA    1962  85  0.165797  0.040756  0.009129  0.014998  0.101076\n",
       "1380    CHN    1962  59  0.168930  0.032461  0.009275  0.020868  0.083471"
      ]
     },
     "execution_count": 114,
     "metadata": {},
     "output_type": "execute_result"
    }
   ],
   "source": [
    "stats = stats[[\"teamID\", \"yearID\", \"W\", \"singles\",\"2B\",\"3B\",\"HR\",\"BB\"]]\n",
    "stats.head()"
   ]
  },
  {
   "cell_type": "markdown",
   "metadata": {},
   "source": [
    "#### Problem 1(d)\n",
    "\n",
    "Is there a noticeable time trend in the rates computed computed in Problem 1(c)? "
   ]
  },
  {
   "cell_type": "code",
   "execution_count": 171,
   "metadata": {
    "scrolled": true
   },
   "outputs": [
    {
     "data": {
      "text/plain": [
       "<seaborn.axisgrid.PairGrid at 0x140dd53c8>"
      ]
     },
     "execution_count": 171,
     "metadata": {},
     "output_type": "execute_result"
    },
    {
     "data": {
      "image/png": "[encoded data removed]",
      "text/plain": [
       "<matplotlib.figure.Figure at 0x140dd5518>"
      ]
     },
     "metadata": {},
     "output_type": "display_data"
    }
   ],
   "source": [
    "### Your code here ###\n",
    "sns.pairplot(data=stats, x_vars=\"yearID\", \n",
    "             y_vars=[\"W\", \"singles\", \"2B\", \"3B\", \"HR\", \"BB\"], size=5, kind=\"reg\")"
   ]
  },
  {
   "cell_type": "markdown",
   "metadata": {},
   "source": [
    "From the pairplots It looks like the singles and third base hits are decreasing over time while the second base hits are going up. Home runs interesting enough have a sudden shift upwards - probably linked to some kind of rule change, like allowing heavier bats or a more hittable ball."
   ]
  },
  {
   "cell_type": "markdown",
   "metadata": {},
   "source": [
    "#### Problem 1(e) \n",
    "\n",
    "Using the `stats` DataFrame from Problem 1(c), adjust the singles per PA rates so that the average across teams for each year is 0. Do the same for the doubles, triples, HR, and BB rates. "
   ]
  },
  {
   "cell_type": "code",
   "execution_count": 172,
   "metadata": {},
   "outputs": [
    {
     "data": {
      "text/html": [
       "<div>\n",
       "<style>\n",
       "    .dataframe thead tr:only-child th {\n",
       "        text-align: right;\n",
       "    }\n",
       "\n",
       "    .dataframe thead th {\n",
       "        text-align: left;\n",
       "    }\n",
       "\n",
       "    .dataframe tbody tr th {\n",
       "        vertical-align: top;\n",
       "    }\n",
       "</style>\n",
       "<table border=\"1\" class=\"dataframe\">\n",
       "  <thead>\n",
       "    <tr style=\"text-align: right;\">\n",
       "      <th></th>\n",
       "      <th>W</th>\n",
       "      <th>singles</th>\n",
       "      <th>2B</th>\n",
       "      <th>3B</th>\n",
       "      <th>HR</th>\n",
       "      <th>BB</th>\n",
       "    </tr>\n",
       "    <tr>\n",
       "      <th>yearID</th>\n",
       "      <th></th>\n",
       "      <th></th>\n",
       "      <th></th>\n",
       "      <th></th>\n",
       "      <th></th>\n",
       "      <th></th>\n",
       "    </tr>\n",
       "  </thead>\n",
       "  <tbody>\n",
       "    <tr>\n",
       "      <th>1961</th>\n",
       "      <td>65.500000</td>\n",
       "      <td>0.156249</td>\n",
       "      <td>0.035845</td>\n",
       "      <td>0.005717</td>\n",
       "      <td>0.022975</td>\n",
       "      <td>0.104083</td>\n",
       "    </tr>\n",
       "    <tr>\n",
       "      <th>1962</th>\n",
       "      <td>78.454545</td>\n",
       "      <td>0.165632</td>\n",
       "      <td>0.035853</td>\n",
       "      <td>0.006777</td>\n",
       "      <td>0.023811</td>\n",
       "      <td>0.088590</td>\n",
       "    </tr>\n",
       "    <tr>\n",
       "      <th>1963</th>\n",
       "      <td>78.142857</td>\n",
       "      <td>0.162467</td>\n",
       "      <td>0.034020</td>\n",
       "      <td>0.006896</td>\n",
       "      <td>0.021254</td>\n",
       "      <td>0.080336</td>\n",
       "    </tr>\n",
       "    <tr>\n",
       "      <th>1964</th>\n",
       "      <td>81.727273</td>\n",
       "      <td>0.167251</td>\n",
       "      <td>0.036336</td>\n",
       "      <td>0.006748</td>\n",
       "      <td>0.021548</td>\n",
       "      <td>0.079152</td>\n",
       "    </tr>\n",
       "    <tr>\n",
       "      <th>1965</th>\n",
       "      <td>82.000000</td>\n",
       "      <td>0.160042</td>\n",
       "      <td>0.035539</td>\n",
       "      <td>0.006534</td>\n",
       "      <td>0.022693</td>\n",
       "      <td>0.085745</td>\n",
       "    </tr>\n",
       "  </tbody>\n",
       "</table>\n",
       "</div>"
      ],
      "text/plain": [
       "                W   singles        2B        3B        HR        BB\n",
       "yearID                                                             \n",
       "1961    65.500000  0.156249  0.035845  0.005717  0.022975  0.104083\n",
       "1962    78.454545  0.165632  0.035853  0.006777  0.023811  0.088590\n",
       "1963    78.142857  0.162467  0.034020  0.006896  0.021254  0.080336\n",
       "1964    81.727273  0.167251  0.036336  0.006748  0.021548  0.079152\n",
       "1965    82.000000  0.160042  0.035539  0.006534  0.022693  0.085745"
      ]
     },
     "execution_count": 172,
     "metadata": {},
     "output_type": "execute_result"
    }
   ],
   "source": [
    "### Your code here ###\n",
    "# to get the mean for each year:\n",
    "stats_mean_by_year = stats.groupby(\"yearID\").mean()\n",
    "stats_mean_by_year.head()"
   ]
  },
  {
   "cell_type": "markdown",
   "metadata": {},
   "source": [
    "I tried sklearns preprocessing, but that doesn't work in this case, so we need our own function:"
   ]
  },
  {
   "cell_type": "code",
   "execution_count": 225,
   "metadata": {},
   "outputs": [
    {
     "data": {
      "text/html": [
       "<div>\n",
       "<style>\n",
       "    .dataframe thead tr:only-child th {\n",
       "        text-align: right;\n",
       "    }\n",
       "\n",
       "    .dataframe thead th {\n",
       "        text-align: left;\n",
       "    }\n",
       "\n",
       "    .dataframe tbody tr th {\n",
       "        vertical-align: top;\n",
       "    }\n",
       "</style>\n",
       "<table border=\"1\" class=\"dataframe\">\n",
       "  <thead>\n",
       "    <tr style=\"text-align: right;\">\n",
       "      <th></th>\n",
       "      <th>teamID</th>\n",
       "      <th>yearID</th>\n",
       "      <th>W</th>\n",
       "      <th>singles</th>\n",
       "      <th>2B</th>\n",
       "      <th>3B</th>\n",
       "      <th>HR</th>\n",
       "      <th>BB</th>\n",
       "    </tr>\n",
       "  </thead>\n",
       "  <tbody>\n",
       "    <tr>\n",
       "      <th>1366</th>\n",
       "      <td>KC1</td>\n",
       "      <td>1961</td>\n",
       "      <td>61</td>\n",
       "      <td>0.008502</td>\n",
       "      <td>0.000137</td>\n",
       "      <td>0.002113</td>\n",
       "      <td>-0.007983</td>\n",
       "      <td>-0.007465</td>\n",
       "    </tr>\n",
       "    <tr>\n",
       "      <th>1367</th>\n",
       "      <td>LAA</td>\n",
       "      <td>1961</td>\n",
       "      <td>70</td>\n",
       "      <td>-0.008502</td>\n",
       "      <td>-0.000137</td>\n",
       "      <td>-0.002113</td>\n",
       "      <td>0.007983</td>\n",
       "      <td>0.007465</td>\n",
       "    </tr>\n",
       "    <tr>\n",
       "      <th>1377</th>\n",
       "      <td>BAL</td>\n",
       "      <td>1962</td>\n",
       "      <td>77</td>\n",
       "      <td>-0.007816</td>\n",
       "      <td>0.001604</td>\n",
       "      <td>-0.001117</td>\n",
       "      <td>0.002158</td>\n",
       "      <td>-0.002690</td>\n",
       "    </tr>\n",
       "    <tr>\n",
       "      <th>1379</th>\n",
       "      <td>CHA</td>\n",
       "      <td>1962</td>\n",
       "      <td>85</td>\n",
       "      <td>0.000165</td>\n",
       "      <td>0.004904</td>\n",
       "      <td>0.002352</td>\n",
       "      <td>-0.008813</td>\n",
       "      <td>0.012486</td>\n",
       "    </tr>\n",
       "    <tr>\n",
       "      <th>1380</th>\n",
       "      <td>CHN</td>\n",
       "      <td>1962</td>\n",
       "      <td>59</td>\n",
       "      <td>0.003298</td>\n",
       "      <td>-0.003391</td>\n",
       "      <td>0.002497</td>\n",
       "      <td>-0.002944</td>\n",
       "      <td>-0.005119</td>\n",
       "    </tr>\n",
       "  </tbody>\n",
       "</table>\n",
       "</div>"
      ],
      "text/plain": [
       "     teamID  yearID   W   singles        2B        3B        HR        BB\n",
       "1366    KC1    1961  61  0.008502  0.000137  0.002113 -0.007983 -0.007465\n",
       "1367    LAA    1961  70 -0.008502 -0.000137 -0.002113  0.007983  0.007465\n",
       "1377    BAL    1962  77 -0.007816  0.001604 -0.001117  0.002158 -0.002690\n",
       "1379    CHA    1962  85  0.000165  0.004904  0.002352 -0.008813  0.012486\n",
       "1380    CHN    1962  59  0.003298 -0.003391  0.002497 -0.002944 -0.005119"
      ]
     },
     "execution_count": 225,
     "metadata": {},
     "output_type": "execute_result"
    }
   ],
   "source": [
    "def meanNormalizeRates(df):\n",
    "        subRates = df[[\"singles\",\"2B\",\"3B\",\"HR\",\"BB\"]]\n",
    "        df[[\"singles\",\"2B\",\"3B\",\"HR\",\"BB\"]] = subRates - subRates.mean(axis=0)\n",
    "        return df\n",
    "\n",
    "statsNorm = stats.groupby('yearID').apply(meanNormalizeRates)\n",
    "statsNorm.head()"
   ]
  },
  {
   "cell_type": "markdown",
   "metadata": {},
   "source": [
    "## Problem 1(f)\n",
    "\n",
    "Build a simple linear regression model to predict the number of wins from the average adjusted singles, double, triples, HR, and BB rates. To decide which of these terms to include fit the model to data from 2002 and compute the average squared residuals from predictions to years past 2002. Use the fitted model to define a new sabermetric summary: offensive predicted wins (OPW). Hint: the new summary should be a linear combination of one to five of the five rates."
   ]
  },
  {
   "cell_type": "code",
   "execution_count": 298,
   "metadata": {},
   "outputs": [
    {
     "name": "stdout",
     "output_type": "stream",
     "text": [
      "(684,) (384,) (684,) (384,)\n"
     ]
    },
    {
     "data": {
      "text/plain": [
       "83.049337451741621"
      ]
     },
     "execution_count": 298,
     "metadata": {},
     "output_type": "execute_result"
    }
   ],
   "source": [
    "### Your code here ###\n",
    "from sklearn import linear_model\n",
    "from sklearn.metrics import mean_squared_error\n",
    "\n",
    "# the test train datasets\n",
    "mask = statsNorm[\"yearID\"]<=2002\n",
    "xtrain = statsNorm[[\"singles\",\"2B\",\"3B\",\"HR\",\"BB\"]][mask]\n",
    "xtest = statsNorm[[\"singles\",\"2B\",\"3B\",\"HR\",\"BB\"]][~mask]\n",
    "ytrain = statsNorm[\"W\"][mask]\n",
    "ytest = statsNorm[\"W\"][~mask]\n",
    "print(ytrain.shape,ytest.shape, regr.predict(xtrain).shape, regr.predict(xtest).shape)\n",
    "\n",
    "regr = linear_model.LinearRegression()\n",
    "regr.fit(xtrain, ytrain)\n",
    "\n",
    "mean_squared_error(ytest, regr.predict(xtest))"
   ]
  },
  {
   "cell_type": "markdown",
   "metadata": {},
   "source": [
    "Taking a look to see how far the predictions are from the actual:"
   ]
  },
  {
   "cell_type": "code",
   "execution_count": 371,
   "metadata": {},
   "outputs": [
    {
     "data": {
      "image/png": "[encoded data removed]",
      "text/plain": [
       "<matplotlib.figure.Figure at 0x14b5c7c88>"
      ]
     },
     "metadata": {},
     "output_type": "display_data"
    }
   ],
   "source": [
    "sns.regplot(ytest, regr.predict(xtest))\n",
    "sns.regplot(ytrain, regr.predict(xtrain));"
   ]
  },
  {
   "cell_type": "code",
   "execution_count": 370,
   "metadata": {},
   "outputs": [
    {
     "data": {
      "text/plain": [
       "[<matplotlib.lines.Line2D at 0x14b99a630>]"
      ]
     },
     "execution_count": 370,
     "metadata": {},
     "output_type": "execute_result"
    },
    {
     "data": {
      "image/png": "[encoded data removed]",
      "text/plain": [
       "<matplotlib.figure.Figure at 0x14b99a668>"
      ]
     },
     "metadata": {},
     "output_type": "display_data"
    }
   ],
   "source": [
    "#plt.fill_between(x=range(384), y1=ytest, y2=regr.predict(xtest), interpolate=True)\n",
    "plt.plot(range(384), ytest, label=\"Actual Y test values\", alpha=0.4, color=\"g\", lw=2, ls=\"-\")\n",
    "plt.plot(range(384), regr.predict(xtest), label=\"Predicted Y test values\", alpha=0.3, color=\"r\")"
   ]
  },
  {
   "cell_type": "code",
   "execution_count": 354,
   "metadata": {},
   "outputs": [
    {
     "data": {
      "text/plain": [
       "[<matplotlib.lines.Line2D at 0x14a1edf28>]"
      ]
     },
     "execution_count": 354,
     "metadata": {},
     "output_type": "execute_result"
    },
    {
     "data": {
      "image/png": "[encoded data removed]",
      "text/plain": [
       "<matplotlib.figure.Figure at 0x14a03e630>"
      ]
     },
     "metadata": {},
     "output_type": "display_data"
    }
   ],
   "source": [
    "plt.fill_between(x=range(ytrain.shape[0]), y1=ytrain, y2=regr.predict(xtrain), \n",
    "                 interpolate=True)\n",
    "plt.plot(range(ytrain.shape[0]), ytrain, label=\"Actual Y train values\", alpha=0.3, color=\"g\")\n",
    "plt.plot(range(ytrain.shape[0]), regr.predict(xtrain), label=\"Predicted Y train values\", alpha=0.3, color=\"r\")"
   ]
  },
  {
   "cell_type": "markdown",
   "metadata": {},
   "source": [
    "** Your answer here: ** the mse is 83\n",
    "The predictions have less varibality than actual - they are on trend, so to speak from looking at their plots, but the actual values spike higher and lower than the predicted."
   ]
  },
  {
   "cell_type": "markdown",
   "metadata": {},
   "source": [
    "#### Problem 1(g)\n",
    "\n",
    "Now we will create a similar database for individual players. Consider only player/year combinations in which the player had at least 500 plate appearances. Consider only the years we considered for the calculations above (after 1947 and seasons with 162 games). For each player/year compute singles, doubles, triples, HR, BB per plate appearance rates. Create a new pandas DataFrame called `playerstats` that has the playerID, yearID and the rates of these stats.  Remove the average for each year as for these rates as done in Problem 1(e). "
   ]
  },
  {
   "cell_type": "code",
   "execution_count": 624,
   "metadata": {},
   "outputs": [
    {
     "name": "stdout",
     "output_type": "stream",
     "text": [
      "(102816, 22) (603, 7)\n"
     ]
    },
    {
     "data": {
      "text/html": [
       "<div>\n",
       "<style>\n",
       "    .dataframe thead tr:only-child th {\n",
       "        text-align: right;\n",
       "    }\n",
       "\n",
       "    .dataframe thead th {\n",
       "        text-align: left;\n",
       "    }\n",
       "\n",
       "    .dataframe tbody tr th {\n",
       "        vertical-align: top;\n",
       "    }\n",
       "</style>\n",
       "<table border=\"1\" class=\"dataframe\">\n",
       "  <thead>\n",
       "    <tr style=\"text-align: right;\">\n",
       "      <th></th>\n",
       "      <th>playerID</th>\n",
       "      <th>yearID</th>\n",
       "      <th>1B</th>\n",
       "      <th>2B</th>\n",
       "      <th>3B</th>\n",
       "      <th>HR</th>\n",
       "      <th>BB</th>\n",
       "    </tr>\n",
       "  </thead>\n",
       "  <tbody>\n",
       "    <tr>\n",
       "      <th>41336</th>\n",
       "      <td>brutobi01</td>\n",
       "      <td>1961</td>\n",
       "      <td>0.176560</td>\n",
       "      <td>0.022831</td>\n",
       "      <td>0.007610</td>\n",
       "      <td>0.025875</td>\n",
       "      <td>0.092846</td>\n",
       "    </tr>\n",
       "    <tr>\n",
       "      <th>41386</th>\n",
       "      <td>colavro01</td>\n",
       "      <td>1961</td>\n",
       "      <td>0.132184</td>\n",
       "      <td>0.043103</td>\n",
       "      <td>0.002874</td>\n",
       "      <td>0.064655</td>\n",
       "      <td>0.162356</td>\n",
       "    </tr>\n",
       "    <tr>\n",
       "      <th>41661</th>\n",
       "      <td>marisro01</td>\n",
       "      <td>1961</td>\n",
       "      <td>0.114035</td>\n",
       "      <td>0.023392</td>\n",
       "      <td>0.005848</td>\n",
       "      <td>0.089181</td>\n",
       "      <td>0.137427</td>\n",
       "    </tr>\n",
       "    <tr>\n",
       "      <th>41778</th>\n",
       "      <td>richabo01</td>\n",
       "      <td>1961</td>\n",
       "      <td>0.213873</td>\n",
       "      <td>0.024566</td>\n",
       "      <td>0.007225</td>\n",
       "      <td>0.004335</td>\n",
       "      <td>0.043353</td>\n",
       "    </tr>\n",
       "    <tr>\n",
       "      <th>41785</th>\n",
       "      <td>robinbr01</td>\n",
       "      <td>1961</td>\n",
       "      <td>0.195804</td>\n",
       "      <td>0.053147</td>\n",
       "      <td>0.009790</td>\n",
       "      <td>0.009790</td>\n",
       "      <td>0.065734</td>\n",
       "    </tr>\n",
       "  </tbody>\n",
       "</table>\n",
       "</div>"
      ],
      "text/plain": [
       "        playerID  yearID        1B        2B        3B        HR        BB\n",
       "41336  brutobi01    1961  0.176560  0.022831  0.007610  0.025875  0.092846\n",
       "41386  colavro01    1961  0.132184  0.043103  0.002874  0.064655  0.162356\n",
       "41661  marisro01    1961  0.114035  0.023392  0.005848  0.089181  0.137427\n",
       "41778  richabo01    1961  0.213873  0.024566  0.007225  0.004335  0.043353\n",
       "41785  robinbr01    1961  0.195804  0.053147  0.009790  0.009790  0.065734"
      ]
     },
     "execution_count": 624,
     "metadata": {},
     "output_type": "execute_result"
    }
   ],
   "source": [
    "### Your code here ###\n",
    "\n",
    "playerstats = players[players[\"yearID\"] >= 1947]\n",
    "playerstats = playerstats[playerstats[\"G\"]>=160]\n",
    "\n",
    "# adding in the two new columns\n",
    "playerstats[\"PA\"] = playerstats[\"AB\"] + playerstats[\"BB\"]\n",
    "playerstats[\"1B\"] = playerstats[\"H\"] - playerstats[\"2B\"] - playerstats[\"3B\"] - playerstats[\"HR\"]\n",
    "\n",
    "# convert numbers into rates per appearance\n",
    "for col in [\"1B\", \"2B\", \"3B\", \"HR\", \"BB\"]:\n",
    "    playerstats[col] = playerstats[col] / playerstats[\"PA\"]\n",
    "    \n",
    "# we only want these cols\n",
    "playerstats = playerstats[[\"playerID\", \"yearID\", \"1B\", \"2B\", \"3B\", \"HR\", \"BB\"]]\n",
    "\n",
    "print(players.shape, playerstats.shape)\n",
    "playerstats.head()"
   ]
  },
  {
   "cell_type": "markdown",
   "metadata": {},
   "source": [
    "Now to normalize per year:"
   ]
  },
  {
   "cell_type": "code",
   "execution_count": 625,
   "metadata": {},
   "outputs": [
    {
     "data": {
      "text/plain": [
       "(603, 7)"
      ]
     },
     "execution_count": 625,
     "metadata": {},
     "output_type": "execute_result"
    }
   ],
   "source": [
    "def meanNormalizeRates(df):\n",
    "    \"\"\"takes in a DF and the columns to normalize\"\"\"\n",
    "    cols_to_norm = [\"1B\", \"2B\", \"3B\", \"HR\", \"BB\"]\n",
    "    tempDf = df[cols_to_norm]\n",
    "    df[cols_to_norm] = tempDf - tempDf.mean(axis=0)\n",
    "    return df\n",
    "\n",
    "playerstats = playerstats.groupby('yearID').apply(meanNormalizeRates)\n",
    "playerstats.shape"
   ]
  },
  {
   "cell_type": "markdown",
   "metadata": {},
   "source": [
    "Show the head of the `playerstats` DataFrame. "
   ]
  },
  {
   "cell_type": "code",
   "execution_count": 626,
   "metadata": {},
   "outputs": [
    {
     "data": {
      "text/html": [
       "<div>\n",
       "<style>\n",
       "    .dataframe thead tr:only-child th {\n",
       "        text-align: right;\n",
       "    }\n",
       "\n",
       "    .dataframe thead th {\n",
       "        text-align: left;\n",
       "    }\n",
       "\n",
       "    .dataframe tbody tr th {\n",
       "        vertical-align: top;\n",
       "    }\n",
       "</style>\n",
       "<table border=\"1\" class=\"dataframe\">\n",
       "  <thead>\n",
       "    <tr style=\"text-align: right;\">\n",
       "      <th></th>\n",
       "      <th>playerID</th>\n",
       "      <th>yearID</th>\n",
       "      <th>1B</th>\n",
       "      <th>2B</th>\n",
       "      <th>3B</th>\n",
       "      <th>HR</th>\n",
       "      <th>BB</th>\n",
       "    </tr>\n",
       "  </thead>\n",
       "  <tbody>\n",
       "    <tr>\n",
       "      <th>41336</th>\n",
       "      <td>brutobi01</td>\n",
       "      <td>1961</td>\n",
       "      <td>0.007998</td>\n",
       "      <td>-0.008939</td>\n",
       "      <td>-0.001184</td>\n",
       "      <td>-0.008974</td>\n",
       "      <td>-0.004180</td>\n",
       "    </tr>\n",
       "    <tr>\n",
       "      <th>41386</th>\n",
       "      <td>colavro01</td>\n",
       "      <td>1961</td>\n",
       "      <td>-0.036378</td>\n",
       "      <td>0.011334</td>\n",
       "      <td>-0.005921</td>\n",
       "      <td>0.029806</td>\n",
       "      <td>0.065330</td>\n",
       "    </tr>\n",
       "    <tr>\n",
       "      <th>41661</th>\n",
       "      <td>marisro01</td>\n",
       "      <td>1961</td>\n",
       "      <td>-0.054527</td>\n",
       "      <td>-0.008378</td>\n",
       "      <td>-0.002946</td>\n",
       "      <td>0.054332</td>\n",
       "      <td>0.040400</td>\n",
       "    </tr>\n",
       "    <tr>\n",
       "      <th>41778</th>\n",
       "      <td>richabo01</td>\n",
       "      <td>1961</td>\n",
       "      <td>0.045310</td>\n",
       "      <td>-0.007203</td>\n",
       "      <td>-0.001569</td>\n",
       "      <td>-0.030514</td>\n",
       "      <td>-0.053674</td>\n",
       "    </tr>\n",
       "    <tr>\n",
       "      <th>41785</th>\n",
       "      <td>robinbr01</td>\n",
       "      <td>1961</td>\n",
       "      <td>0.027242</td>\n",
       "      <td>0.021377</td>\n",
       "      <td>0.000996</td>\n",
       "      <td>-0.025059</td>\n",
       "      <td>-0.031292</td>\n",
       "    </tr>\n",
       "  </tbody>\n",
       "</table>\n",
       "</div>"
      ],
      "text/plain": [
       "        playerID  yearID        1B        2B        3B        HR        BB\n",
       "41336  brutobi01    1961  0.007998 -0.008939 -0.001184 -0.008974 -0.004180\n",
       "41386  colavro01    1961 -0.036378  0.011334 -0.005921  0.029806  0.065330\n",
       "41661  marisro01    1961 -0.054527 -0.008378 -0.002946  0.054332  0.040400\n",
       "41778  richabo01    1961  0.045310 -0.007203 -0.001569 -0.030514 -0.053674\n",
       "41785  robinbr01    1961  0.027242  0.021377  0.000996 -0.025059 -0.031292"
      ]
     },
     "execution_count": 626,
     "metadata": {},
     "output_type": "execute_result"
    }
   ],
   "source": [
    "### Your code here ###\n",
    "playerstats.head()"
   ]
  },
  {
   "cell_type": "markdown",
   "metadata": {},
   "source": [
    "#### Problem 1(h)\n",
    "\n",
    "Using the `playerstats` DataFrame created in Problem 1(g), create a new DataFrame called `playerLS` containing the player's lifetime stats. This DataFrame should contain the playerID, the year the player's career started, the year the player's career ended and the player's lifetime average for each of the quantities (singles, doubles, triples, HR, BB). For simplicity we will simply compute the avaerage of the rates by year (a more correct way is to go back to the totals). "
   ]
  },
  {
   "cell_type": "markdown",
   "metadata": {},
   "source": [
    "playerstats from 1g has most of the info, and to get the career start, stop we can either search for the min and mix year for each player or just use the \"debut\" and \"finalGame\" columns from the master table.\n",
    "\n",
    "- debut          Date that player made first major league appearance\n",
    "- finalGame      Date that player made first major league appearance (blank if still active)"
   ]
  },
  {
   "cell_type": "code",
   "execution_count": 627,
   "metadata": {},
   "outputs": [
    {
     "data": {
      "text/html": [
       "<div>\n",
       "<style>\n",
       "    .dataframe thead tr:only-child th {\n",
       "        text-align: right;\n",
       "    }\n",
       "\n",
       "    .dataframe thead th {\n",
       "        text-align: left;\n",
       "    }\n",
       "\n",
       "    .dataframe tbody tr th {\n",
       "        vertical-align: top;\n",
       "    }\n",
       "</style>\n",
       "<table border=\"1\" class=\"dataframe\">\n",
       "  <thead>\n",
       "    <tr style=\"text-align: right;\">\n",
       "      <th></th>\n",
       "      <th>playerID</th>\n",
       "      <th>debut</th>\n",
       "      <th>finalGame</th>\n",
       "    </tr>\n",
       "  </thead>\n",
       "  <tbody>\n",
       "    <tr>\n",
       "      <th>0</th>\n",
       "      <td>aardsda01</td>\n",
       "      <td>2004-04-06</td>\n",
       "      <td>2015-08-23</td>\n",
       "    </tr>\n",
       "    <tr>\n",
       "      <th>1</th>\n",
       "      <td>aaronha01</td>\n",
       "      <td>1954-04-13</td>\n",
       "      <td>1976-10-03</td>\n",
       "    </tr>\n",
       "  </tbody>\n",
       "</table>\n",
       "</div>"
      ],
      "text/plain": [
       "    playerID       debut   finalGame\n",
       "0  aardsda01  2004-04-06  2015-08-23\n",
       "1  aaronha01  1954-04-13  1976-10-03"
      ]
     },
     "execution_count": 627,
     "metadata": {},
     "output_type": "execute_result"
    }
   ],
   "source": [
    "master[[\"playerID\", \"debut\", \"finalGame\"]].head(2)"
   ]
  },
  {
   "cell_type": "code",
   "execution_count": 628,
   "metadata": {},
   "outputs": [
    {
     "data": {
      "text/html": [
       "<div>\n",
       "<style>\n",
       "    .dataframe thead tr:only-child th {\n",
       "        text-align: right;\n",
       "    }\n",
       "\n",
       "    .dataframe thead th {\n",
       "        text-align: left;\n",
       "    }\n",
       "\n",
       "    .dataframe tbody tr th {\n",
       "        vertical-align: top;\n",
       "    }\n",
       "</style>\n",
       "<table border=\"1\" class=\"dataframe\">\n",
       "  <thead>\n",
       "    <tr style=\"text-align: right;\">\n",
       "      <th></th>\n",
       "      <th>playerID</th>\n",
       "      <th>1B</th>\n",
       "      <th>2B</th>\n",
       "      <th>3B</th>\n",
       "      <th>HR</th>\n",
       "      <th>BB</th>\n",
       "    </tr>\n",
       "  </thead>\n",
       "  <tbody>\n",
       "    <tr>\n",
       "      <th>0</th>\n",
       "      <td>aaronha01</td>\n",
       "      <td>-0.007832</td>\n",
       "      <td>0.002895</td>\n",
       "      <td>-0.003433</td>\n",
       "      <td>0.024918</td>\n",
       "      <td>0.023050</td>\n",
       "    </tr>\n",
       "    <tr>\n",
       "      <th>1</th>\n",
       "      <td>abreubo01</td>\n",
       "      <td>-0.014127</td>\n",
       "      <td>0.008774</td>\n",
       "      <td>-0.001982</td>\n",
       "      <td>-0.008251</td>\n",
       "      <td>0.052051</td>\n",
       "    </tr>\n",
       "    <tr>\n",
       "      <th>2</th>\n",
       "      <td>ageeto01</td>\n",
       "      <td>0.009557</td>\n",
       "      <td>0.003229</td>\n",
       "      <td>0.003496</td>\n",
       "      <td>0.001698</td>\n",
       "      <td>-0.027181</td>\n",
       "    </tr>\n",
       "    <tr>\n",
       "      <th>3</th>\n",
       "      <td>allendi01</td>\n",
       "      <td>0.001701</td>\n",
       "      <td>0.007721</td>\n",
       "      <td>0.009833</td>\n",
       "      <td>0.003657</td>\n",
       "      <td>0.014888</td>\n",
       "    </tr>\n",
       "    <tr>\n",
       "      <th>4</th>\n",
       "      <td>alomaro01</td>\n",
       "      <td>0.009168</td>\n",
       "      <td>0.010377</td>\n",
       "      <td>0.008724</td>\n",
       "      <td>-0.015226</td>\n",
       "      <td>-0.014299</td>\n",
       "    </tr>\n",
       "  </tbody>\n",
       "</table>\n",
       "</div>"
      ],
      "text/plain": [
       "    playerID        1B        2B        3B        HR        BB\n",
       "0  aaronha01 -0.007832  0.002895 -0.003433  0.024918  0.023050\n",
       "1  abreubo01 -0.014127  0.008774 -0.001982 -0.008251  0.052051\n",
       "2   ageeto01  0.009557  0.003229  0.003496  0.001698 -0.027181\n",
       "3  allendi01  0.001701  0.007721  0.009833  0.003657  0.014888\n",
       "4  alomaro01  0.009168  0.010377  0.008724 -0.015226 -0.014299"
      ]
     },
     "execution_count": 628,
     "metadata": {},
     "output_type": "execute_result"
    }
   ],
   "source": [
    "### Your code here ###\n",
    "playerLS = playerstats.groupby(\"playerID\").mean().drop(\"yearID\", axis=1).reset_index()\n",
    "playerLS.head()"
   ]
  },
  {
   "cell_type": "code",
   "execution_count": 629,
   "metadata": {},
   "outputs": [
    {
     "data": {
      "text/html": [
       "<div>\n",
       "<style>\n",
       "    .dataframe thead tr:only-child th {\n",
       "        text-align: right;\n",
       "    }\n",
       "\n",
       "    .dataframe thead th {\n",
       "        text-align: left;\n",
       "    }\n",
       "\n",
       "    .dataframe tbody tr th {\n",
       "        vertical-align: top;\n",
       "    }\n",
       "</style>\n",
       "<table border=\"1\" class=\"dataframe\">\n",
       "  <thead>\n",
       "    <tr style=\"text-align: right;\">\n",
       "      <th></th>\n",
       "      <th>playerID</th>\n",
       "      <th>1B</th>\n",
       "      <th>2B</th>\n",
       "      <th>3B</th>\n",
       "      <th>HR</th>\n",
       "      <th>BB</th>\n",
       "      <th>debut</th>\n",
       "      <th>finalGame</th>\n",
       "    </tr>\n",
       "  </thead>\n",
       "  <tbody>\n",
       "    <tr>\n",
       "      <th>0</th>\n",
       "      <td>aaronha01</td>\n",
       "      <td>-0.007832</td>\n",
       "      <td>0.002895</td>\n",
       "      <td>-0.003433</td>\n",
       "      <td>0.024918</td>\n",
       "      <td>0.023050</td>\n",
       "      <td>1954-04-13</td>\n",
       "      <td>1976-10-03</td>\n",
       "    </tr>\n",
       "    <tr>\n",
       "      <th>1</th>\n",
       "      <td>abreubo01</td>\n",
       "      <td>-0.014127</td>\n",
       "      <td>0.008774</td>\n",
       "      <td>-0.001982</td>\n",
       "      <td>-0.008251</td>\n",
       "      <td>0.052051</td>\n",
       "      <td>1996-09-01</td>\n",
       "      <td>2014-09-28</td>\n",
       "    </tr>\n",
       "    <tr>\n",
       "      <th>2</th>\n",
       "      <td>ageeto01</td>\n",
       "      <td>0.009557</td>\n",
       "      <td>0.003229</td>\n",
       "      <td>0.003496</td>\n",
       "      <td>0.001698</td>\n",
       "      <td>-0.027181</td>\n",
       "      <td>1962-09-14</td>\n",
       "      <td>1973-09-30</td>\n",
       "    </tr>\n",
       "    <tr>\n",
       "      <th>3</th>\n",
       "      <td>allendi01</td>\n",
       "      <td>0.001701</td>\n",
       "      <td>0.007721</td>\n",
       "      <td>0.009833</td>\n",
       "      <td>0.003657</td>\n",
       "      <td>0.014888</td>\n",
       "      <td>1963-09-03</td>\n",
       "      <td>1977-06-19</td>\n",
       "    </tr>\n",
       "    <tr>\n",
       "      <th>4</th>\n",
       "      <td>alomaro01</td>\n",
       "      <td>0.009168</td>\n",
       "      <td>0.010377</td>\n",
       "      <td>0.008724</td>\n",
       "      <td>-0.015226</td>\n",
       "      <td>-0.014299</td>\n",
       "      <td>1988-04-22</td>\n",
       "      <td>2004-09-05</td>\n",
       "    </tr>\n",
       "  </tbody>\n",
       "</table>\n",
       "</div>"
      ],
      "text/plain": [
       "    playerID        1B        2B        3B        HR        BB       debut  \\\n",
       "0  aaronha01 -0.007832  0.002895 -0.003433  0.024918  0.023050  1954-04-13   \n",
       "1  abreubo01 -0.014127  0.008774 -0.001982 -0.008251  0.052051  1996-09-01   \n",
       "2   ageeto01  0.009557  0.003229  0.003496  0.001698 -0.027181  1962-09-14   \n",
       "3  allendi01  0.001701  0.007721  0.009833  0.003657  0.014888  1963-09-03   \n",
       "4  alomaro01  0.009168  0.010377  0.008724 -0.015226 -0.014299  1988-04-22   \n",
       "\n",
       "    finalGame  \n",
       "0  1976-10-03  \n",
       "1  2014-09-28  \n",
       "2  1973-09-30  \n",
       "3  1977-06-19  \n",
       "4  2004-09-05  "
      ]
     },
     "execution_count": 629,
     "metadata": {},
     "output_type": "execute_result"
    }
   ],
   "source": [
    "playerLS = playerLS.merge(master[[\"playerID\", \"debut\", \"finalGame\"]], how=\"inner\", on=\"playerID\")\n",
    "playerLS.head()"
   ]
  },
  {
   "cell_type": "markdown",
   "metadata": {},
   "source": [
    "Show the head of the `playerLS` DataFrame. "
   ]
  },
  {
   "cell_type": "code",
   "execution_count": 11,
   "metadata": {},
   "outputs": [],
   "source": [
    "### Your code here ###"
   ]
  },
  {
   "cell_type": "markdown",
   "metadata": {},
   "source": [
    "#### Problem 1(i)\n",
    "\n",
    "Compute the OPW for each player based on the average rates in the `playerLS` DataFrame. You can interpret this summary statistic as the predicted wins for a team with 9 batters exactly like the player in question. Add this column to the playerLS DataFrame. Call this colum OPW."
   ]
  },
  {
   "cell_type": "markdown",
   "metadata": {},
   "source": [
    "offensive predicted wins (OPW)"
   ]
  },
  {
   "cell_type": "code",
   "execution_count": 630,
   "metadata": {},
   "outputs": [
    {
     "data": {
      "text/html": [
       "<div>\n",
       "<style>\n",
       "    .dataframe thead tr:only-child th {\n",
       "        text-align: right;\n",
       "    }\n",
       "\n",
       "    .dataframe thead th {\n",
       "        text-align: left;\n",
       "    }\n",
       "\n",
       "    .dataframe tbody tr th {\n",
       "        vertical-align: top;\n",
       "    }\n",
       "</style>\n",
       "<table border=\"1\" class=\"dataframe\">\n",
       "  <thead>\n",
       "    <tr style=\"text-align: right;\">\n",
       "      <th></th>\n",
       "      <th>playerID</th>\n",
       "      <th>1B</th>\n",
       "      <th>2B</th>\n",
       "      <th>3B</th>\n",
       "      <th>HR</th>\n",
       "      <th>BB</th>\n",
       "      <th>debut</th>\n",
       "      <th>finalGame</th>\n",
       "      <th>OPW</th>\n",
       "    </tr>\n",
       "  </thead>\n",
       "  <tbody>\n",
       "    <tr>\n",
       "      <th>0</th>\n",
       "      <td>aaronha01</td>\n",
       "      <td>-0.007832</td>\n",
       "      <td>0.002895</td>\n",
       "      <td>-0.003433</td>\n",
       "      <td>0.024918</td>\n",
       "      <td>0.023050</td>\n",
       "      <td>1954-04-13</td>\n",
       "      <td>1976-10-03</td>\n",
       "      <td>107.694862</td>\n",
       "    </tr>\n",
       "    <tr>\n",
       "      <th>1</th>\n",
       "      <td>abreubo01</td>\n",
       "      <td>-0.014127</td>\n",
       "      <td>0.008774</td>\n",
       "      <td>-0.001982</td>\n",
       "      <td>-0.008251</td>\n",
       "      <td>0.052051</td>\n",
       "      <td>1996-09-01</td>\n",
       "      <td>2014-09-28</td>\n",
       "      <td>95.462674</td>\n",
       "    </tr>\n",
       "    <tr>\n",
       "      <th>2</th>\n",
       "      <td>ageeto01</td>\n",
       "      <td>0.009557</td>\n",
       "      <td>0.003229</td>\n",
       "      <td>0.003496</td>\n",
       "      <td>0.001698</td>\n",
       "      <td>-0.027181</td>\n",
       "      <td>1962-09-14</td>\n",
       "      <td>1973-09-30</td>\n",
       "      <td>79.155456</td>\n",
       "    </tr>\n",
       "    <tr>\n",
       "      <th>3</th>\n",
       "      <td>allendi01</td>\n",
       "      <td>0.001701</td>\n",
       "      <td>0.007721</td>\n",
       "      <td>0.009833</td>\n",
       "      <td>0.003657</td>\n",
       "      <td>0.014888</td>\n",
       "      <td>1963-09-03</td>\n",
       "      <td>1977-06-19</td>\n",
       "      <td>107.425460</td>\n",
       "    </tr>\n",
       "    <tr>\n",
       "      <th>4</th>\n",
       "      <td>alomaro01</td>\n",
       "      <td>0.009168</td>\n",
       "      <td>0.010377</td>\n",
       "      <td>0.008724</td>\n",
       "      <td>-0.015226</td>\n",
       "      <td>-0.014299</td>\n",
       "      <td>1988-04-22</td>\n",
       "      <td>2004-09-05</td>\n",
       "      <td>80.458396</td>\n",
       "    </tr>\n",
       "  </tbody>\n",
       "</table>\n",
       "</div>"
      ],
      "text/plain": [
       "    playerID        1B        2B        3B        HR        BB       debut  \\\n",
       "0  aaronha01 -0.007832  0.002895 -0.003433  0.024918  0.023050  1954-04-13   \n",
       "1  abreubo01 -0.014127  0.008774 -0.001982 -0.008251  0.052051  1996-09-01   \n",
       "2   ageeto01  0.009557  0.003229  0.003496  0.001698 -0.027181  1962-09-14   \n",
       "3  allendi01  0.001701  0.007721  0.009833  0.003657  0.014888  1963-09-03   \n",
       "4  alomaro01  0.009168  0.010377  0.008724 -0.015226 -0.014299  1988-04-22   \n",
       "\n",
       "    finalGame         OPW  \n",
       "0  1976-10-03  107.694862  \n",
       "1  2014-09-28   95.462674  \n",
       "2  1973-09-30   79.155456  \n",
       "3  1977-06-19  107.425460  \n",
       "4  2004-09-05   80.458396  "
      ]
     },
     "execution_count": 630,
     "metadata": {},
     "output_type": "execute_result"
    }
   ],
   "source": [
    "playerLS[\"OPW\"] = regr.predict(playerLS[[\"1B\", \"2B\", \"3B\", \"HR\", \"BB\"]])\n",
    "playerLS.head()"
   ]
  },
  {
   "cell_type": "markdown",
   "metadata": {},
   "source": [
    "#### Problem 1(j)\n",
    "\n",
    "Add four columns to the `playerLS` DataFrame that contains the player's position (C, 1B, 2B, 3B, SS, LF, CF, RF, or OF), first name, last name and median salary. "
   ]
  },
  {
   "cell_type": "markdown",
   "metadata": {},
   "source": [
    "The fielding table contains the position 'POS', and we alread have the name and median salary in the df `medianSalaries`.\n",
    "\n",
    "First adding the median salaries to the playerLs df:"
   ]
  },
  {
   "cell_type": "code",
   "execution_count": 631,
   "metadata": {},
   "outputs": [
    {
     "data": {
      "text/html": [
       "<div>\n",
       "<style>\n",
       "    .dataframe thead tr:only-child th {\n",
       "        text-align: right;\n",
       "    }\n",
       "\n",
       "    .dataframe thead th {\n",
       "        text-align: left;\n",
       "    }\n",
       "\n",
       "    .dataframe tbody tr th {\n",
       "        vertical-align: top;\n",
       "    }\n",
       "</style>\n",
       "<table border=\"1\" class=\"dataframe\">\n",
       "  <thead>\n",
       "    <tr style=\"text-align: right;\">\n",
       "      <th></th>\n",
       "      <th>playerID</th>\n",
       "      <th>1B</th>\n",
       "      <th>2B</th>\n",
       "      <th>3B</th>\n",
       "      <th>HR</th>\n",
       "      <th>BB</th>\n",
       "      <th>debut</th>\n",
       "      <th>finalGame</th>\n",
       "      <th>OPW</th>\n",
       "      <th>salary</th>\n",
       "      <th>nameFirst</th>\n",
       "      <th>nameLast</th>\n",
       "    </tr>\n",
       "  </thead>\n",
       "  <tbody>\n",
       "    <tr>\n",
       "      <th>0</th>\n",
       "      <td>abreubo01</td>\n",
       "      <td>-0.014127</td>\n",
       "      <td>0.008774</td>\n",
       "      <td>-0.001982</td>\n",
       "      <td>-0.008251</td>\n",
       "      <td>0.052051</td>\n",
       "      <td>1996-09-01</td>\n",
       "      <td>2014-09-28</td>\n",
       "      <td>95.462674</td>\n",
       "      <td>9000000.0</td>\n",
       "      <td>Bobby</td>\n",
       "      <td>Abreu</td>\n",
       "    </tr>\n",
       "    <tr>\n",
       "      <th>1</th>\n",
       "      <td>alomaro01</td>\n",
       "      <td>0.009168</td>\n",
       "      <td>0.010377</td>\n",
       "      <td>0.008724</td>\n",
       "      <td>-0.015226</td>\n",
       "      <td>-0.014299</td>\n",
       "      <td>1988-04-22</td>\n",
       "      <td>2004-09-05</td>\n",
       "      <td>80.458396</td>\n",
       "      <td>5466667.0</td>\n",
       "      <td>Roberto</td>\n",
       "      <td>Alomar</td>\n",
       "    </tr>\n",
       "    <tr>\n",
       "      <th>2</th>\n",
       "      <td>altuvjo01</td>\n",
       "      <td>0.055975</td>\n",
       "      <td>0.010345</td>\n",
       "      <td>0.002287</td>\n",
       "      <td>-0.012276</td>\n",
       "      <td>0.001718</td>\n",
       "      <td>2011-07-20</td>\n",
       "      <td>2016-10-02</td>\n",
       "      <td>109.362671</td>\n",
       "      <td>1250000.0</td>\n",
       "      <td>Jose</td>\n",
       "      <td>Altuve</td>\n",
       "    </tr>\n",
       "    <tr>\n",
       "      <th>3</th>\n",
       "      <td>anderga01</td>\n",
       "      <td>0.034407</td>\n",
       "      <td>0.002158</td>\n",
       "      <td>-0.002039</td>\n",
       "      <td>-0.014866</td>\n",
       "      <td>-0.076270</td>\n",
       "      <td>1994-07-27</td>\n",
       "      <td>2010-08-06</td>\n",
       "      <td>46.572173</td>\n",
       "      <td>3250000.0</td>\n",
       "      <td>Garret</td>\n",
       "      <td>Anderson</td>\n",
       "    </tr>\n",
       "    <tr>\n",
       "      <th>4</th>\n",
       "      <td>andruel01</td>\n",
       "      <td>0.023382</td>\n",
       "      <td>0.001604</td>\n",
       "      <td>0.001352</td>\n",
       "      <td>-0.030660</td>\n",
       "      <td>-0.024045</td>\n",
       "      <td>2009-04-06</td>\n",
       "      <td>2016-10-02</td>\n",
       "      <td>57.419704</td>\n",
       "      <td>3837500.0</td>\n",
       "      <td>Elvis</td>\n",
       "      <td>Andrus</td>\n",
       "    </tr>\n",
       "  </tbody>\n",
       "</table>\n",
       "</div>"
      ],
      "text/plain": [
       "    playerID        1B        2B        3B        HR        BB       debut  \\\n",
       "0  abreubo01 -0.014127  0.008774 -0.001982 -0.008251  0.052051  1996-09-01   \n",
       "1  alomaro01  0.009168  0.010377  0.008724 -0.015226 -0.014299  1988-04-22   \n",
       "2  altuvjo01  0.055975  0.010345  0.002287 -0.012276  0.001718  2011-07-20   \n",
       "3  anderga01  0.034407  0.002158 -0.002039 -0.014866 -0.076270  1994-07-27   \n",
       "4  andruel01  0.023382  0.001604  0.001352 -0.030660 -0.024045  2009-04-06   \n",
       "\n",
       "    finalGame         OPW     salary nameFirst  nameLast  \n",
       "0  2014-09-28   95.462674  9000000.0     Bobby     Abreu  \n",
       "1  2004-09-05   80.458396  5466667.0   Roberto    Alomar  \n",
       "2  2016-10-02  109.362671  1250000.0      Jose    Altuve  \n",
       "3  2010-08-06   46.572173  3250000.0    Garret  Anderson  \n",
       "4  2016-10-02   57.419704  3837500.0     Elvis    Andrus  "
      ]
     },
     "execution_count": 631,
     "metadata": {},
     "output_type": "execute_result"
    }
   ],
   "source": [
    "### Your code here ###\n",
    "playerLS = playerLS.merge(medianSalaries, how=\"inner\", on=\"playerID\")\n",
    "playerLS.head()"
   ]
  },
  {
   "cell_type": "markdown",
   "metadata": {},
   "source": [
    "Now to add in the POS of each player from the fielding table. This is trickier than it looks as the fielding table contains the fielding position for each year, and the playerLS table has only one entry per player. So I'm going to go with the most frequently used fielding position for each player and add that to the playerLS table."
   ]
  },
  {
   "cell_type": "code",
   "execution_count": 632,
   "metadata": {},
   "outputs": [
    {
     "name": "stdout",
     "output_type": "stream",
     "text": [
      "(227, 13)\n"
     ]
    },
    {
     "data": {
      "text/html": [
       "<div>\n",
       "<style>\n",
       "    .dataframe thead tr:only-child th {\n",
       "        text-align: right;\n",
       "    }\n",
       "\n",
       "    .dataframe thead th {\n",
       "        text-align: left;\n",
       "    }\n",
       "\n",
       "    .dataframe tbody tr th {\n",
       "        vertical-align: top;\n",
       "    }\n",
       "</style>\n",
       "<table border=\"1\" class=\"dataframe\">\n",
       "  <thead>\n",
       "    <tr style=\"text-align: right;\">\n",
       "      <th></th>\n",
       "      <th>playerID</th>\n",
       "      <th>1B</th>\n",
       "      <th>2B</th>\n",
       "      <th>3B</th>\n",
       "      <th>HR</th>\n",
       "      <th>BB</th>\n",
       "      <th>debut</th>\n",
       "      <th>finalGame</th>\n",
       "      <th>OPW</th>\n",
       "      <th>salary</th>\n",
       "      <th>nameFirst</th>\n",
       "      <th>nameLast</th>\n",
       "      <th>Pos</th>\n",
       "    </tr>\n",
       "  </thead>\n",
       "  <tbody>\n",
       "    <tr>\n",
       "      <th>0</th>\n",
       "      <td>abreubo01</td>\n",
       "      <td>-0.014127</td>\n",
       "      <td>0.008774</td>\n",
       "      <td>-0.001982</td>\n",
       "      <td>-0.008251</td>\n",
       "      <td>0.052051</td>\n",
       "      <td>1996-09-01</td>\n",
       "      <td>2014-09-28</td>\n",
       "      <td>95.462674</td>\n",
       "      <td>9000000.0</td>\n",
       "      <td>Bobby</td>\n",
       "      <td>Abreu</td>\n",
       "      <td>OF</td>\n",
       "    </tr>\n",
       "    <tr>\n",
       "      <th>1</th>\n",
       "      <td>alomaro01</td>\n",
       "      <td>0.009168</td>\n",
       "      <td>0.010377</td>\n",
       "      <td>0.008724</td>\n",
       "      <td>-0.015226</td>\n",
       "      <td>-0.014299</td>\n",
       "      <td>1988-04-22</td>\n",
       "      <td>2004-09-05</td>\n",
       "      <td>80.458396</td>\n",
       "      <td>5466667.0</td>\n",
       "      <td>Roberto</td>\n",
       "      <td>Alomar</td>\n",
       "      <td>2B</td>\n",
       "    </tr>\n",
       "    <tr>\n",
       "      <th>2</th>\n",
       "      <td>altuvjo01</td>\n",
       "      <td>0.055975</td>\n",
       "      <td>0.010345</td>\n",
       "      <td>0.002287</td>\n",
       "      <td>-0.012276</td>\n",
       "      <td>0.001718</td>\n",
       "      <td>2011-07-20</td>\n",
       "      <td>2016-10-02</td>\n",
       "      <td>109.362671</td>\n",
       "      <td>1250000.0</td>\n",
       "      <td>Jose</td>\n",
       "      <td>Altuve</td>\n",
       "      <td>2B</td>\n",
       "    </tr>\n",
       "    <tr>\n",
       "      <th>3</th>\n",
       "      <td>anderga01</td>\n",
       "      <td>0.034407</td>\n",
       "      <td>0.002158</td>\n",
       "      <td>-0.002039</td>\n",
       "      <td>-0.014866</td>\n",
       "      <td>-0.076270</td>\n",
       "      <td>1994-07-27</td>\n",
       "      <td>2010-08-06</td>\n",
       "      <td>46.572173</td>\n",
       "      <td>3250000.0</td>\n",
       "      <td>Garret</td>\n",
       "      <td>Anderson</td>\n",
       "      <td>OF</td>\n",
       "    </tr>\n",
       "    <tr>\n",
       "      <th>4</th>\n",
       "      <td>andruel01</td>\n",
       "      <td>0.023382</td>\n",
       "      <td>0.001604</td>\n",
       "      <td>0.001352</td>\n",
       "      <td>-0.030660</td>\n",
       "      <td>-0.024045</td>\n",
       "      <td>2009-04-06</td>\n",
       "      <td>2016-10-02</td>\n",
       "      <td>57.419704</td>\n",
       "      <td>3837500.0</td>\n",
       "      <td>Elvis</td>\n",
       "      <td>Andrus</td>\n",
       "      <td>SS</td>\n",
       "    </tr>\n",
       "  </tbody>\n",
       "</table>\n",
       "</div>"
      ],
      "text/plain": [
       "    playerID        1B        2B        3B        HR        BB       debut  \\\n",
       "0  abreubo01 -0.014127  0.008774 -0.001982 -0.008251  0.052051  1996-09-01   \n",
       "1  alomaro01  0.009168  0.010377  0.008724 -0.015226 -0.014299  1988-04-22   \n",
       "2  altuvjo01  0.055975  0.010345  0.002287 -0.012276  0.001718  2011-07-20   \n",
       "3  anderga01  0.034407  0.002158 -0.002039 -0.014866 -0.076270  1994-07-27   \n",
       "4  andruel01  0.023382  0.001604  0.001352 -0.030660 -0.024045  2009-04-06   \n",
       "\n",
       "    finalGame         OPW     salary nameFirst  nameLast Pos  \n",
       "0  2014-09-28   95.462674  9000000.0     Bobby     Abreu  OF  \n",
       "1  2004-09-05   80.458396  5466667.0   Roberto    Alomar  2B  \n",
       "2  2016-10-02  109.362671  1250000.0      Jose    Altuve  2B  \n",
       "3  2010-08-06   46.572173  3250000.0    Garret  Anderson  OF  \n",
       "4  2016-10-02   57.419704  3837500.0     Elvis    Andrus  SS  "
      ]
     },
     "execution_count": 632,
     "metadata": {},
     "output_type": "execute_result"
    }
   ],
   "source": [
    "from collections import Counter\n",
    "\n",
    "def findPosition(df):\n",
    "    \"\"\"takes in a df, and for each row returns a POS by selecting\n",
    "    the most frequent POS for that player from the fielding table\"\"\"\n",
    "    playerID = df[\"playerID\"]\n",
    "    positions = Counter(fielding[fielding[\"playerID\"]==playerID][\"POS\"])\n",
    "    return positions.most_common(1)[0][0]\n",
    "\n",
    "#apply the function to each row:\n",
    "playerLS[\"Pos\"] = playerLS.apply(findPosition, axis=1)\n",
    "print(playerLS.shape)\n",
    "playerLS.head()"
   ]
  },
  {
   "cell_type": "markdown",
   "metadata": {},
   "source": [
    "Show the head of the `playerLS` DataFrame. "
   ]
  },
  {
   "cell_type": "code",
   "execution_count": 14,
   "metadata": {},
   "outputs": [],
   "source": [
    "### Your code here ###"
   ]
  },
  {
   "cell_type": "markdown",
   "metadata": {},
   "source": [
    "#### Problem 1(k)\n",
    "\n",
    "Subset the `playerLS` DataFrame for players active in 2002 and 2003 and played at least three years. Plot and describe the relationship bewteen the median salary (in millions) and the predicted number of wins. "
   ]
  },
  {
   "cell_type": "markdown",
   "metadata": {},
   "source": [
    "First, converting to datetime:"
   ]
  },
  {
   "cell_type": "code",
   "execution_count": 633,
   "metadata": {},
   "outputs": [
    {
     "name": "stdout",
     "output_type": "stream",
     "text": [
      "(227, 13)\n"
     ]
    },
    {
     "data": {
      "text/html": [
       "<div>\n",
       "<style>\n",
       "    .dataframe thead tr:only-child th {\n",
       "        text-align: right;\n",
       "    }\n",
       "\n",
       "    .dataframe thead th {\n",
       "        text-align: left;\n",
       "    }\n",
       "\n",
       "    .dataframe tbody tr th {\n",
       "        vertical-align: top;\n",
       "    }\n",
       "</style>\n",
       "<table border=\"1\" class=\"dataframe\">\n",
       "  <thead>\n",
       "    <tr style=\"text-align: right;\">\n",
       "      <th></th>\n",
       "      <th>playerID</th>\n",
       "      <th>1B</th>\n",
       "      <th>2B</th>\n",
       "      <th>3B</th>\n",
       "      <th>HR</th>\n",
       "      <th>BB</th>\n",
       "      <th>debut</th>\n",
       "      <th>finalGame</th>\n",
       "      <th>OPW</th>\n",
       "      <th>salary</th>\n",
       "      <th>nameFirst</th>\n",
       "      <th>nameLast</th>\n",
       "      <th>Pos</th>\n",
       "    </tr>\n",
       "  </thead>\n",
       "  <tbody>\n",
       "    <tr>\n",
       "      <th>0</th>\n",
       "      <td>abreubo01</td>\n",
       "      <td>-0.014127</td>\n",
       "      <td>0.008774</td>\n",
       "      <td>-0.001982</td>\n",
       "      <td>-0.008251</td>\n",
       "      <td>0.052051</td>\n",
       "      <td>1996-09-01</td>\n",
       "      <td>2014-09-28</td>\n",
       "      <td>95.462674</td>\n",
       "      <td>9000000.0</td>\n",
       "      <td>Bobby</td>\n",
       "      <td>Abreu</td>\n",
       "      <td>OF</td>\n",
       "    </tr>\n",
       "    <tr>\n",
       "      <th>1</th>\n",
       "      <td>alomaro01</td>\n",
       "      <td>0.009168</td>\n",
       "      <td>0.010377</td>\n",
       "      <td>0.008724</td>\n",
       "      <td>-0.015226</td>\n",
       "      <td>-0.014299</td>\n",
       "      <td>1988-04-22</td>\n",
       "      <td>2004-09-05</td>\n",
       "      <td>80.458396</td>\n",
       "      <td>5466667.0</td>\n",
       "      <td>Roberto</td>\n",
       "      <td>Alomar</td>\n",
       "      <td>2B</td>\n",
       "    </tr>\n",
       "  </tbody>\n",
       "</table>\n",
       "</div>"
      ],
      "text/plain": [
       "    playerID        1B        2B        3B        HR        BB      debut  \\\n",
       "0  abreubo01 -0.014127  0.008774 -0.001982 -0.008251  0.052051 1996-09-01   \n",
       "1  alomaro01  0.009168  0.010377  0.008724 -0.015226 -0.014299 1988-04-22   \n",
       "\n",
       "   finalGame        OPW     salary nameFirst nameLast Pos  \n",
       "0 2014-09-28  95.462674  9000000.0     Bobby    Abreu  OF  \n",
       "1 2004-09-05  80.458396  5466667.0   Roberto   Alomar  2B  "
      ]
     },
     "execution_count": 633,
     "metadata": {},
     "output_type": "execute_result"
    }
   ],
   "source": [
    "### Your code here ###\n",
    "playerLS[\"debut\"] = pd.to_datetime(playerLS[\"debut\"])\n",
    "playerLS[\"finalGame\"] = pd.to_datetime(playerLS[\"finalGame\"])\n",
    "print(playerLS.shape)\n",
    "playerLS.head(2)"
   ]
  },
  {
   "cell_type": "markdown",
   "metadata": {},
   "source": [
    "Building a mask to select:"
   ]
  },
  {
   "cell_type": "code",
   "execution_count": 634,
   "metadata": {},
   "outputs": [
    {
     "name": "stdout",
     "output_type": "stream",
     "text": [
      "(78, 13)\n"
     ]
    },
    {
     "data": {
      "text/html": [
       "<div>\n",
       "<style>\n",
       "    .dataframe thead tr:only-child th {\n",
       "        text-align: right;\n",
       "    }\n",
       "\n",
       "    .dataframe thead th {\n",
       "        text-align: left;\n",
       "    }\n",
       "\n",
       "    .dataframe tbody tr th {\n",
       "        vertical-align: top;\n",
       "    }\n",
       "</style>\n",
       "<table border=\"1\" class=\"dataframe\">\n",
       "  <thead>\n",
       "    <tr style=\"text-align: right;\">\n",
       "      <th></th>\n",
       "      <th>playerID</th>\n",
       "      <th>1B</th>\n",
       "      <th>2B</th>\n",
       "      <th>3B</th>\n",
       "      <th>HR</th>\n",
       "      <th>BB</th>\n",
       "      <th>debut</th>\n",
       "      <th>finalGame</th>\n",
       "      <th>OPW</th>\n",
       "      <th>salary</th>\n",
       "      <th>nameFirst</th>\n",
       "      <th>nameLast</th>\n",
       "      <th>Pos</th>\n",
       "    </tr>\n",
       "  </thead>\n",
       "  <tbody>\n",
       "    <tr>\n",
       "      <th>0</th>\n",
       "      <td>abreubo01</td>\n",
       "      <td>-0.014127</td>\n",
       "      <td>0.008774</td>\n",
       "      <td>-0.001982</td>\n",
       "      <td>-0.008251</td>\n",
       "      <td>0.052051</td>\n",
       "      <td>1996-09-01</td>\n",
       "      <td>2014-09-28</td>\n",
       "      <td>95.462674</td>\n",
       "      <td>9000000.0</td>\n",
       "      <td>Bobby</td>\n",
       "      <td>Abreu</td>\n",
       "      <td>OF</td>\n",
       "    </tr>\n",
       "    <tr>\n",
       "      <th>1</th>\n",
       "      <td>alomaro01</td>\n",
       "      <td>0.009168</td>\n",
       "      <td>0.010377</td>\n",
       "      <td>0.008724</td>\n",
       "      <td>-0.015226</td>\n",
       "      <td>-0.014299</td>\n",
       "      <td>1988-04-22</td>\n",
       "      <td>2004-09-05</td>\n",
       "      <td>80.458396</td>\n",
       "      <td>5466667.0</td>\n",
       "      <td>Roberto</td>\n",
       "      <td>Alomar</td>\n",
       "      <td>2B</td>\n",
       "    </tr>\n",
       "    <tr>\n",
       "      <th>3</th>\n",
       "      <td>anderga01</td>\n",
       "      <td>0.034407</td>\n",
       "      <td>0.002158</td>\n",
       "      <td>-0.002039</td>\n",
       "      <td>-0.014866</td>\n",
       "      <td>-0.076270</td>\n",
       "      <td>1994-07-27</td>\n",
       "      <td>2010-08-06</td>\n",
       "      <td>46.572173</td>\n",
       "      <td>3250000.0</td>\n",
       "      <td>Garret</td>\n",
       "      <td>Anderson</td>\n",
       "      <td>OF</td>\n",
       "    </tr>\n",
       "  </tbody>\n",
       "</table>\n",
       "</div>"
      ],
      "text/plain": [
       "    playerID        1B        2B        3B        HR        BB      debut  \\\n",
       "0  abreubo01 -0.014127  0.008774 -0.001982 -0.008251  0.052051 1996-09-01   \n",
       "1  alomaro01  0.009168  0.010377  0.008724 -0.015226 -0.014299 1988-04-22   \n",
       "3  anderga01  0.034407  0.002158 -0.002039 -0.014866 -0.076270 1994-07-27   \n",
       "\n",
       "   finalGame        OPW     salary nameFirst  nameLast Pos  \n",
       "0 2014-09-28  95.462674  9000000.0     Bobby     Abreu  OF  \n",
       "1 2004-09-05  80.458396  5466667.0   Roberto    Alomar  2B  \n",
       "3 2010-08-06  46.572173  3250000.0    Garret  Anderson  OF  "
      ]
     },
     "execution_count": 634,
     "metadata": {},
     "output_type": "execute_result"
    }
   ],
   "source": [
    "mask = (((playerLS[\"finalGame\"].dt.year - playerLS[\"debut\"].dt.year) >= 3) & \n",
    "        (playerLS[\"debut\"].dt.year <= 2002) & \n",
    "        (playerLS[\"finalGame\"].dt.year >= 2003))\n",
    "\n",
    "playeractive = playerLS[mask]\n",
    "print(playeractive.shape)\n",
    "playeractive.head(3)"
   ]
  },
  {
   "cell_type": "code",
   "execution_count": 635,
   "metadata": {},
   "outputs": [
    {
     "name": "stderr",
     "output_type": "stream",
     "text": [
      "/Users/ko/anaconda/lib/python3.6/site-packages/seaborn/linearmodels.py:267: RuntimeWarning: invalid value encountered in log\n",
      "  grid = np.c_[np.ones(len(grid)), np.log(grid)]\n"
     ]
    },
    {
     "data": {
      "text/plain": [
       "(0, 250)"
      ]
     },
     "execution_count": 635,
     "metadata": {},
     "output_type": "execute_result"
    },
    {
     "data": {
      "image/png": "[encoded data removed]",
      "text/plain": [
       "<matplotlib.figure.Figure at 0x151ddc438>"
      ]
     },
     "metadata": {},
     "output_type": "display_data"
    },
    {
     "data": {
      "image/png": "[encoded data removed]",
      "text/plain": [
       "<matplotlib.figure.Figure at 0x151d70b38>"
      ]
     },
     "metadata": {},
     "output_type": "display_data"
    }
   ],
   "source": [
    "x = np.log(playeractive[\"salary\"])\n",
    "sns.lmplot(\"salary\", \"OPW\", data=playeractive, logx=True)\n",
    "plt.ylim(0,250)\n",
    "sns.lmplot(\"salary\", \"OPW\", data=playeractive, hue=\"Pos\", size=6, fit_reg=True)\n",
    "plt.ylim(0,250)"
   ]
  },
  {
   "cell_type": "markdown",
   "metadata": {},
   "source": [
    "in the first chart, there is a lot of OPW variation at the same salary, with a steady inrease with salary. Though the guy on the far right seems vastly overpaid for his OPW. \n",
    "The second chart does a linear regression per position, where there is a lot more varition, though this dataset doesn't have enough points to really say."
   ]
  },
  {
   "cell_type": "markdown",
   "metadata": {},
   "source": [
    "#### Problem 1(l)\n",
    "Pick one players from one of each of these 10 position C, 1B, 2B, 3B, SS, LF, CF, RF, DH, or OF keeping the total median salary of all 10 players below 20 million. Report their averaged predicted wins and total salary."
   ]
  },
  {
   "cell_type": "code",
   "execution_count": 812,
   "metadata": {},
   "outputs": [
    {
     "name": "stdout",
     "output_type": "stream",
     "text": [
      "Salary: 19,225,000, Mean OPW: 85.99\n"
     ]
    },
    {
     "data": {
      "text/html": [
       "<div>\n",
       "<style>\n",
       "    .dataframe thead tr:only-child th {\n",
       "        text-align: right;\n",
       "    }\n",
       "\n",
       "    .dataframe thead th {\n",
       "        text-align: left;\n",
       "    }\n",
       "\n",
       "    .dataframe tbody tr th {\n",
       "        vertical-align: top;\n",
       "    }\n",
       "</style>\n",
       "<table border=\"1\" class=\"dataframe\">\n",
       "  <thead>\n",
       "    <tr style=\"text-align: right;\">\n",
       "      <th></th>\n",
       "      <th>playerID</th>\n",
       "      <th>1B</th>\n",
       "      <th>2B</th>\n",
       "      <th>3B</th>\n",
       "      <th>HR</th>\n",
       "      <th>BB</th>\n",
       "      <th>debut</th>\n",
       "      <th>finalGame</th>\n",
       "      <th>OPW</th>\n",
       "      <th>salary</th>\n",
       "      <th>nameFirst</th>\n",
       "      <th>nameLast</th>\n",
       "      <th>Pos</th>\n",
       "    </tr>\n",
       "  </thead>\n",
       "  <tbody>\n",
       "    <tr>\n",
       "      <th>139</th>\n",
       "      <td>mcgrifr01</td>\n",
       "      <td>-0.045828</td>\n",
       "      <td>-0.004944</td>\n",
       "      <td>-0.002342</td>\n",
       "      <td>0.027440</td>\n",
       "      <td>0.078672</td>\n",
       "      <td>1986-05-17</td>\n",
       "      <td>2004-07-15</td>\n",
       "      <td>115.192971</td>\n",
       "      <td>4275000.0</td>\n",
       "      <td>Fred</td>\n",
       "      <td>McGriff</td>\n",
       "      <td>1B</td>\n",
       "    </tr>\n",
       "    <tr>\n",
       "      <th>22</th>\n",
       "      <td>biggicr01</td>\n",
       "      <td>0.012406</td>\n",
       "      <td>0.006105</td>\n",
       "      <td>-0.000200</td>\n",
       "      <td>-0.015707</td>\n",
       "      <td>0.008167</td>\n",
       "      <td>1988-06-26</td>\n",
       "      <td>2007-09-30</td>\n",
       "      <td>81.420779</td>\n",
       "      <td>4000000.0</td>\n",
       "      <td>Craig</td>\n",
       "      <td>Biggio</td>\n",
       "      <td>2B</td>\n",
       "    </tr>\n",
       "    <tr>\n",
       "      <th>27</th>\n",
       "      <td>booneaa01</td>\n",
       "      <td>-0.025670</td>\n",
       "      <td>0.004521</td>\n",
       "      <td>-0.001056</td>\n",
       "      <td>-0.006579</td>\n",
       "      <td>-0.012648</td>\n",
       "      <td>1997-06-20</td>\n",
       "      <td>2009-10-04</td>\n",
       "      <td>56.273163</td>\n",
       "      <td>925000.0</td>\n",
       "      <td>Aaron</td>\n",
       "      <td>Boone</td>\n",
       "      <td>3B</td>\n",
       "    </tr>\n",
       "    <tr>\n",
       "      <th>176</th>\n",
       "      <td>rolliji01</td>\n",
       "      <td>-0.008713</td>\n",
       "      <td>-0.001946</td>\n",
       "      <td>0.010000</td>\n",
       "      <td>-0.008171</td>\n",
       "      <td>-0.010932</td>\n",
       "      <td>2000-09-17</td>\n",
       "      <td>2016-06-08</td>\n",
       "      <td>73.728189</td>\n",
       "      <td>8000000.0</td>\n",
       "      <td>Jimmy</td>\n",
       "      <td>Rollins</td>\n",
       "      <td>SS</td>\n",
       "    </tr>\n",
       "    <tr>\n",
       "      <th>89</th>\n",
       "      <td>gonzalu01</td>\n",
       "      <td>0.004170</td>\n",
       "      <td>0.003094</td>\n",
       "      <td>0.001470</td>\n",
       "      <td>0.012240</td>\n",
       "      <td>0.012480</td>\n",
       "      <td>1990-09-04</td>\n",
       "      <td>2008-09-28</td>\n",
       "      <td>103.358827</td>\n",
       "      <td>2025000.0</td>\n",
       "      <td>Luis</td>\n",
       "      <td>Gonzalez</td>\n",
       "      <td>OF</td>\n",
       "    </tr>\n",
       "  </tbody>\n",
       "</table>\n",
       "</div>"
      ],
      "text/plain": [
       "      playerID        1B        2B        3B        HR        BB      debut  \\\n",
       "139  mcgrifr01 -0.045828 -0.004944 -0.002342  0.027440  0.078672 1986-05-17   \n",
       "22   biggicr01  0.012406  0.006105 -0.000200 -0.015707  0.008167 1988-06-26   \n",
       "27   booneaa01 -0.025670  0.004521 -0.001056 -0.006579 -0.012648 1997-06-20   \n",
       "176  rolliji01 -0.008713 -0.001946  0.010000 -0.008171 -0.010932 2000-09-17   \n",
       "89   gonzalu01  0.004170  0.003094  0.001470  0.012240  0.012480 1990-09-04   \n",
       "\n",
       "     finalGame         OPW     salary nameFirst  nameLast Pos  \n",
       "139 2004-07-15  115.192971  4275000.0      Fred   McGriff  1B  \n",
       "22  2007-09-30   81.420779  4000000.0     Craig    Biggio  2B  \n",
       "27  2009-10-04   56.273163   925000.0     Aaron     Boone  3B  \n",
       "176 2016-06-08   73.728189  8000000.0     Jimmy   Rollins  SS  \n",
       "89  2008-09-28  103.358827  2025000.0      Luis  Gonzalez  OF  "
      ]
     },
     "execution_count": 812,
     "metadata": {},
     "output_type": "execute_result"
    }
   ],
   "source": [
    "### Your code here ###\n",
    "columns = [\"playerID\", \"Pos\", \"salary\", \"OPW\"]\n",
    "\n",
    "salary_cap = 20*np.power(10, 6)\n",
    "\n",
    "def make_team(salary_cap=salary_cap):\n",
    "    df = pd.DataFrame()\n",
    "    for pos in [\"C\", \"1B\", \"2B\", \"3B\", \"SS\", \"LF\", \"CF\", \"RF\", \"DH\", \"OF\"]:\n",
    "        df_temp = playeractive[playeractive[\"Pos\"]==pos]\n",
    "        if df_temp.shape[0] > 0:\n",
    "            df = df.append(df_temp.sample())\n",
    "    return df\n",
    "\n",
    "scores = []\n",
    "best_team=make_team()\n",
    "              \n",
    "# going to make a bunch of random teams with the salary cap less then 20M\n",
    "for i in range(150):\n",
    "    df = make_team()\n",
    "    while df[\"salary\"].sum() >= salary_cap:\n",
    "        df = make_team()\n",
    "    score = df[\"OPW\"].mean()\n",
    "    scores.append(score)\n",
    "    if score >= max(scores):\n",
    "        best_team = df\n",
    "\n",
    "# The team with the highest mean OPW as per above:\n",
    "print(f\"Salary: {best_team['salary'].sum():,.0f}, Mean OPW: {best_team.OPW.mean():.2f}\")\n",
    "best_team"
   ]
  },
  {
   "cell_type": "code",
   "execution_count": 813,
   "metadata": {},
   "outputs": [
    {
     "data": {
      "image/png": "[encoded data removed]",
      "text/plain": [
       "<matplotlib.figure.Figure at 0x158b8a9e8>"
      ]
     },
     "metadata": {},
     "output_type": "display_data"
    }
   ],
   "source": [
    "sns.distplot(scores)\n",
    "plt.axvline(max(scores), color=\"r\");"
   ]
  },
  {
   "cell_type": "markdown",
   "metadata": {},
   "source": [
    "Note: redo this later, but good enough for now."
   ]
  },
  {
   "cell_type": "markdown",
   "metadata": {},
   "source": [
    "#### Problem 1(m)\n",
    "What do these players outperform in? Singles, doubles, triples HR or BB?"
   ]
  },
  {
   "cell_type": "markdown",
   "metadata": {},
   "source": [
    "so we need to know which of `[\"1B\",\"2B\",\"3B\",\"HR\",\"BB\"]` contributes most to OPW. "
   ]
  },
  {
   "cell_type": "code",
   "execution_count": 816,
   "metadata": {},
   "outputs": [
    {
     "data": {
      "text/plain": [
       "array([ 621.88427825, -340.92979757,  476.95997605,  834.65337277,\n",
       "        442.93047415])"
      ]
     },
     "execution_count": 816,
     "metadata": {},
     "output_type": "execute_result"
    }
   ],
   "source": [
    "regr2 = linear_model.LinearRegression()\n",
    "regr2.fit(best_team[[\"1B\",\"2B\",\"3B\",\"HR\",\"BB\"]], best_team[\"OPW\"])\n",
    "regr2.coef_"
   ]
  },
  {
   "cell_type": "code",
   "execution_count": 817,
   "metadata": {},
   "outputs": [
    {
     "data": {
      "text/html": [
       "<div>\n",
       "<style>\n",
       "    .dataframe thead tr:only-child th {\n",
       "        text-align: right;\n",
       "    }\n",
       "\n",
       "    .dataframe thead th {\n",
       "        text-align: left;\n",
       "    }\n",
       "\n",
       "    .dataframe tbody tr th {\n",
       "        vertical-align: top;\n",
       "    }\n",
       "</style>\n",
       "<table border=\"1\" class=\"dataframe\">\n",
       "  <thead>\n",
       "    <tr style=\"text-align: right;\">\n",
       "      <th></th>\n",
       "      <th>playerID</th>\n",
       "      <th>1B</th>\n",
       "      <th>2B</th>\n",
       "      <th>3B</th>\n",
       "      <th>HR</th>\n",
       "      <th>BB</th>\n",
       "      <th>debut</th>\n",
       "      <th>finalGame</th>\n",
       "      <th>OPW</th>\n",
       "      <th>salary</th>\n",
       "      <th>nameFirst</th>\n",
       "      <th>nameLast</th>\n",
       "      <th>Pos</th>\n",
       "    </tr>\n",
       "  </thead>\n",
       "  <tbody>\n",
       "    <tr>\n",
       "      <th>139</th>\n",
       "      <td>mcgrifr01</td>\n",
       "      <td>-2849.959598</td>\n",
       "      <td>168.544770</td>\n",
       "      <td>-111.708611</td>\n",
       "      <td>2290.289714</td>\n",
       "      <td>3484.623079</td>\n",
       "      <td>1986-05-17</td>\n",
       "      <td>2004-07-15</td>\n",
       "      <td>115.192971</td>\n",
       "      <td>4275000.0</td>\n",
       "      <td>Fred</td>\n",
       "      <td>McGriff</td>\n",
       "      <td>1B</td>\n",
       "    </tr>\n",
       "    <tr>\n",
       "      <th>22</th>\n",
       "      <td>biggicr01</td>\n",
       "      <td>771.524101</td>\n",
       "      <td>-208.147868</td>\n",
       "      <td>-9.523578</td>\n",
       "      <td>-1311.004953</td>\n",
       "      <td>361.722421</td>\n",
       "      <td>1988-06-26</td>\n",
       "      <td>2007-09-30</td>\n",
       "      <td>81.420779</td>\n",
       "      <td>4000000.0</td>\n",
       "      <td>Craig</td>\n",
       "      <td>Biggio</td>\n",
       "      <td>2B</td>\n",
       "    </tr>\n",
       "    <tr>\n",
       "      <th>27</th>\n",
       "      <td>booneaa01</td>\n",
       "      <td>-1596.372187</td>\n",
       "      <td>-154.124887</td>\n",
       "      <td>-50.389977</td>\n",
       "      <td>-549.078708</td>\n",
       "      <td>-560.225737</td>\n",
       "      <td>1997-06-20</td>\n",
       "      <td>2009-10-04</td>\n",
       "      <td>56.273163</td>\n",
       "      <td>925000.0</td>\n",
       "      <td>Aaron</td>\n",
       "      <td>Boone</td>\n",
       "      <td>3B</td>\n",
       "    </tr>\n",
       "    <tr>\n",
       "      <th>176</th>\n",
       "      <td>rolliji01</td>\n",
       "      <td>-541.837860</td>\n",
       "      <td>66.333591</td>\n",
       "      <td>476.965145</td>\n",
       "      <td>-681.958606</td>\n",
       "      <td>-484.191138</td>\n",
       "      <td>2000-09-17</td>\n",
       "      <td>2016-06-08</td>\n",
       "      <td>73.728189</td>\n",
       "      <td>8000000.0</td>\n",
       "      <td>Jimmy</td>\n",
       "      <td>Rollins</td>\n",
       "      <td>SS</td>\n",
       "    </tr>\n",
       "    <tr>\n",
       "      <th>89</th>\n",
       "      <td>gonzalu01</td>\n",
       "      <td>259.351878</td>\n",
       "      <td>-105.476641</td>\n",
       "      <td>70.117467</td>\n",
       "      <td>1021.619694</td>\n",
       "      <td>552.762544</td>\n",
       "      <td>1990-09-04</td>\n",
       "      <td>2008-09-28</td>\n",
       "      <td>103.358827</td>\n",
       "      <td>2025000.0</td>\n",
       "      <td>Luis</td>\n",
       "      <td>Gonzalez</td>\n",
       "      <td>OF</td>\n",
       "    </tr>\n",
       "  </tbody>\n",
       "</table>\n",
       "</div>"
      ],
      "text/plain": [
       "      playerID           1B          2B          3B           HR           BB  \\\n",
       "139  mcgrifr01 -2849.959598  168.544770 -111.708611  2290.289714  3484.623079   \n",
       "22   biggicr01   771.524101 -208.147868   -9.523578 -1311.004953   361.722421   \n",
       "27   booneaa01 -1596.372187 -154.124887  -50.389977  -549.078708  -560.225737   \n",
       "176  rolliji01  -541.837860   66.333591  476.965145  -681.958606  -484.191138   \n",
       "89   gonzalu01   259.351878 -105.476641   70.117467  1021.619694   552.762544   \n",
       "\n",
       "         debut  finalGame         OPW     salary nameFirst  nameLast Pos  \n",
       "139 1986-05-17 2004-07-15  115.192971  4275000.0      Fred   McGriff  1B  \n",
       "22  1988-06-26 2007-09-30   81.420779  4000000.0     Craig    Biggio  2B  \n",
       "27  1997-06-20 2009-10-04   56.273163   925000.0     Aaron     Boone  3B  \n",
       "176 2000-09-17 2016-06-08   73.728189  8000000.0     Jimmy   Rollins  SS  \n",
       "89  1990-09-04 2008-09-28  103.358827  2025000.0      Luis  Gonzalez  OF  "
      ]
     },
     "execution_count": 817,
     "metadata": {},
     "output_type": "execute_result"
    }
   ],
   "source": [
    "df = best_team.copy() \n",
    "df[[\"1B\",\"2B\",\"3B\",\"HR\",\"BB\"]] = df[[\"1B\",\"2B\",\"3B\",\"HR\",\"BB\"]] * regr2.coef_ * 100\n",
    "df"
   ]
  },
  {
   "cell_type": "code",
   "execution_count": 818,
   "metadata": {},
   "outputs": [
    {
     "name": "stdout",
     "output_type": "stream",
     "text": [
      "1B -791.4587330732895\n",
      "2B -46.574206918616504\n",
      "3B 75.0920892529091\n",
      "HR 153.9734283087909\n",
      "BB 670.938233712274\n"
     ]
    }
   ],
   "source": [
    "for pos in [\"1B\",\"2B\",\"3B\",\"HR\",\"BB\"]:\n",
    "    print(pos, df[pos].mean())"
   ]
  },
  {
   "cell_type": "markdown",
   "metadata": {},
   "source": [
    "** Your answer here: ** BB seems to be contributing the most to OPW"
   ]
  },
  {
   "cell_type": "markdown",
   "metadata": {},
   "source": [
    "A better way would be to use a bigger data set to get the regression coef:"
   ]
  },
  {
   "cell_type": "code",
   "execution_count": 819,
   "metadata": {},
   "outputs": [
    {
     "name": "stdout",
     "output_type": "stream",
     "text": [
      "1B -685.2660211999464\n",
      "2B 69.3114948228255\n",
      "3B 172.04358802572847\n",
      "HR 157.48965503691235\n",
      "BB 778.5899413533468\n"
     ]
    }
   ],
   "source": [
    "regr3 = linear_model.LinearRegression()\n",
    "regr3.fit(playerLS[[\"1B\",\"2B\",\"3B\",\"HR\",\"BB\"]], playerLS[\"OPW\"])\n",
    "\n",
    "df = best_team.copy() \n",
    "df[[\"1B\",\"2B\",\"3B\",\"HR\",\"BB\"]] = df[[\"1B\",\"2B\",\"3B\",\"HR\",\"BB\"]] * regr3.coef_ * 100\n",
    "for pos in [\"1B\",\"2B\",\"3B\",\"HR\",\"BB\"]:\n",
    "    print(pos, df[pos].mean())"
   ]
  },
  {
   "cell_type": "markdown",
   "metadata": {},
   "source": [
    "## Discussion for Problem 1\n",
    "\n",
    "*Write a brief discussion of your conclusions to the questions and tasks above in 100 words or less.*\n",
    "\n",
    "---\n",
    "\n",
    "there was a lot of data wrangling into the shape we wanted for analysis. "
   ]
  },
  {
   "cell_type": "markdown",
   "metadata": {},
   "source": [
    "# Problem 2:  $k$-Nearest Neighbors and Cross Validation \n",
    "\n",
    "What is the optimal $k$ for predicting species using $k$-nearest neighbor classification \n",
    "on the four features provided by the iris dataset.\n",
    "\n",
    "In this problem you will get to know the famous iris data set, and use cross validation to select the optimal $k$ for a $k$-nearest neighbor classification. This problem set makes heavy use of the [sklearn](http://scikit-learn.org/stable/) library. In addition to Pandas, it is one of the most useful libraries for data scientists! After completing this homework assignment you will know all the basics to get started with your own machine learning projects in sklearn. \n",
    "\n",
    "Future lectures will give further background information on different classifiers and their specific strengths and weaknesses, but when you have the basics for sklearn down, changing the classifier will boil down to exchanging one to two lines of code.\n",
    "\n",
    "The data set is so popular, that sklearn provides an extra function to load it:"
   ]
  },
  {
   "cell_type": "code",
   "execution_count": 18,
   "metadata": {},
   "outputs": [
    {
     "name": "stdout",
     "output_type": "stream",
     "text": [
      "(150, 4) (150,)\n"
     ]
    }
   ],
   "source": [
    "#load the iris data set\n",
    "iris = sklearn.datasets.load_iris()\n",
    "\n",
    "X = iris.data  \n",
    "Y = iris.target\n",
    "\n",
    "print X.shape, Y.shape"
   ]
  },
  {
   "cell_type": "markdown",
   "metadata": {},
   "source": [
    "#### Problem 2(a) \n",
    "Split the data into a train and a test set. Use a random selection of 33% of the samples as test data. Sklearn provides the [`train_test_split`](http://scikit-learn.org/stable/modules/generated/sklearn.cross_validation.train_test_split.html) function for this purpose. Print the dimensions of all the train and test data sets you have created. "
   ]
  },
  {
   "cell_type": "code",
   "execution_count": 19,
   "metadata": {},
   "outputs": [],
   "source": [
    "### Your code here ###"
   ]
  },
  {
   "cell_type": "markdown",
   "metadata": {},
   "source": [
    "#### Problem 2(b)\n",
    "\n",
    "Examine the data further by looking at the projections to the first two principal components of the data. Use the [`TruncatedSVD`](http://scikit-learn.org/stable/modules/generated/sklearn.decomposition.TruncatedSVD.html) function for this purpose, and create a scatter plot. Use the colors on the scatter plot to represent the different classes in the target data. "
   ]
  },
  {
   "cell_type": "code",
   "execution_count": 20,
   "metadata": {},
   "outputs": [],
   "source": [
    "### Your code here ###"
   ]
  },
  {
   "cell_type": "markdown",
   "metadata": {},
   "source": [
    "#### Problem 2(c) \n",
    "\n",
    "In the lecture we discussed how to use cross validation to estimate the optimal value for $k$ (the number of nearest neighbors to base the classification on). Use ***ten fold cross validation*** to estimate the optimal value for $k$ for the iris data set. \n",
    "\n",
    "**Note**: For your convenience sklearn does not only include the [KNN classifier](http://scikit-learn.org/stable/modules/generated/sklearn.neighbors.KNeighborsClassifier.html), but also a [grid search function](http://scikit-learn.org/stable/modules/generated/sklearn.grid_search.GridSearchCV.html#sklearn.grid_search.GridSearchCV). The function is called grid search, because if you have to optimize more than one parameter, it is common practice to define a range of possible values for each parameter. An exhaustive search then runs over the complete grid defined by all the possible parameter combinations. This can get very computation heavy, but luckily our KNN classifier only requires tuning of a single parameter for this problem set. "
   ]
  },
  {
   "cell_type": "code",
   "execution_count": 21,
   "metadata": {},
   "outputs": [],
   "source": [
    "### Your code here ###"
   ]
  },
  {
   "cell_type": "markdown",
   "metadata": {},
   "source": [
    "#### Problem 2(d)\n",
    "\n",
    "Visualize the result by plotting the score results versus values for $k$. "
   ]
  },
  {
   "cell_type": "code",
   "execution_count": 22,
   "metadata": {},
   "outputs": [],
   "source": [
    "### Your code here ###"
   ]
  },
  {
   "cell_type": "markdown",
   "metadata": {},
   "source": [
    "Verify that the grid search has indeed chosen the right parameter value for $k$."
   ]
  },
  {
   "cell_type": "code",
   "execution_count": 23,
   "metadata": {},
   "outputs": [],
   "source": [
    "### Your code here ###"
   ]
  },
  {
   "cell_type": "markdown",
   "metadata": {},
   "source": [
    "#### Problem 2(e)\n",
    "\n",
    "Test the performance of our tuned KNN classifier on the test set."
   ]
  },
  {
   "cell_type": "code",
   "execution_count": 24,
   "metadata": {},
   "outputs": [],
   "source": [
    "### Your code here ###"
   ]
  },
  {
   "cell_type": "markdown",
   "metadata": {},
   "source": [
    "## Discussion for Problem 2\n",
    "\n",
    "*Write a brief discussion of your conclusions to the questions and tasks above in 100 words or less.*\n",
    "\n",
    "---"
   ]
  },
  {
   "cell_type": "markdown",
   "metadata": {},
   "source": [
    "# Problem 3: The Curse and Blessing of Higher Dimensions\n",
    "\n",
    "In this problem we will investigate the influence of higher dimensional spaces on the classification. The data set is again one of the standard data sets from sklearn. The [digits data set](http://scikit-learn.org/stable/modules/generated/sklearn.datasets.load_digits.html) is similar to the MNIST data set discussed in the lecture. The main difference is, that each digit is represented by an 8x8 pixel image patch, which is considerably smaller than the 28x28 pixels from MNIST. In addition, the gray values are restricted to 16 different values (4 bit), instead of 256 (8 bit) for MNIST. \n",
    "\n",
    "First we again load our data set."
   ]
  },
  {
   "cell_type": "code",
   "execution_count": 25,
   "metadata": {},
   "outputs": [
    {
     "name": "stdout",
     "output_type": "stream",
     "text": [
      "(1797, 64) (1797,)\n"
     ]
    }
   ],
   "source": [
    "digits = sklearn.datasets.load_digits()\n",
    "\n",
    "X = digits.data  \n",
    "Y = digits.target\n",
    "\n",
    "print X.shape, Y.shape"
   ]
  },
  {
   "cell_type": "markdown",
   "metadata": {},
   "source": [
    "#### Problem 3(a) \n",
    "\n",
    "Start with the same steps as in Problem 2. Split the data into train and test set. Use 33% of the samples as test data. Print the dimensions of all the train and test data sets you created. "
   ]
  },
  {
   "cell_type": "code",
   "execution_count": 26,
   "metadata": {},
   "outputs": [],
   "source": [
    "### Your code here ###"
   ]
  },
  {
   "cell_type": "markdown",
   "metadata": {},
   "source": [
    "#### Problem 3(b) \n",
    "\n",
    "Similar to Problem 2(b), create a scatter plot of the projections to the first two PCs.  Use the colors on the scatter plot to represent the different classes in the target data. How well can we separate the classes?\n",
    "\n",
    "**Hint**: Use a `Colormap` in matplotlib to represent the diferent classes in the target data. "
   ]
  },
  {
   "cell_type": "code",
   "execution_count": 27,
   "metadata": {},
   "outputs": [],
   "source": [
    "### Your code here ###"
   ]
  },
  {
   "cell_type": "markdown",
   "metadata": {},
   "source": [
    "Create individual scatter plots using only two classes at a time to explore which classes are most difficult to distinguish in terms of class separability.  You do not need to create scatter plots for all pairwise comparisons, but at least show one. "
   ]
  },
  {
   "cell_type": "code",
   "execution_count": 28,
   "metadata": {},
   "outputs": [],
   "source": [
    "### Your code here ###"
   ]
  },
  {
   "cell_type": "markdown",
   "metadata": {},
   "source": [
    "Give a brief interpretation of the scatter plot. Which classes look like hard to distinguish? Do both feature dimensions contribute to the class separability? "
   ]
  },
  {
   "cell_type": "markdown",
   "metadata": {},
   "source": [
    "** Your answer here: **"
   ]
  },
  {
   "cell_type": "markdown",
   "metadata": {},
   "source": [
    "#### Problem 3(c) \n",
    "\n",
    "Write a **ten-fold cross validation** to estimate the optimal value for $k$ for the digits data set. *However*, this time we are interested in the influence of the number of dimensions we project the data down as well. \n",
    "\n",
    "Extend the cross validation as done for the iris data set, to optimize $k$ for different dimensional projections of the data. Create a boxplot showing test scores for the optimal $k$ for each $d$-dimensional subspace with $d$ ranging from one to ten. The plot should have the scores on the y-axis and the different dimensions $d$ on the x-axis. You can use your favorite plot function for the boxplots. [Seaborn](http://web.stanford.edu/~mwaskom/software/seaborn/index.html) is worth having a look at though. It is a great library for statistical visualization and of course also comes with a [`boxplot`](http://web.stanford.edu/~mwaskom/software/seaborn/generated/seaborn.boxplot.html) function that has simple means for changing the labels on the x-axis."
   ]
  },
  {
   "cell_type": "code",
   "execution_count": 29,
   "metadata": {},
   "outputs": [],
   "source": [
    "### Your cross validation and evaluation code here ###"
   ]
  },
  {
   "cell_type": "code",
   "execution_count": 30,
   "metadata": {},
   "outputs": [],
   "source": [
    "### Your boxplot code here ### "
   ]
  },
  {
   "cell_type": "markdown",
   "metadata": {},
   "source": [
    "Write a short interpretation of the generated plot, answering the following questions:\n",
    "\n",
    "* What trend do you see in the plot for increasing dimensions?\n",
    "\n",
    "* Why do you think this is happening?"
   ]
  },
  {
   "cell_type": "markdown",
   "metadata": {},
   "source": [
    "** Your answer here: **"
   ]
  },
  {
   "cell_type": "markdown",
   "metadata": {},
   "source": [
    "#### Problem 3(d) \n",
    "\n",
    "**For AC209 Students**: Change the boxplot we generated above to also show the optimal value for $k$ chosen by the cross validation grid search. "
   ]
  },
  {
   "cell_type": "code",
   "execution_count": 31,
   "metadata": {},
   "outputs": [],
   "source": [
    "### Your code here ### "
   ]
  },
  {
   "cell_type": "markdown",
   "metadata": {},
   "source": [
    "Write a short interpretation answering the following questions:\n",
    "\n",
    "* Which trend do you observe for the optimal value of $k$?\n",
    "\n",
    "* Why do you think this is happening?"
   ]
  },
  {
   "cell_type": "markdown",
   "metadata": {},
   "source": [
    "** Your answer here: **"
   ]
  },
  {
   "cell_type": "markdown",
   "metadata": {},
   "source": [
    "## Discussion for Problem 3\n",
    "\n",
    "*Write a brief discussion of your conclusions to the questions and tasks above in 100 words or less.*\n",
    "\n",
    "---"
   ]
  },
  {
   "cell_type": "markdown",
   "metadata": {},
   "source": [
    "# Submission Instructions\n",
    "\n",
    "To submit your homework, create a folder named **lastname_firstinitial_hw#** and place your IPython notebooks, data files, and any other files in this folder. Your IPython Notebooks should be completely executed with the results visible in the notebook. We should not have to run any code.  Compress the folder (please use .zip compression) and submit to the CS109 dropbox in the appropriate folder. *If we cannot access your work because these directions are not followed correctly, we will not grade your work.*\n"
   ]
  },
  {
   "cell_type": "code",
   "execution_count": 31,
   "metadata": {},
   "outputs": [],
   "source": []
  }
 ],
 "metadata": {
  "kernelspec": {
   "display_name": "Python 3",
   "language": "python",
   "name": "python3"
  },
  "language_info": {
   "codemirror_mode": {
    "name": "ipython",
    "version": 3
   },
   "file_extension": ".py",
   "mimetype": "text/x-python",
   "name": "python",
   "nbconvert_exporter": "python",
   "pygments_lexer": "ipython3",
   "version": "3.6.1"
  }
 },
 "nbformat": 4,
 "nbformat_minor": 1
}
